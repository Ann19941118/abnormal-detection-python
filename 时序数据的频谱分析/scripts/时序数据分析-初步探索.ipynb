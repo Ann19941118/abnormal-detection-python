{
 "cells": [
  {
   "cell_type": "markdown",
   "metadata": {},
   "source": [
    "# 依赖"
   ]
  },
  {
   "cell_type": "code",
   "execution_count": 19,
   "metadata": {
    "ExecuteTime": {
     "end_time": "2020-03-17T02:21:36.461321Z",
     "start_time": "2020-03-17T02:21:36.453342Z"
    }
   },
   "outputs": [],
   "source": [
    "import pylab\n",
    "import numpy as np\n",
    "import pandas as pd\n",
    "from scipy.fftpack import fft,fftshift,ifft,fftfreq\n",
    "import matplotlib.pyplot as plt\n",
    "from scipy.fftpack import fft,fftshift,ifft,fftfreq\n",
    "from statsmodels.tsa.stattools import adfuller\n",
    "\n",
    "%matplotlib inline"
   ]
  },
  {
   "cell_type": "markdown",
   "metadata": {},
   "source": [
    "# 读取数据"
   ]
  },
  {
   "cell_type": "code",
   "execution_count": 17,
   "metadata": {
    "ExecuteTime": {
     "end_time": "2020-03-17T02:10:59.556675Z",
     "start_time": "2020-03-17T02:10:59.166721Z"
    }
   },
   "outputs": [
    {
     "data": {
      "text/html": [
       "<div>\n",
       "<style scoped>\n",
       "    .dataframe tbody tr th:only-of-type {\n",
       "        vertical-align: middle;\n",
       "    }\n",
       "\n",
       "    .dataframe tbody tr th {\n",
       "        vertical-align: top;\n",
       "    }\n",
       "\n",
       "    .dataframe thead th {\n",
       "        text-align: right;\n",
       "    }\n",
       "</style>\n",
       "<table border=\"1\" class=\"dataframe\">\n",
       "  <thead>\n",
       "    <tr style=\"text-align: right;\">\n",
       "      <th></th>\n",
       "      <th>iActual2</th>\n",
       "      <th>pha2</th>\n",
       "    </tr>\n",
       "    <tr>\n",
       "      <th>dateTime</th>\n",
       "      <th></th>\n",
       "      <th></th>\n",
       "    </tr>\n",
       "  </thead>\n",
       "  <tbody>\n",
       "    <tr>\n",
       "      <th>2020-02-17 16:09:36.780</th>\n",
       "      <td>7.84</td>\n",
       "      <td>43.17</td>\n",
       "    </tr>\n",
       "    <tr>\n",
       "      <th>2020-02-17 16:09:38.730</th>\n",
       "      <td>8.03</td>\n",
       "      <td>41.86</td>\n",
       "    </tr>\n",
       "    <tr>\n",
       "      <th>2020-02-17 16:09:40.860</th>\n",
       "      <td>8.04</td>\n",
       "      <td>41.26</td>\n",
       "    </tr>\n",
       "    <tr>\n",
       "      <th>2020-02-17 16:09:42.810</th>\n",
       "      <td>7.85</td>\n",
       "      <td>40.89</td>\n",
       "    </tr>\n",
       "    <tr>\n",
       "      <th>2020-02-17 16:10:02.750</th>\n",
       "      <td>7.82</td>\n",
       "      <td>44.00</td>\n",
       "    </tr>\n",
       "    <tr>\n",
       "      <th>2020-02-17 16:10:04.110</th>\n",
       "      <td>7.83</td>\n",
       "      <td>41.66</td>\n",
       "    </tr>\n",
       "    <tr>\n",
       "      <th>2020-02-17 16:10:05.780</th>\n",
       "      <td>7.82</td>\n",
       "      <td>44.69</td>\n",
       "    </tr>\n",
       "    <tr>\n",
       "      <th>2020-02-17 16:10:07.640</th>\n",
       "      <td>7.82</td>\n",
       "      <td>43.71</td>\n",
       "    </tr>\n",
       "    <tr>\n",
       "      <th>2020-02-17 16:10:09.290</th>\n",
       "      <td>7.82</td>\n",
       "      <td>41.24</td>\n",
       "    </tr>\n",
       "    <tr>\n",
       "      <th>2020-02-17 16:10:11.030</th>\n",
       "      <td>7.82</td>\n",
       "      <td>43.45</td>\n",
       "    </tr>\n",
       "    <tr>\n",
       "      <th>2020-02-17 16:10:12.630</th>\n",
       "      <td>7.85</td>\n",
       "      <td>41.37</td>\n",
       "    </tr>\n",
       "    <tr>\n",
       "      <th>2020-02-17 16:10:22.010</th>\n",
       "      <td>7.82</td>\n",
       "      <td>45.18</td>\n",
       "    </tr>\n",
       "    <tr>\n",
       "      <th>2020-02-17 16:10:23.700</th>\n",
       "      <td>7.84</td>\n",
       "      <td>42.94</td>\n",
       "    </tr>\n",
       "    <tr>\n",
       "      <th>2020-02-17 16:10:25.650</th>\n",
       "      <td>8.03</td>\n",
       "      <td>41.96</td>\n",
       "    </tr>\n",
       "    <tr>\n",
       "      <th>2020-02-17 16:10:27.780</th>\n",
       "      <td>8.04</td>\n",
       "      <td>41.39</td>\n",
       "    </tr>\n",
       "    <tr>\n",
       "      <th>2020-02-17 16:10:29.730</th>\n",
       "      <td>7.84</td>\n",
       "      <td>41.97</td>\n",
       "    </tr>\n",
       "    <tr>\n",
       "      <th>2020-02-17 16:10:56.810</th>\n",
       "      <td>7.82</td>\n",
       "      <td>44.12</td>\n",
       "    </tr>\n",
       "    <tr>\n",
       "      <th>2020-02-17 16:10:58.200</th>\n",
       "      <td>7.83</td>\n",
       "      <td>41.80</td>\n",
       "    </tr>\n",
       "    <tr>\n",
       "      <th>2020-02-17 16:10:59.870</th>\n",
       "      <td>7.82</td>\n",
       "      <td>45.59</td>\n",
       "    </tr>\n",
       "    <tr>\n",
       "      <th>2020-02-17 16:11:01.760</th>\n",
       "      <td>7.82</td>\n",
       "      <td>44.05</td>\n",
       "    </tr>\n",
       "    <tr>\n",
       "      <th>2020-02-17 16:11:03.380</th>\n",
       "      <td>7.82</td>\n",
       "      <td>42.39</td>\n",
       "    </tr>\n",
       "    <tr>\n",
       "      <th>2020-02-17 16:11:05.120</th>\n",
       "      <td>7.83</td>\n",
       "      <td>42.89</td>\n",
       "    </tr>\n",
       "    <tr>\n",
       "      <th>2020-02-17 16:11:06.720</th>\n",
       "      <td>7.85</td>\n",
       "      <td>40.73</td>\n",
       "    </tr>\n",
       "    <tr>\n",
       "      <th>2020-02-17 16:11:11.860</th>\n",
       "      <td>7.82</td>\n",
       "      <td>33.00</td>\n",
       "    </tr>\n",
       "    <tr>\n",
       "      <th>2020-02-17 16:11:13.930</th>\n",
       "      <td>7.82</td>\n",
       "      <td>31.85</td>\n",
       "    </tr>\n",
       "    <tr>\n",
       "      <th>2020-02-17 16:11:14.280</th>\n",
       "      <td>7.84</td>\n",
       "      <td>34.99</td>\n",
       "    </tr>\n",
       "    <tr>\n",
       "      <th>2020-02-17 16:11:14.300</th>\n",
       "      <td>7.82</td>\n",
       "      <td>37.50</td>\n",
       "    </tr>\n",
       "    <tr>\n",
       "      <th>2020-02-17 16:11:14.490</th>\n",
       "      <td>7.83</td>\n",
       "      <td>34.93</td>\n",
       "    </tr>\n",
       "    <tr>\n",
       "      <th>2020-02-17 16:11:14.520</th>\n",
       "      <td>7.82</td>\n",
       "      <td>44.19</td>\n",
       "    </tr>\n",
       "    <tr>\n",
       "      <th>2020-02-17 16:11:15.490</th>\n",
       "      <td>7.83</td>\n",
       "      <td>30.61</td>\n",
       "    </tr>\n",
       "    <tr>\n",
       "      <th>...</th>\n",
       "      <td>...</td>\n",
       "      <td>...</td>\n",
       "    </tr>\n",
       "    <tr>\n",
       "      <th>2020-02-17 16:18:44.950</th>\n",
       "      <td>7.82</td>\n",
       "      <td>45.09</td>\n",
       "    </tr>\n",
       "    <tr>\n",
       "      <th>2020-02-17 16:18:45.770</th>\n",
       "      <td>7.83</td>\n",
       "      <td>31.94</td>\n",
       "    </tr>\n",
       "    <tr>\n",
       "      <th>2020-02-17 16:18:46.250</th>\n",
       "      <td>7.83</td>\n",
       "      <td>38.06</td>\n",
       "    </tr>\n",
       "    <tr>\n",
       "      <th>2020-02-17 16:18:46.310</th>\n",
       "      <td>7.83</td>\n",
       "      <td>42.64</td>\n",
       "    </tr>\n",
       "    <tr>\n",
       "      <th>2020-02-17 16:18:46.350</th>\n",
       "      <td>7.83</td>\n",
       "      <td>35.25</td>\n",
       "    </tr>\n",
       "    <tr>\n",
       "      <th>2020-02-17 16:18:46.390</th>\n",
       "      <td>7.82</td>\n",
       "      <td>35.77</td>\n",
       "    </tr>\n",
       "    <tr>\n",
       "      <th>2020-02-17 16:18:47.510</th>\n",
       "      <td>7.82</td>\n",
       "      <td>32.80</td>\n",
       "    </tr>\n",
       "    <tr>\n",
       "      <th>2020-02-17 16:18:47.850</th>\n",
       "      <td>7.83</td>\n",
       "      <td>35.68</td>\n",
       "    </tr>\n",
       "    <tr>\n",
       "      <th>2020-02-17 16:18:47.880</th>\n",
       "      <td>7.82</td>\n",
       "      <td>34.84</td>\n",
       "    </tr>\n",
       "    <tr>\n",
       "      <th>2020-02-17 16:18:47.930</th>\n",
       "      <td>7.83</td>\n",
       "      <td>37.79</td>\n",
       "    </tr>\n",
       "    <tr>\n",
       "      <th>2020-02-17 16:18:48.010</th>\n",
       "      <td>7.82</td>\n",
       "      <td>46.00</td>\n",
       "    </tr>\n",
       "    <tr>\n",
       "      <th>2020-02-17 16:18:49.130</th>\n",
       "      <td>7.82</td>\n",
       "      <td>34.25</td>\n",
       "    </tr>\n",
       "    <tr>\n",
       "      <th>2020-02-17 16:18:49.380</th>\n",
       "      <td>7.84</td>\n",
       "      <td>34.81</td>\n",
       "    </tr>\n",
       "    <tr>\n",
       "      <th>2020-02-17 16:18:49.470</th>\n",
       "      <td>7.83</td>\n",
       "      <td>35.56</td>\n",
       "    </tr>\n",
       "    <tr>\n",
       "      <th>2020-02-17 16:18:49.700</th>\n",
       "      <td>7.82</td>\n",
       "      <td>40.01</td>\n",
       "    </tr>\n",
       "    <tr>\n",
       "      <th>2020-02-17 16:18:49.900</th>\n",
       "      <td>7.82</td>\n",
       "      <td>44.33</td>\n",
       "    </tr>\n",
       "    <tr>\n",
       "      <th>2020-02-17 16:18:50.750</th>\n",
       "      <td>7.83</td>\n",
       "      <td>33.89</td>\n",
       "    </tr>\n",
       "    <tr>\n",
       "      <th>2020-02-17 16:18:50.880</th>\n",
       "      <td>7.83</td>\n",
       "      <td>34.67</td>\n",
       "    </tr>\n",
       "    <tr>\n",
       "      <th>2020-02-17 16:18:51.120</th>\n",
       "      <td>7.82</td>\n",
       "      <td>34.64</td>\n",
       "    </tr>\n",
       "    <tr>\n",
       "      <th>2020-02-17 16:18:51.320</th>\n",
       "      <td>7.82</td>\n",
       "      <td>39.41</td>\n",
       "    </tr>\n",
       "    <tr>\n",
       "      <th>2020-02-17 16:18:51.550</th>\n",
       "      <td>7.82</td>\n",
       "      <td>41.98</td>\n",
       "    </tr>\n",
       "    <tr>\n",
       "      <th>2020-02-17 16:18:52.260</th>\n",
       "      <td>8.52</td>\n",
       "      <td>31.07</td>\n",
       "    </tr>\n",
       "    <tr>\n",
       "      <th>2020-02-17 16:18:52.370</th>\n",
       "      <td>7.82</td>\n",
       "      <td>34.30</td>\n",
       "    </tr>\n",
       "    <tr>\n",
       "      <th>2020-02-17 16:18:52.530</th>\n",
       "      <td>8.53</td>\n",
       "      <td>32.26</td>\n",
       "    </tr>\n",
       "    <tr>\n",
       "      <th>2020-02-17 16:18:52.940</th>\n",
       "      <td>7.82</td>\n",
       "      <td>39.44</td>\n",
       "    </tr>\n",
       "    <tr>\n",
       "      <th>2020-02-17 16:18:53.290</th>\n",
       "      <td>7.83</td>\n",
       "      <td>43.39</td>\n",
       "    </tr>\n",
       "    <tr>\n",
       "      <th>2020-02-17 16:18:53.610</th>\n",
       "      <td>8.54</td>\n",
       "      <td>30.34</td>\n",
       "    </tr>\n",
       "    <tr>\n",
       "      <th>2020-02-17 16:18:53.910</th>\n",
       "      <td>8.53</td>\n",
       "      <td>32.77</td>\n",
       "    </tr>\n",
       "    <tr>\n",
       "      <th>2020-02-17 16:18:54.480</th>\n",
       "      <td>7.82</td>\n",
       "      <td>39.06</td>\n",
       "    </tr>\n",
       "    <tr>\n",
       "      <th>2020-02-17 16:18:54.890</th>\n",
       "      <td>7.84</td>\n",
       "      <td>42.54</td>\n",
       "    </tr>\n",
       "  </tbody>\n",
       "</table>\n",
       "<p>603 rows × 2 columns</p>\n",
       "</div>"
      ],
      "text/plain": [
       "                         iActual2   pha2\n",
       "dateTime                                \n",
       "2020-02-17 16:09:36.780      7.84  43.17\n",
       "2020-02-17 16:09:38.730      8.03  41.86\n",
       "2020-02-17 16:09:40.860      8.04  41.26\n",
       "2020-02-17 16:09:42.810      7.85  40.89\n",
       "2020-02-17 16:10:02.750      7.82  44.00\n",
       "2020-02-17 16:10:04.110      7.83  41.66\n",
       "2020-02-17 16:10:05.780      7.82  44.69\n",
       "2020-02-17 16:10:07.640      7.82  43.71\n",
       "2020-02-17 16:10:09.290      7.82  41.24\n",
       "2020-02-17 16:10:11.030      7.82  43.45\n",
       "2020-02-17 16:10:12.630      7.85  41.37\n",
       "2020-02-17 16:10:22.010      7.82  45.18\n",
       "2020-02-17 16:10:23.700      7.84  42.94\n",
       "2020-02-17 16:10:25.650      8.03  41.96\n",
       "2020-02-17 16:10:27.780      8.04  41.39\n",
       "2020-02-17 16:10:29.730      7.84  41.97\n",
       "2020-02-17 16:10:56.810      7.82  44.12\n",
       "2020-02-17 16:10:58.200      7.83  41.80\n",
       "2020-02-17 16:10:59.870      7.82  45.59\n",
       "2020-02-17 16:11:01.760      7.82  44.05\n",
       "2020-02-17 16:11:03.380      7.82  42.39\n",
       "2020-02-17 16:11:05.120      7.83  42.89\n",
       "2020-02-17 16:11:06.720      7.85  40.73\n",
       "2020-02-17 16:11:11.860      7.82  33.00\n",
       "2020-02-17 16:11:13.930      7.82  31.85\n",
       "2020-02-17 16:11:14.280      7.84  34.99\n",
       "2020-02-17 16:11:14.300      7.82  37.50\n",
       "2020-02-17 16:11:14.490      7.83  34.93\n",
       "2020-02-17 16:11:14.520      7.82  44.19\n",
       "2020-02-17 16:11:15.490      7.83  30.61\n",
       "...                           ...    ...\n",
       "2020-02-17 16:18:44.950      7.82  45.09\n",
       "2020-02-17 16:18:45.770      7.83  31.94\n",
       "2020-02-17 16:18:46.250      7.83  38.06\n",
       "2020-02-17 16:18:46.310      7.83  42.64\n",
       "2020-02-17 16:18:46.350      7.83  35.25\n",
       "2020-02-17 16:18:46.390      7.82  35.77\n",
       "2020-02-17 16:18:47.510      7.82  32.80\n",
       "2020-02-17 16:18:47.850      7.83  35.68\n",
       "2020-02-17 16:18:47.880      7.82  34.84\n",
       "2020-02-17 16:18:47.930      7.83  37.79\n",
       "2020-02-17 16:18:48.010      7.82  46.00\n",
       "2020-02-17 16:18:49.130      7.82  34.25\n",
       "2020-02-17 16:18:49.380      7.84  34.81\n",
       "2020-02-17 16:18:49.470      7.83  35.56\n",
       "2020-02-17 16:18:49.700      7.82  40.01\n",
       "2020-02-17 16:18:49.900      7.82  44.33\n",
       "2020-02-17 16:18:50.750      7.83  33.89\n",
       "2020-02-17 16:18:50.880      7.83  34.67\n",
       "2020-02-17 16:18:51.120      7.82  34.64\n",
       "2020-02-17 16:18:51.320      7.82  39.41\n",
       "2020-02-17 16:18:51.550      7.82  41.98\n",
       "2020-02-17 16:18:52.260      8.52  31.07\n",
       "2020-02-17 16:18:52.370      7.82  34.30\n",
       "2020-02-17 16:18:52.530      8.53  32.26\n",
       "2020-02-17 16:18:52.940      7.82  39.44\n",
       "2020-02-17 16:18:53.290      7.83  43.39\n",
       "2020-02-17 16:18:53.610      8.54  30.34\n",
       "2020-02-17 16:18:53.910      8.53  32.77\n",
       "2020-02-17 16:18:54.480      7.82  39.06\n",
       "2020-02-17 16:18:54.890      7.84  42.54\n",
       "\n",
       "[603 rows x 2 columns]"
      ]
     },
     "execution_count": 17,
     "metadata": {},
     "output_type": "execute_result"
    }
   ],
   "source": [
    "y = pd.read_csv('./ExtWeldMeasureProt2_V.csv',header=0, sep=',')\n",
    "y = y[['dateTime','iActual2','pha2']]\n",
    "\n",
    "#转换成时间序列数据\n",
    "y['dateTime'] = pd.to_datetime(y['dateTime'],format='%Y-%m-%d %H:%M:%S')\n",
    "y.index = y['dateTime']\n",
    "y = y[['iActual2','pha2']]\n",
    "y.sort_index()"
   ]
  },
  {
   "cell_type": "markdown",
   "metadata": {},
   "source": [
    "# 数据预处理"
   ]
  },
  {
   "cell_type": "code",
   "execution_count": null,
   "metadata": {},
   "outputs": [],
   "source": [
    "y['dateTime'] = pd.to_datetime(y['dateTime'],format='%Y-%m-%d %H:%M:%S')\n",
    "y.index = y['dateTime']\n",
    "y = y[['iActual2','pha2']]\n",
    "y.sort_index()"
   ]
  },
  {
   "cell_type": "markdown",
   "metadata": {},
   "source": [
    "# 时序检测"
   ]
  },
  {
   "cell_type": "markdown",
   "metadata": {},
   "source": [
    "## 平稳性检验"
   ]
  },
  {
   "cell_type": "markdown",
   "metadata": {},
   "source": [
    "时间序列建模的第一步是消除数据中存在的趋势或周期的影响，以使其平稳。平稳系列是指系列的平均值不再是一个有关于时间的函数。随着趋势数据的增加以及时间的推移，系列的平均值会随时间而增加或减少 (比如随着时间推移房价的稳步上升)。对于周期性数据，系列的平均值随周期波动 (比如每24小时中，温度的上升和降低),有两种方法可用于实现平稳：差分数据或线性回归。差分数据指的是，你计算了两个连续观测中的差异；而线性回归则是，你可以在模型中为了周期性组件采用二进制指示器变量.在我们决定使用哪种方法之前，让我们来研究一下我们的数据。"
   ]
  },
  {
   "cell_type": "markdown",
   "metadata": {},
   "source": [
    "adf_test的返回值\\n\n",
    "Test statistic：代表检验统计量\\n\n",
    "p-value：代表p值检验的概率\\n\n",
    "Lags used：使用的滞后k，autolag=AIC时会自动选择滞后\\n\n",
    "Number of Observations Used：样本数量\\n\n",
    "Critical Value(5%) : 显著性水平为5%的临界值。\\n\n",
    "(1)假设是存在单位根，即不平稳；\\n\n",
    "(2)显著性水平，1%：严格拒绝原假设；5%：拒绝原假设，10%类推。\\n\n",
    "(3)看P值和显著性水平a的大小，p值越小，小于显著性水平的话，就拒绝原假设，认为序列是平稳的；大于的话，不能拒绝，认为是不平稳的\\n\n",
    "(4)看检验统计量和临界值，检验统计量小于临界值的话，就拒绝原假设，认为序列是平稳的；大于的话，不能拒绝，认为是不平稳的"
   ]
  },
  {
   "cell_type": "code",
   "execution_count": 59,
   "metadata": {
    "ExecuteTime": {
     "end_time": "2020-03-17T03:14:40.076022Z",
     "start_time": "2020-03-17T03:14:40.058066Z"
    }
   },
   "outputs": [],
   "source": [
    "def test_stationarity(timeseries):\n",
    "  \n",
    "    rolmean = timeseries.rolling(15).mean()\n",
    "    rolstd = timeseries.rolling(15).std()\n",
    "  \n",
    "    # plot rolling statistics\n",
    "    fig = plt.figure()\n",
    "    fig.add_subplot()\n",
    "    \n",
    "    orig = plt.plot(timeseries,color='blue',label='Orignal')\n",
    "    mean = plt.plot(rolmean,color='red',label='rolling mean')\n",
    "    std = plt.plot(rolstd, color='black', label='Rolling standard deviation')\n",
    "    \n",
    "    plt.legend(loc='best')\n",
    "    plt.title('Rolling Mean & Standard deviation')\n",
    "    plt.show(block=False)\n",
    "    \n",
    "    # Dickey_Fuller test:\n",
    "    \n",
    "    print('Results of Dickey-Fuller Test:')\n",
    "    timeseries1 = np.array(timeseries)\n",
    "    print(timeseries1.shape)\n",
    "    dftest = adfuller(timeseries1, autolag='AIC')\n",
    "    # dftestd的abs输出前一项依次为检验值、p值、滞后数、使用的观测值、各个置信度下的临界值\n",
    "    dfoutput = pd.Series(dftest[0:4],index=['Test Statistic','p-values',\n",
    "                                            '#Lags Used','Number of Observation Used'])\n",
    "    for key,value in dftest[4].items():\n",
    "        dfoutput['Critical value (%s)'%key]=value\n",
    "    \n",
    "    return dfoutput"
   ]
  },
  {
   "cell_type": "code",
   "execution_count": 61,
   "metadata": {
    "ExecuteTime": {
     "end_time": "2020-03-17T03:14:52.678795Z",
     "start_time": "2020-03-17T03:14:52.269888Z"
    }
   },
   "outputs": [
    {
     "data": {
      "image/png": "[encoded data removed]",
      "text/plain": [
       "<Figure size 432x288 with 1 Axes>"
      ]
     },
     "metadata": {
      "needs_background": "light"
     },
     "output_type": "display_data"
    },
    {
     "name": "stdout",
     "output_type": "stream",
     "text": [
      "Results of Dickey-Fuller Test:\n",
      "(603,)\n",
      "Test Statistic               -6.374842e+00\n",
      "p-values                      2.297334e-08\n",
      "#Lags Used                    1.900000e+01\n",
      "Number of Observation Used    5.830000e+02\n",
      "Critical value (1%)          -3.441616e+00\n",
      "Critical value (5%)          -2.866510e+00\n",
      "Critical value (10%)         -2.569417e+00\n",
      "dtype: float64\n"
     ]
    }
   ],
   "source": [
    "dfout = test_stationarity(y['iActual2'])\n",
    "print(dfout)"
   ]
  },
  {
   "cell_type": "markdown",
   "metadata": {},
   "source": [
    "Dickey-Fuller检验结果解读：p_value小于0.05，可以认为该序列为平稳时间序列，不需要再进行平稳化。"
   ]
  },
  {
   "cell_type": "markdown",
   "metadata": {},
   "source": [
    "## 白噪声检验"
   ]
  },
  {
   "cell_type": "code",
   "execution_count": 56,
   "metadata": {
    "ExecuteTime": {
     "end_time": "2020-03-17T03:13:03.904476Z",
     "start_time": "2020-03-17T03:13:03.896494Z"
    }
   },
   "outputs": [],
   "source": [
    "from statsmodels.stats.diagnostic import acorr_ljungbox\n",
    "\n",
    "def test_stochastic(ts,lag):\n",
    "    p_value = acorr_ljungbox(ts,lags=lag)\n",
    "    \n",
    "    return p_value"
   ]
  },
  {
   "cell_type": "code",
   "execution_count": 63,
   "metadata": {
    "ExecuteTime": {
     "end_time": "2020-03-17T03:15:37.608550Z",
     "start_time": "2020-03-17T03:15:37.495501Z"
    }
   },
   "outputs": [
    {
     "data": {
      "text/plain": [
       "(array([ 60.1358979 , 112.18482307]), array([4.22377300e-11, 2.21036817e-18]))"
      ]
     },
     "execution_count": 63,
     "metadata": {},
     "output_type": "execute_result"
    }
   ],
   "source": [
    "test_stochastic(y['iActual2'],[6,12])"
   ]
  },
  {
   "cell_type": "markdown",
   "metadata": {},
   "source": [
    "白噪声检验结果解读：延迟6阶的p值<0.05，因此可以拒绝原假设，认为该序列不是白噪声序列"
   ]
  },
  {
   "cell_type": "markdown",
   "metadata": {},
   "source": [
    "# 傅里叶变换提取特征"
   ]
  },
  {
   "cell_type": "markdown",
   "metadata": {},
   "source": [
    "## 频谱"
   ]
  },
  {
   "cell_type": "code",
   "execution_count": 111,
   "metadata": {
    "ExecuteTime": {
     "end_time": "2020-03-17T06:35:45.248748Z",
     "start_time": "2020-03-17T06:35:45.242756Z"
    }
   },
   "outputs": [],
   "source": [
    "Y = fft(y,n=10)"
   ]
  },
  {
   "cell_type": "code",
   "execution_count": 115,
   "metadata": {
    "ExecuteTime": {
     "end_time": "2020-03-17T06:37:01.954539Z",
     "start_time": "2020-03-17T06:37:01.948556Z"
    }
   },
   "outputs": [
    {
     "data": {
      "text/plain": [
       "numpy.ndarray"
      ]
     },
     "execution_count": 115,
     "metadata": {},
     "output_type": "execute_result"
    }
   ],
   "source": [
    "type(Y)"
   ]
  },
  {
   "cell_type": "code",
   "execution_count": 116,
   "metadata": {
    "ExecuteTime": {
     "end_time": "2020-03-17T06:37:10.236181Z",
     "start_time": "2020-03-17T06:37:10.231184Z"
    }
   },
   "outputs": [
    {
     "name": "stdout",
     "output_type": "stream",
     "text": [
      "(603, 2) (603, 10)\n"
     ]
    }
   ],
   "source": [
    "print(y.shape,Y.shape)"
   ]
  },
  {
   "cell_type": "code",
   "execution_count": 66,
   "metadata": {
    "ExecuteTime": {
     "end_time": "2020-03-17T03:26:43.355505Z",
     "start_time": "2020-03-17T03:26:43.350519Z"
    }
   },
   "outputs": [],
   "source": [
    "shift_Y = fftshift(Y)"
   ]
  },
  {
   "cell_type": "code",
   "execution_count": 67,
   "metadata": {
    "ExecuteTime": {
     "end_time": "2020-03-17T03:26:48.265378Z",
     "start_time": "2020-03-17T03:26:48.256401Z"
    }
   },
   "outputs": [
    {
     "data": {
      "text/plain": [
       "array([[-32.25+0.j,  47.93+0.j],\n",
       "       [-20.84+0.j,  39.88+0.j],\n",
       "       [-22.41+0.j,  38.05+0.j],\n",
       "       ...,\n",
       "       [-22.66+0.j,  39.72+0.j],\n",
       "       [-25.56+0.j,  41.2 +0.j],\n",
       "       [-30.56+0.j,  46.2 +0.j]])"
      ]
     },
     "execution_count": 67,
     "metadata": {},
     "output_type": "execute_result"
    }
   ],
   "source": [
    "shift_Y"
   ]
  },
  {
   "cell_type": "code",
   "execution_count": 69,
   "metadata": {
    "ExecuteTime": {
     "end_time": "2020-03-17T03:29:41.000640Z",
     "start_time": "2020-03-17T03:29:40.550843Z"
    }
   },
   "outputs": [
    {
     "data": {
      "text/plain": [
       "[<matplotlib.lines.Line2D at 0x1e1b85d7358>,\n",
       " <matplotlib.lines.Line2D at 0x1e1bedff550>]"
      ]
     },
     "execution_count": 69,
     "metadata": {},
     "output_type": "execute_result"
    },
    {
     "data": {
      "image/png": "[encoded data removed]",
      "text/plain": [
       "<Figure size 720x864 with 1 Axes>"
      ]
     },
     "metadata": {
      "needs_background": "light"
     },
     "output_type": "display_data"
    }
   ],
   "source": [
    "pos_Y_from_fft = Y[:Y.size//2]\n",
    "pos_Y_from_shift = shift_Y[shift_Y.size//12]\n",
    "plt.figure(figsize=(10,12))\n",
    "plt.subplot(511)\n",
    "plt.plot(y)"
   ]
  },
  {
   "cell_type": "code",
   "execution_count": 70,
   "metadata": {
    "ExecuteTime": {
     "end_time": "2020-03-17T03:30:51.688260Z",
     "start_time": "2020-03-17T03:30:51.347174Z"
    }
   },
   "outputs": [
    {
     "data": {
      "text/plain": [
       "[<matplotlib.lines.Line2D at 0x1e1c0cac940>,\n",
       " <matplotlib.lines.Line2D at 0x1e1c0af8ef0>]"
      ]
     },
     "execution_count": 70,
     "metadata": {},
     "output_type": "execute_result"
    },
    {
     "data": {
      "image/png": "[encoded data removed]",
      "text/plain": [
       "<Figure size 432x288 with 1 Axes>"
      ]
     },
     "metadata": {
      "needs_background": "light"
     },
     "output_type": "display_data"
    }
   ],
   "source": [
    "plt.subplot(512)\n",
    "plt.plot(np.abs(Y))"
   ]
  },
  {
   "cell_type": "code",
   "execution_count": 71,
   "metadata": {
    "ExecuteTime": {
     "end_time": "2020-03-17T03:33:28.391979Z",
     "start_time": "2020-03-17T03:33:28.041915Z"
    }
   },
   "outputs": [
    {
     "data": {
      "text/plain": [
       "[<matplotlib.lines.Line2D at 0x1e1c0d03908>,\n",
       " <matplotlib.lines.Line2D at 0x1e1c0d03a90>]"
      ]
     },
     "execution_count": 71,
     "metadata": {},
     "output_type": "execute_result"
    },
    {
     "data": {
      "image/png": "[encoded data removed]",
      "text/plain": [
       "<Figure size 432x288 with 1 Axes>"
      ]
     },
     "metadata": {
      "needs_background": "light"
     },
     "output_type": "display_data"
    }
   ],
   "source": [
    "plt.subplot(513)\n",
    "plt.plot(np.abs(shift_Y))"
   ]
  },
  {
   "cell_type": "code",
   "execution_count": 72,
   "metadata": {
    "ExecuteTime": {
     "end_time": "2020-03-17T03:33:50.130938Z",
     "start_time": "2020-03-17T03:33:49.790848Z"
    }
   },
   "outputs": [
    {
     "data": {
      "text/plain": [
       "[<matplotlib.lines.Line2D at 0x1e1c0d2bdd8>,\n",
       " <matplotlib.lines.Line2D at 0x1e1c0d2bf28>]"
      ]
     },
     "execution_count": 72,
     "metadata": {},
     "output_type": "execute_result"
    },
    {
     "data": {
      "image/png": "[encoded data removed]",
      "text/plain": [
       "<Figure size 432x288 with 1 Axes>"
      ]
     },
     "metadata": {
      "needs_background": "light"
     },
     "output_type": "display_data"
    }
   ],
   "source": [
    "plt.subplot(514)\n",
    "plt.plot(np.abs(pos_Y_from_fft))"
   ]
  },
  {
   "cell_type": "code",
   "execution_count": 73,
   "metadata": {
    "ExecuteTime": {
     "end_time": "2020-03-17T03:34:10.427552Z",
     "start_time": "2020-03-17T03:34:10.112394Z"
    }
   },
   "outputs": [
    {
     "data": {
      "text/plain": [
       "[<matplotlib.lines.Line2D at 0x1e1c09e0da0>]"
      ]
     },
     "execution_count": 73,
     "metadata": {},
     "output_type": "execute_result"
    },
    {
     "data": {
      "image/png": "[encoded data removed]",
      "text/plain": [
       "<Figure size 432x288 with 1 Axes>"
      ]
     },
     "metadata": {
      "needs_background": "light"
     },
     "output_type": "display_data"
    }
   ],
   "source": [
    "plt.subplot(515)\n",
    "plt.plot(np.abs(pos_Y_from_shift))"
   ]
  },
  {
   "cell_type": "markdown",
   "metadata": {},
   "source": [
    "## 功率谱"
   ]
  },
  {
   "cell_type": "code",
   "execution_count": 76,
   "metadata": {
    "ExecuteTime": {
     "end_time": "2020-03-17T03:43:56.984502Z",
     "start_time": "2020-03-17T03:43:56.601527Z"
    }
   },
   "outputs": [
    {
     "data": {
      "text/plain": [
       "[<matplotlib.lines.Line2D at 0x1e1b894aeb8>,\n",
       " <matplotlib.lines.Line2D at 0x1e1b852a5c0>]"
      ]
     },
     "execution_count": 76,
     "metadata": {},
     "output_type": "execute_result"
    },
    {
     "data": {
      "image/png": "[encoded data removed]",
      "text/plain": [
       "<Figure size 1080x864 with 1 Axes>"
      ]
     },
     "metadata": {
      "needs_background": "light"
     },
     "output_type": "display_data"
    }
   ],
   "source": [
    "num_fft = 1024\n",
    "Y_1 = fft(y, num_fft)\n",
    "Y_1 = np.abs(Y_1)\n",
    "\n",
    "# power spectrum\n",
    "ps = Y**2/num_fft\n",
    "\n",
    "#power spectrum using collerate\n",
    "cor_y = np.correlate(y['iActual2'],y['iActual2'],'same')\n",
    "cor_Y = fft(cor_y,num_fft)\n",
    "\n",
    "ps_cor = np.abs(cor_Y)\n",
    "ps_cor = ps_cor/np.max(ps_cor)\n",
    "\n",
    "plt.figure(figsize=(15,12))\n",
    "plt.subplot(511)\n",
    "plt.plot(y)"
   ]
  },
  {
   "cell_type": "code",
   "execution_count": 77,
   "metadata": {
    "ExecuteTime": {
     "end_time": "2020-03-17T03:45:42.677884Z",
     "start_time": "2020-03-17T03:45:36.236678Z"
    }
   },
   "outputs": [
    {
     "data": {
      "text/plain": [
       "[<matplotlib.lines.Line2D at 0x1e1bcd55e10>,\n",
       " <matplotlib.lines.Line2D at 0x1e1bcd55898>,\n",
       " <matplotlib.lines.Line2D at 0x1e1bcd551d0>,\n",
       " <matplotlib.lines.Line2D at 0x1e1c0a130f0>,\n",
       " <matplotlib.lines.Line2D at 0x1e1c0a13550>,\n",
       " <matplotlib.lines.Line2D at 0x1e1c0a13940>,\n",
       " <matplotlib.lines.Line2D at 0x1e1c0a137f0>,\n",
       " <matplotlib.lines.Line2D at 0x1e1c0d190f0>,\n",
       " <matplotlib.lines.Line2D at 0x1e1c0bc59b0>,\n",
       " <matplotlib.lines.Line2D at 0x1e1c0bc5668>,\n",
       " <matplotlib.lines.Line2D at 0x1e1b85e8630>,\n",
       " <matplotlib.lines.Line2D at 0x1e1c0bc5fd0>,\n",
       " <matplotlib.lines.Line2D at 0x1e1c0a35f98>,\n",
       " <matplotlib.lines.Line2D at 0x1e1c0a35c50>,\n",
       " <matplotlib.lines.Line2D at 0x1e1c0a35908>,\n",
       " <matplotlib.lines.Line2D at 0x1e1c0a355c0>,\n",
       " <matplotlib.lines.Line2D at 0x1e1c0a35278>,\n",
       " <matplotlib.lines.Line2D at 0x1e1c1d7a128>,\n",
       " <matplotlib.lines.Line2D at 0x1e1c1d7a470>,\n",
       " <matplotlib.lines.Line2D at 0x1e1c1d7a7b8>,\n",
       " <matplotlib.lines.Line2D at 0x1e1c1d7ab00>,\n",
       " <matplotlib.lines.Line2D at 0x1e1c1d7ae48>,\n",
       " <matplotlib.lines.Line2D at 0x1e1c1d681d0>,\n",
       " <matplotlib.lines.Line2D at 0x1e1c1d68518>,\n",
       " <matplotlib.lines.Line2D at 0x1e1c1d68860>,\n",
       " <matplotlib.lines.Line2D at 0x1e1c1d68ba8>,\n",
       " <matplotlib.lines.Line2D at 0x1e1c1d68ef0>,\n",
       " <matplotlib.lines.Line2D at 0x1e1c1d55278>,\n",
       " <matplotlib.lines.Line2D at 0x1e1c1d555c0>,\n",
       " <matplotlib.lines.Line2D at 0x1e1c1d55908>,\n",
       " <matplotlib.lines.Line2D at 0x1e1c1d55ba8>,\n",
       " <matplotlib.lines.Line2D at 0x1e1c1d55ef0>,\n",
       " <matplotlib.lines.Line2D at 0x1e1c1d65278>,\n",
       " <matplotlib.lines.Line2D at 0x1e1c1d653c8>,\n",
       " <matplotlib.lines.Line2D at 0x1e1c1d65518>,\n",
       " <matplotlib.lines.Line2D at 0x1e1c1d65668>,\n",
       " <matplotlib.lines.Line2D at 0x1e1c1d657b8>,\n",
       " <matplotlib.lines.Line2D at 0x1e1c1d65908>,\n",
       " <matplotlib.lines.Line2D at 0x1e1c1d650b8>,\n",
       " <matplotlib.lines.Line2D at 0x1e1c1d65208>,\n",
       " <matplotlib.lines.Line2D at 0x1e1baca57f0>,\n",
       " <matplotlib.lines.Line2D at 0x1e1baca5da0>,\n",
       " <matplotlib.lines.Line2D at 0x1e1baca5518>,\n",
       " <matplotlib.lines.Line2D at 0x1e1c0a40a58>,\n",
       " <matplotlib.lines.Line2D at 0x1e1c0a40b00>,\n",
       " <matplotlib.lines.Line2D at 0x1e1c0a40080>,\n",
       " <matplotlib.lines.Line2D at 0x1e1c0a404e0>,\n",
       " <matplotlib.lines.Line2D at 0x1e1c0a402b0>,\n",
       " <matplotlib.lines.Line2D at 0x1e1c0a40f28>,\n",
       " <matplotlib.lines.Line2D at 0x1e1c0bd5048>,\n",
       " <matplotlib.lines.Line2D at 0x1e1c0bd5198>,\n",
       " <matplotlib.lines.Line2D at 0x1e1c0bd52e8>,\n",
       " <matplotlib.lines.Line2D at 0x1e1c0bd5470>,\n",
       " <matplotlib.lines.Line2D at 0x1e1c0bd5630>,\n",
       " <matplotlib.lines.Line2D at 0x1e1c0bd5da0>,\n",
       " <matplotlib.lines.Line2D at 0x1e1c0bd5c50>,\n",
       " <matplotlib.lines.Line2D at 0x1e1c1d6b208>,\n",
       " <matplotlib.lines.Line2D at 0x1e1c1d6b128>,\n",
       " <matplotlib.lines.Line2D at 0x1e1bacb5240>,\n",
       " <matplotlib.lines.Line2D at 0x1e1bacb5358>,\n",
       " <matplotlib.lines.Line2D at 0x1e1bacb54a8>,\n",
       " <matplotlib.lines.Line2D at 0x1e1bacb55f8>,\n",
       " <matplotlib.lines.Line2D at 0x1e1bacb5748>,\n",
       " <matplotlib.lines.Line2D at 0x1e1bacb5898>,\n",
       " <matplotlib.lines.Line2D at 0x1e1bacb59e8>,\n",
       " <matplotlib.lines.Line2D at 0x1e1bacb5b38>,\n",
       " <matplotlib.lines.Line2D at 0x1e1bacb5c88>,\n",
       " <matplotlib.lines.Line2D at 0x1e1bacb5f60>,\n",
       " <matplotlib.lines.Line2D at 0x1e1b924d0b8>,\n",
       " <matplotlib.lines.Line2D at 0x1e1c0a2d3c8>,\n",
       " <matplotlib.lines.Line2D at 0x1e1c0a2d518>,\n",
       " <matplotlib.lines.Line2D at 0x1e1c0a2d940>,\n",
       " <matplotlib.lines.Line2D at 0x1e1c0a2dbe0>,\n",
       " <matplotlib.lines.Line2D at 0x1e1c0a2de80>,\n",
       " <matplotlib.lines.Line2D at 0x1e1c0a314a8>,\n",
       " <matplotlib.lines.Line2D at 0x1e1c0a31668>,\n",
       " <matplotlib.lines.Line2D at 0x1e1c0a31c18>,\n",
       " <matplotlib.lines.Line2D at 0x1e1c0a31dd8>,\n",
       " <matplotlib.lines.Line2D at 0x1e1c0a31518>,\n",
       " <matplotlib.lines.Line2D at 0x1e1c0a31160>,\n",
       " <matplotlib.lines.Line2D at 0x1e1c0a31fd0>,\n",
       " <matplotlib.lines.Line2D at 0x1e1c0a1f860>,\n",
       " <matplotlib.lines.Line2D at 0x1e1c0a1f5c0>,\n",
       " <matplotlib.lines.Line2D at 0x1e1c0a1f710>,\n",
       " <matplotlib.lines.Line2D at 0x1e1c0a1fd30>,\n",
       " <matplotlib.lines.Line2D at 0x1e1bce97470>,\n",
       " <matplotlib.lines.Line2D at 0x1e1bce97128>,\n",
       " <matplotlib.lines.Line2D at 0x1e1bce975f8>,\n",
       " <matplotlib.lines.Line2D at 0x1e1bce97a90>,\n",
       " <matplotlib.lines.Line2D at 0x1e1bce97b38>,\n",
       " <matplotlib.lines.Line2D at 0x1e1bce97c88>,\n",
       " <matplotlib.lines.Line2D at 0x1e1b8547550>,\n",
       " <matplotlib.lines.Line2D at 0x1e1b9254d68>,\n",
       " <matplotlib.lines.Line2D at 0x1e1b9253da0>,\n",
       " <matplotlib.lines.Line2D at 0x1e1b86050f0>,\n",
       " <matplotlib.lines.Line2D at 0x1e1b8605780>,\n",
       " <matplotlib.lines.Line2D at 0x1e1b8605d30>,\n",
       " <matplotlib.lines.Line2D at 0x1e1c0b17358>,\n",
       " <matplotlib.lines.Line2D at 0x1e1baca30b8>,\n",
       " <matplotlib.lines.Line2D at 0x1e1baca3390>,\n",
       " <matplotlib.lines.Line2D at 0x1e1baca3780>,\n",
       " <matplotlib.lines.Line2D at 0x1e1baca3c88>,\n",
       " <matplotlib.lines.Line2D at 0x1e1baca3f98>,\n",
       " <matplotlib.lines.Line2D at 0x1e1c0a192b0>,\n",
       " <matplotlib.lines.Line2D at 0x1e1c0a197f0>,\n",
       " <matplotlib.lines.Line2D at 0x1e1c0a19d30>,\n",
       " <matplotlib.lines.Line2D at 0x1e1bb0dce10>,\n",
       " <matplotlib.lines.Line2D at 0x1e1c0a37470>,\n",
       " <matplotlib.lines.Line2D at 0x1e1c0a371d0>,\n",
       " <matplotlib.lines.Line2D at 0x1e1c0a37ef0>,\n",
       " <matplotlib.lines.Line2D at 0x1e1c0a370f0>,\n",
       " <matplotlib.lines.Line2D at 0x1e1c0a37f60>,\n",
       " <matplotlib.lines.Line2D at 0x1e1bec0fba8>,\n",
       " <matplotlib.lines.Line2D at 0x1e1bec0f1d0>,\n",
       " <matplotlib.lines.Line2D at 0x1e1b8518fd0>,\n",
       " <matplotlib.lines.Line2D at 0x1e1c1d62908>,\n",
       " <matplotlib.lines.Line2D at 0x1e1c1d622b0>,\n",
       " <matplotlib.lines.Line2D at 0x1e1c1d62940>,\n",
       " <matplotlib.lines.Line2D at 0x1e1c1d62828>,\n",
       " <matplotlib.lines.Line2D at 0x1e1c1d62b38>,\n",
       " <matplotlib.lines.Line2D at 0x1e1c1d62c18>,\n",
       " <matplotlib.lines.Line2D at 0x1e1c1d62d30>,\n",
       " <matplotlib.lines.Line2D at 0x1e1c09fcbe0>,\n",
       " <matplotlib.lines.Line2D at 0x1e1c09fcd30>,\n",
       " <matplotlib.lines.Line2D at 0x1e1c09fce80>,\n",
       " <matplotlib.lines.Line2D at 0x1e1c09fcfd0>,\n",
       " <matplotlib.lines.Line2D at 0x1e1c09fc240>,\n",
       " <matplotlib.lines.Line2D at 0x1e1c09fc4e0>,\n",
       " <matplotlib.lines.Line2D at 0x1e1c09fc898>,\n",
       " <matplotlib.lines.Line2D at 0x1e1c09fcb70>,\n",
       " <matplotlib.lines.Line2D at 0x1e1c0a2fef0>,\n",
       " <matplotlib.lines.Line2D at 0x1e1c0a2feb8>,\n",
       " <matplotlib.lines.Line2D at 0x1e1c0a2f390>,\n",
       " <matplotlib.lines.Line2D at 0x1e1c0a2f978>,\n",
       " <matplotlib.lines.Line2D at 0x1e1c0a2fba8>,\n",
       " <matplotlib.lines.Line2D at 0x1e1c0a2f710>,\n",
       " <matplotlib.lines.Line2D at 0x1e1c0a2fd30>,\n",
       " <matplotlib.lines.Line2D at 0x1e1c1d73908>,\n",
       " <matplotlib.lines.Line2D at 0x1e1c1d73c50>,\n",
       " <matplotlib.lines.Line2D at 0x1e1c1d73f98>,\n",
       " <matplotlib.lines.Line2D at 0x1e1bcea0978>,\n",
       " <matplotlib.lines.Line2D at 0x1e1bcea01d0>,\n",
       " <matplotlib.lines.Line2D at 0x1e1bcea0240>,\n",
       " <matplotlib.lines.Line2D at 0x1e1bcea0390>,\n",
       " <matplotlib.lines.Line2D at 0x1e1bcea05f8>,\n",
       " <matplotlib.lines.Line2D at 0x1e1bcea0860>,\n",
       " <matplotlib.lines.Line2D at 0x1e1bcea0da0>,\n",
       " <matplotlib.lines.Line2D at 0x1e1bcea0f98>,\n",
       " <matplotlib.lines.Line2D at 0x1e1bcea35c0>,\n",
       " <matplotlib.lines.Line2D at 0x1e1bcea3080>,\n",
       " <matplotlib.lines.Line2D at 0x1e1bcea32b0>,\n",
       " <matplotlib.lines.Line2D at 0x1e1bcea3588>,\n",
       " <matplotlib.lines.Line2D at 0x1e1bcea3898>,\n",
       " <matplotlib.lines.Line2D at 0x1e1baf16048>,\n",
       " <matplotlib.lines.Line2D at 0x1e1baf16198>,\n",
       " <matplotlib.lines.Line2D at 0x1e1baf162e8>,\n",
       " <matplotlib.lines.Line2D at 0x1e1baf16438>,\n",
       " <matplotlib.lines.Line2D at 0x1e1baf16588>,\n",
       " <matplotlib.lines.Line2D at 0x1e1baf166d8>,\n",
       " <matplotlib.lines.Line2D at 0x1e1baf16828>,\n",
       " <matplotlib.lines.Line2D at 0x1e1baf16978>,\n",
       " <matplotlib.lines.Line2D at 0x1e1baf16ac8>,\n",
       " <matplotlib.lines.Line2D at 0x1e1baf16c18>,\n",
       " <matplotlib.lines.Line2D at 0x1e1baf16d68>,\n",
       " <matplotlib.lines.Line2D at 0x1e1baf16eb8>,\n",
       " <matplotlib.lines.Line2D at 0x1e1baf24048>,\n",
       " <matplotlib.lines.Line2D at 0x1e1baf24198>,\n",
       " <matplotlib.lines.Line2D at 0x1e1baf242e8>,\n",
       " <matplotlib.lines.Line2D at 0x1e1baf24438>,\n",
       " <matplotlib.lines.Line2D at 0x1e1baf24588>,\n",
       " <matplotlib.lines.Line2D at 0x1e1baf246d8>,\n",
       " <matplotlib.lines.Line2D at 0x1e1baf24828>,\n",
       " <matplotlib.lines.Line2D at 0x1e1baf24978>,\n",
       " <matplotlib.lines.Line2D at 0x1e1baf24ac8>,\n",
       " <matplotlib.lines.Line2D at 0x1e1baf24c18>,\n",
       " <matplotlib.lines.Line2D at 0x1e1baf24d68>,\n",
       " <matplotlib.lines.Line2D at 0x1e1baf24eb8>,\n",
       " <matplotlib.lines.Line2D at 0x1e1baf39550>,\n",
       " <matplotlib.lines.Line2D at 0x1e1baf39c18>,\n",
       " <matplotlib.lines.Line2D at 0x1e1baf394a8>,\n",
       " <matplotlib.lines.Line2D at 0x1e1baf392b0>,\n",
       " <matplotlib.lines.Line2D at 0x1e1baf39f28>,\n",
       " <matplotlib.lines.Line2D at 0x1e1baf394e0>,\n",
       " <matplotlib.lines.Line2D at 0x1e1baf390b8>,\n",
       " <matplotlib.lines.Line2D at 0x1e1baf39da0>,\n",
       " <matplotlib.lines.Line2D at 0x1e1baf397b8>,\n",
       " <matplotlib.lines.Line2D at 0x1e1baf398d0>,\n",
       " <matplotlib.lines.Line2D at 0x1e1baf39828>,\n",
       " <matplotlib.lines.Line2D at 0x1e1baf396a0>,\n",
       " <matplotlib.lines.Line2D at 0x1e1baf33048>,\n",
       " <matplotlib.lines.Line2D at 0x1e1baf33198>,\n",
       " <matplotlib.lines.Line2D at 0x1e1baf332e8>,\n",
       " <matplotlib.lines.Line2D at 0x1e1baf33438>,\n",
       " <matplotlib.lines.Line2D at 0x1e1baf33588>,\n",
       " <matplotlib.lines.Line2D at 0x1e1baf336d8>,\n",
       " <matplotlib.lines.Line2D at 0x1e1baf33828>,\n",
       " <matplotlib.lines.Line2D at 0x1e1baf33978>,\n",
       " <matplotlib.lines.Line2D at 0x1e1baf33ac8>,\n",
       " <matplotlib.lines.Line2D at 0x1e1baf33c18>,\n",
       " <matplotlib.lines.Line2D at 0x1e1baf33d68>,\n",
       " <matplotlib.lines.Line2D at 0x1e1baf33eb8>,\n",
       " <matplotlib.lines.Line2D at 0x1e1bec87048>,\n",
       " <matplotlib.lines.Line2D at 0x1e1bec87198>,\n",
       " <matplotlib.lines.Line2D at 0x1e1bec872e8>,\n",
       " <matplotlib.lines.Line2D at 0x1e1bec87438>,\n",
       " <matplotlib.lines.Line2D at 0x1e1bec87588>,\n",
       " <matplotlib.lines.Line2D at 0x1e1bec876d8>,\n",
       " <matplotlib.lines.Line2D at 0x1e1bec87828>,\n",
       " <matplotlib.lines.Line2D at 0x1e1bec87978>,\n",
       " <matplotlib.lines.Line2D at 0x1e1bec87ac8>,\n",
       " <matplotlib.lines.Line2D at 0x1e1bec87c18>,\n",
       " <matplotlib.lines.Line2D at 0x1e1bec87d68>,\n",
       " <matplotlib.lines.Line2D at 0x1e1bec87eb8>,\n",
       " <matplotlib.lines.Line2D at 0x1e1beca2358>,\n",
       " <matplotlib.lines.Line2D at 0x1e1beca2a90>,\n",
       " <matplotlib.lines.Line2D at 0x1e1beca26a0>,\n",
       " <matplotlib.lines.Line2D at 0x1e1beca2208>,\n",
       " <matplotlib.lines.Line2D at 0x1e1beca2e10>,\n",
       " <matplotlib.lines.Line2D at 0x1e1beca2978>,\n",
       " <matplotlib.lines.Line2D at 0x1e1beca2550>,\n",
       " <matplotlib.lines.Line2D at 0x1e1beca2080>,\n",
       " <matplotlib.lines.Line2D at 0x1e1beca2d68>,\n",
       " <matplotlib.lines.Line2D at 0x1e1beca2a58>,\n",
       " <matplotlib.lines.Line2D at 0x1e1beca25f8>,\n",
       " <matplotlib.lines.Line2D at 0x1e1beca22e8>,\n",
       " <matplotlib.lines.Line2D at 0x1e1bec84048>,\n",
       " <matplotlib.lines.Line2D at 0x1e1bec84198>,\n",
       " <matplotlib.lines.Line2D at 0x1e1bec842e8>,\n",
       " <matplotlib.lines.Line2D at 0x1e1bec84438>,\n",
       " <matplotlib.lines.Line2D at 0x1e1bec84588>,\n",
       " <matplotlib.lines.Line2D at 0x1e1bec846d8>,\n",
       " <matplotlib.lines.Line2D at 0x1e1bec84828>,\n",
       " <matplotlib.lines.Line2D at 0x1e1bec84978>,\n",
       " <matplotlib.lines.Line2D at 0x1e1bec84ac8>,\n",
       " <matplotlib.lines.Line2D at 0x1e1bec84c18>,\n",
       " <matplotlib.lines.Line2D at 0x1e1bec84d68>,\n",
       " <matplotlib.lines.Line2D at 0x1e1bec84eb8>,\n",
       " <matplotlib.lines.Line2D at 0x1e1becb1048>,\n",
       " <matplotlib.lines.Line2D at 0x1e1becb1198>,\n",
       " <matplotlib.lines.Line2D at 0x1e1becb12e8>,\n",
       " <matplotlib.lines.Line2D at 0x1e1becb1438>,\n",
       " <matplotlib.lines.Line2D at 0x1e1becb1588>,\n",
       " <matplotlib.lines.Line2D at 0x1e1becb16d8>,\n",
       " <matplotlib.lines.Line2D at 0x1e1becb1828>,\n",
       " <matplotlib.lines.Line2D at 0x1e1becb1978>,\n",
       " <matplotlib.lines.Line2D at 0x1e1becb1ac8>,\n",
       " <matplotlib.lines.Line2D at 0x1e1becb1c18>,\n",
       " <matplotlib.lines.Line2D at 0x1e1becb1d68>,\n",
       " <matplotlib.lines.Line2D at 0x1e1becb1eb8>,\n",
       " <matplotlib.lines.Line2D at 0x1e1becb4048>,\n",
       " <matplotlib.lines.Line2D at 0x1e1becb4198>,\n",
       " <matplotlib.lines.Line2D at 0x1e1becb42e8>,\n",
       " <matplotlib.lines.Line2D at 0x1e1becb4438>,\n",
       " <matplotlib.lines.Line2D at 0x1e1becb4588>,\n",
       " <matplotlib.lines.Line2D at 0x1e1becb46d8>,\n",
       " <matplotlib.lines.Line2D at 0x1e1becb4828>,\n",
       " <matplotlib.lines.Line2D at 0x1e1becb4978>,\n",
       " <matplotlib.lines.Line2D at 0x1e1becb4ac8>,\n",
       " <matplotlib.lines.Line2D at 0x1e1becb4c18>,\n",
       " <matplotlib.lines.Line2D at 0x1e1becb4d68>,\n",
       " <matplotlib.lines.Line2D at 0x1e1becb4eb8>,\n",
       " <matplotlib.lines.Line2D at 0x1e1bec97048>,\n",
       " <matplotlib.lines.Line2D at 0x1e1bec97198>,\n",
       " <matplotlib.lines.Line2D at 0x1e1bec972e8>,\n",
       " <matplotlib.lines.Line2D at 0x1e1bec97438>,\n",
       " <matplotlib.lines.Line2D at 0x1e1bec97588>,\n",
       " <matplotlib.lines.Line2D at 0x1e1bec976d8>,\n",
       " <matplotlib.lines.Line2D at 0x1e1bec97828>,\n",
       " <matplotlib.lines.Line2D at 0x1e1bec97978>,\n",
       " <matplotlib.lines.Line2D at 0x1e1bec97ac8>,\n",
       " <matplotlib.lines.Line2D at 0x1e1bec97c18>,\n",
       " <matplotlib.lines.Line2D at 0x1e1bec97d68>,\n",
       " <matplotlib.lines.Line2D at 0x1e1bec97eb8>,\n",
       " <matplotlib.lines.Line2D at 0x1e1bec8f048>,\n",
       " <matplotlib.lines.Line2D at 0x1e1bec8f198>,\n",
       " <matplotlib.lines.Line2D at 0x1e1bec8f2e8>,\n",
       " <matplotlib.lines.Line2D at 0x1e1bec8f438>,\n",
       " <matplotlib.lines.Line2D at 0x1e1bec8f588>,\n",
       " <matplotlib.lines.Line2D at 0x1e1bec8f6d8>,\n",
       " <matplotlib.lines.Line2D at 0x1e1bec8f828>,\n",
       " <matplotlib.lines.Line2D at 0x1e1bec8f978>,\n",
       " <matplotlib.lines.Line2D at 0x1e1bec8fac8>,\n",
       " <matplotlib.lines.Line2D at 0x1e1bec8fc18>,\n",
       " <matplotlib.lines.Line2D at 0x1e1bec8fd68>,\n",
       " <matplotlib.lines.Line2D at 0x1e1bec8feb8>,\n",
       " <matplotlib.lines.Line2D at 0x1e1bec8a048>,\n",
       " <matplotlib.lines.Line2D at 0x1e1bec8a198>,\n",
       " <matplotlib.lines.Line2D at 0x1e1bec8a2e8>,\n",
       " <matplotlib.lines.Line2D at 0x1e1bec8a438>,\n",
       " <matplotlib.lines.Line2D at 0x1e1bec8a588>,\n",
       " <matplotlib.lines.Line2D at 0x1e1bec8a6d8>,\n",
       " <matplotlib.lines.Line2D at 0x1e1bec8a828>,\n",
       " <matplotlib.lines.Line2D at 0x1e1bec8a978>,\n",
       " <matplotlib.lines.Line2D at 0x1e1bec8aac8>,\n",
       " <matplotlib.lines.Line2D at 0x1e1bec8ac18>,\n",
       " <matplotlib.lines.Line2D at 0x1e1bec8ad68>,\n",
       " <matplotlib.lines.Line2D at 0x1e1bec8aeb8>,\n",
       " <matplotlib.lines.Line2D at 0x1e1b8864048>,\n",
       " <matplotlib.lines.Line2D at 0x1e1b8864198>,\n",
       " <matplotlib.lines.Line2D at 0x1e1b88642e8>,\n",
       " <matplotlib.lines.Line2D at 0x1e1b8864438>,\n",
       " <matplotlib.lines.Line2D at 0x1e1b8864588>,\n",
       " <matplotlib.lines.Line2D at 0x1e1b88646d8>,\n",
       " <matplotlib.lines.Line2D at 0x1e1b8864828>,\n",
       " <matplotlib.lines.Line2D at 0x1e1b8864978>,\n",
       " <matplotlib.lines.Line2D at 0x1e1b8864ac8>,\n",
       " <matplotlib.lines.Line2D at 0x1e1b8864c18>,\n",
       " <matplotlib.lines.Line2D at 0x1e1b8864d68>,\n",
       " <matplotlib.lines.Line2D at 0x1e1b8864eb8>,\n",
       " <matplotlib.lines.Line2D at 0x1e1b8865048>,\n",
       " <matplotlib.lines.Line2D at 0x1e1b8865198>,\n",
       " <matplotlib.lines.Line2D at 0x1e1b88652e8>,\n",
       " <matplotlib.lines.Line2D at 0x1e1b8865438>,\n",
       " <matplotlib.lines.Line2D at 0x1e1b8865588>,\n",
       " <matplotlib.lines.Line2D at 0x1e1b88656d8>,\n",
       " <matplotlib.lines.Line2D at 0x1e1b8865828>,\n",
       " <matplotlib.lines.Line2D at 0x1e1b8865978>,\n",
       " <matplotlib.lines.Line2D at 0x1e1b8865ac8>,\n",
       " <matplotlib.lines.Line2D at 0x1e1b8865c18>,\n",
       " <matplotlib.lines.Line2D at 0x1e1b8865d68>,\n",
       " <matplotlib.lines.Line2D at 0x1e1b8865eb8>,\n",
       " <matplotlib.lines.Line2D at 0x1e1b8854048>,\n",
       " <matplotlib.lines.Line2D at 0x1e1b8854198>,\n",
       " <matplotlib.lines.Line2D at 0x1e1b88542e8>,\n",
       " <matplotlib.lines.Line2D at 0x1e1b8854438>,\n",
       " <matplotlib.lines.Line2D at 0x1e1b8854588>,\n",
       " <matplotlib.lines.Line2D at 0x1e1b88546d8>,\n",
       " <matplotlib.lines.Line2D at 0x1e1b8854828>,\n",
       " <matplotlib.lines.Line2D at 0x1e1b8854978>,\n",
       " <matplotlib.lines.Line2D at 0x1e1b8854ac8>,\n",
       " <matplotlib.lines.Line2D at 0x1e1b8854c18>,\n",
       " <matplotlib.lines.Line2D at 0x1e1b8854d68>,\n",
       " <matplotlib.lines.Line2D at 0x1e1b8854eb8>,\n",
       " <matplotlib.lines.Line2D at 0x1e1b886df60>,\n",
       " <matplotlib.lines.Line2D at 0x1e1b886d908>,\n",
       " <matplotlib.lines.Line2D at 0x1e1b886d780>,\n",
       " <matplotlib.lines.Line2D at 0x1e1b886df98>,\n",
       " <matplotlib.lines.Line2D at 0x1e1b886d400>,\n",
       " <matplotlib.lines.Line2D at 0x1e1b886d8d0>,\n",
       " <matplotlib.lines.Line2D at 0x1e1b886d550>,\n",
       " <matplotlib.lines.Line2D at 0x1e1b886d1d0>,\n",
       " <matplotlib.lines.Line2D at 0x1e1b886d0b8>,\n",
       " <matplotlib.lines.Line2D at 0x1e1b886de10>,\n",
       " <matplotlib.lines.Line2D at 0x1e1b886da20>,\n",
       " <matplotlib.lines.Line2D at 0x1e1b886d4e0>,\n",
       " <matplotlib.lines.Line2D at 0x1e1b887b048>,\n",
       " <matplotlib.lines.Line2D at 0x1e1b887b198>,\n",
       " <matplotlib.lines.Line2D at 0x1e1b887b2e8>,\n",
       " <matplotlib.lines.Line2D at 0x1e1b887b438>,\n",
       " <matplotlib.lines.Line2D at 0x1e1b887b588>,\n",
       " <matplotlib.lines.Line2D at 0x1e1b887b6d8>,\n",
       " <matplotlib.lines.Line2D at 0x1e1b887b828>,\n",
       " <matplotlib.lines.Line2D at 0x1e1b887b978>,\n",
       " <matplotlib.lines.Line2D at 0x1e1b887bac8>,\n",
       " <matplotlib.lines.Line2D at 0x1e1b887bc18>,\n",
       " <matplotlib.lines.Line2D at 0x1e1b887bd68>,\n",
       " <matplotlib.lines.Line2D at 0x1e1b887beb8>,\n",
       " <matplotlib.lines.Line2D at 0x1e1b887e048>,\n",
       " <matplotlib.lines.Line2D at 0x1e1b887e198>,\n",
       " <matplotlib.lines.Line2D at 0x1e1b887e2e8>,\n",
       " <matplotlib.lines.Line2D at 0x1e1b887e438>,\n",
       " <matplotlib.lines.Line2D at 0x1e1b887e588>,\n",
       " <matplotlib.lines.Line2D at 0x1e1b887e6d8>,\n",
       " <matplotlib.lines.Line2D at 0x1e1b887e828>,\n",
       " <matplotlib.lines.Line2D at 0x1e1b887e978>,\n",
       " <matplotlib.lines.Line2D at 0x1e1b887eac8>,\n",
       " <matplotlib.lines.Line2D at 0x1e1b887ec18>,\n",
       " <matplotlib.lines.Line2D at 0x1e1b887ed68>,\n",
       " <matplotlib.lines.Line2D at 0x1e1b887eeb8>,\n",
       " <matplotlib.lines.Line2D at 0x1e1b8867048>,\n",
       " <matplotlib.lines.Line2D at 0x1e1b8867198>,\n",
       " <matplotlib.lines.Line2D at 0x1e1b88672e8>,\n",
       " <matplotlib.lines.Line2D at 0x1e1b8867438>,\n",
       " <matplotlib.lines.Line2D at 0x1e1b8867588>,\n",
       " <matplotlib.lines.Line2D at 0x1e1b88676d8>,\n",
       " <matplotlib.lines.Line2D at 0x1e1b8867828>,\n",
       " <matplotlib.lines.Line2D at 0x1e1b8867978>,\n",
       " <matplotlib.lines.Line2D at 0x1e1b8867ac8>,\n",
       " <matplotlib.lines.Line2D at 0x1e1b8867c18>,\n",
       " <matplotlib.lines.Line2D at 0x1e1b8867d68>,\n",
       " <matplotlib.lines.Line2D at 0x1e1b8867eb8>,\n",
       " <matplotlib.lines.Line2D at 0x1e1b8861048>,\n",
       " <matplotlib.lines.Line2D at 0x1e1b8861198>,\n",
       " <matplotlib.lines.Line2D at 0x1e1b88612e8>,\n",
       " <matplotlib.lines.Line2D at 0x1e1b8861438>,\n",
       " <matplotlib.lines.Line2D at 0x1e1b8861588>,\n",
       " <matplotlib.lines.Line2D at 0x1e1b88616d8>,\n",
       " <matplotlib.lines.Line2D at 0x1e1b8861828>,\n",
       " <matplotlib.lines.Line2D at 0x1e1b8861978>,\n",
       " <matplotlib.lines.Line2D at 0x1e1b8861ac8>,\n",
       " <matplotlib.lines.Line2D at 0x1e1b8861c18>,\n",
       " <matplotlib.lines.Line2D at 0x1e1b8861d68>,\n",
       " <matplotlib.lines.Line2D at 0x1e1b8861eb8>,\n",
       " <matplotlib.lines.Line2D at 0x1e1b9add048>,\n",
       " <matplotlib.lines.Line2D at 0x1e1b9add198>,\n",
       " <matplotlib.lines.Line2D at 0x1e1b9add2e8>,\n",
       " <matplotlib.lines.Line2D at 0x1e1b9add438>,\n",
       " <matplotlib.lines.Line2D at 0x1e1b9add588>,\n",
       " <matplotlib.lines.Line2D at 0x1e1b9add6d8>,\n",
       " <matplotlib.lines.Line2D at 0x1e1b9add828>,\n",
       " <matplotlib.lines.Line2D at 0x1e1b9add978>,\n",
       " <matplotlib.lines.Line2D at 0x1e1b9addac8>,\n",
       " <matplotlib.lines.Line2D at 0x1e1b9addc18>,\n",
       " <matplotlib.lines.Line2D at 0x1e1b9addd68>,\n",
       " <matplotlib.lines.Line2D at 0x1e1b9addeb8>,\n",
       " <matplotlib.lines.Line2D at 0x1e1b9ad9048>,\n",
       " <matplotlib.lines.Line2D at 0x1e1b9ad9198>,\n",
       " <matplotlib.lines.Line2D at 0x1e1b9ad92e8>,\n",
       " <matplotlib.lines.Line2D at 0x1e1b9ad9438>,\n",
       " <matplotlib.lines.Line2D at 0x1e1b9ad9588>,\n",
       " <matplotlib.lines.Line2D at 0x1e1b9ad96d8>,\n",
       " <matplotlib.lines.Line2D at 0x1e1b9ad9828>,\n",
       " <matplotlib.lines.Line2D at 0x1e1b9ad9978>,\n",
       " <matplotlib.lines.Line2D at 0x1e1b9ad9ac8>,\n",
       " <matplotlib.lines.Line2D at 0x1e1b9ad9c18>,\n",
       " <matplotlib.lines.Line2D at 0x1e1b9ad9d68>,\n",
       " <matplotlib.lines.Line2D at 0x1e1b9ad9eb8>,\n",
       " <matplotlib.lines.Line2D at 0x1e1b9adc048>,\n",
       " <matplotlib.lines.Line2D at 0x1e1b9adc198>,\n",
       " <matplotlib.lines.Line2D at 0x1e1b9adc2e8>,\n",
       " <matplotlib.lines.Line2D at 0x1e1b9adc438>,\n",
       " <matplotlib.lines.Line2D at 0x1e1b9adc588>,\n",
       " <matplotlib.lines.Line2D at 0x1e1b9adc6d8>,\n",
       " <matplotlib.lines.Line2D at 0x1e1b9adc828>,\n",
       " <matplotlib.lines.Line2D at 0x1e1b9adc978>,\n",
       " <matplotlib.lines.Line2D at 0x1e1b9adcac8>,\n",
       " <matplotlib.lines.Line2D at 0x1e1b9adcc18>,\n",
       " <matplotlib.lines.Line2D at 0x1e1b9adcd68>,\n",
       " <matplotlib.lines.Line2D at 0x1e1b9adceb8>,\n",
       " <matplotlib.lines.Line2D at 0x1e1b9acc048>,\n",
       " <matplotlib.lines.Line2D at 0x1e1b9acc198>,\n",
       " <matplotlib.lines.Line2D at 0x1e1b9acc2e8>,\n",
       " <matplotlib.lines.Line2D at 0x1e1b9acc438>,\n",
       " <matplotlib.lines.Line2D at 0x1e1b9acc588>,\n",
       " <matplotlib.lines.Line2D at 0x1e1b9acc6d8>,\n",
       " <matplotlib.lines.Line2D at 0x1e1b9acc828>,\n",
       " <matplotlib.lines.Line2D at 0x1e1b9acc978>,\n",
       " <matplotlib.lines.Line2D at 0x1e1b9accac8>,\n",
       " <matplotlib.lines.Line2D at 0x1e1b9accc18>,\n",
       " <matplotlib.lines.Line2D at 0x1e1b9accd68>,\n",
       " <matplotlib.lines.Line2D at 0x1e1b9acceb8>,\n",
       " <matplotlib.lines.Line2D at 0x1e1b9ac2b38>,\n",
       " <matplotlib.lines.Line2D at 0x1e1b9ac2ef0>,\n",
       " <matplotlib.lines.Line2D at 0x1e1b9ac2320>,\n",
       " <matplotlib.lines.Line2D at 0x1e1b9ac2a58>,\n",
       " <matplotlib.lines.Line2D at 0x1e1b9ac2080>,\n",
       " <matplotlib.lines.Line2D at 0x1e1b9ac2630>,\n",
       " <matplotlib.lines.Line2D at 0x1e1b9ac2fd0>,\n",
       " <matplotlib.lines.Line2D at 0x1e1b9ac2c18>,\n",
       " <matplotlib.lines.Line2D at 0x1e1b9ac26a0>,\n",
       " <matplotlib.lines.Line2D at 0x1e1b9ac2da0>,\n",
       " <matplotlib.lines.Line2D at 0x1e1b9ac2588>,\n",
       " <matplotlib.lines.Line2D at 0x1e1b9ac26d8>,\n",
       " <matplotlib.lines.Line2D at 0x1e1b9ae2048>,\n",
       " <matplotlib.lines.Line2D at 0x1e1b9ae2198>,\n",
       " <matplotlib.lines.Line2D at 0x1e1b9ae22e8>,\n",
       " <matplotlib.lines.Line2D at 0x1e1b9ae2438>,\n",
       " <matplotlib.lines.Line2D at 0x1e1b9ae2588>,\n",
       " <matplotlib.lines.Line2D at 0x1e1b9ae26d8>,\n",
       " <matplotlib.lines.Line2D at 0x1e1b9ae2828>,\n",
       " <matplotlib.lines.Line2D at 0x1e1b9ae2978>,\n",
       " <matplotlib.lines.Line2D at 0x1e1b9ae2ac8>,\n",
       " <matplotlib.lines.Line2D at 0x1e1b9ae2c18>,\n",
       " <matplotlib.lines.Line2D at 0x1e1b9ae2d68>,\n",
       " <matplotlib.lines.Line2D at 0x1e1b9ae2eb8>,\n",
       " <matplotlib.lines.Line2D at 0x1e1b9ae6048>,\n",
       " <matplotlib.lines.Line2D at 0x1e1b9ae6198>,\n",
       " <matplotlib.lines.Line2D at 0x1e1b9ae62e8>,\n",
       " <matplotlib.lines.Line2D at 0x1e1b9ae6438>,\n",
       " <matplotlib.lines.Line2D at 0x1e1b9ae6588>,\n",
       " <matplotlib.lines.Line2D at 0x1e1b9ae66d8>,\n",
       " <matplotlib.lines.Line2D at 0x1e1b9ae6828>,\n",
       " <matplotlib.lines.Line2D at 0x1e1b9ae6978>,\n",
       " <matplotlib.lines.Line2D at 0x1e1b9ae6ac8>,\n",
       " <matplotlib.lines.Line2D at 0x1e1b9ae6c18>,\n",
       " <matplotlib.lines.Line2D at 0x1e1b9ae6d68>,\n",
       " <matplotlib.lines.Line2D at 0x1e1b9ae6eb8>,\n",
       " <matplotlib.lines.Line2D at 0x1e1b9ac3048>,\n",
       " <matplotlib.lines.Line2D at 0x1e1b9ac3198>,\n",
       " <matplotlib.lines.Line2D at 0x1e1b9ac32e8>,\n",
       " <matplotlib.lines.Line2D at 0x1e1b9ac3438>,\n",
       " <matplotlib.lines.Line2D at 0x1e1b9ac3588>,\n",
       " <matplotlib.lines.Line2D at 0x1e1b9ac36d8>,\n",
       " <matplotlib.lines.Line2D at 0x1e1b9ac3828>,\n",
       " <matplotlib.lines.Line2D at 0x1e1b9ac3978>,\n",
       " <matplotlib.lines.Line2D at 0x1e1b9ac3ac8>,\n",
       " <matplotlib.lines.Line2D at 0x1e1b9ac3c18>,\n",
       " <matplotlib.lines.Line2D at 0x1e1b9ac3d68>,\n",
       " <matplotlib.lines.Line2D at 0x1e1b9ac3eb8>,\n",
       " <matplotlib.lines.Line2D at 0x1e1b9aff048>,\n",
       " <matplotlib.lines.Line2D at 0x1e1b9aff198>,\n",
       " <matplotlib.lines.Line2D at 0x1e1b9aff2e8>,\n",
       " <matplotlib.lines.Line2D at 0x1e1b9aff438>,\n",
       " <matplotlib.lines.Line2D at 0x1e1b9aff588>,\n",
       " <matplotlib.lines.Line2D at 0x1e1b9aff6d8>,\n",
       " <matplotlib.lines.Line2D at 0x1e1b9aff828>,\n",
       " <matplotlib.lines.Line2D at 0x1e1b9aff978>,\n",
       " <matplotlib.lines.Line2D at 0x1e1b9affac8>,\n",
       " <matplotlib.lines.Line2D at 0x1e1b9affc18>,\n",
       " <matplotlib.lines.Line2D at 0x1e1b9affd68>,\n",
       " <matplotlib.lines.Line2D at 0x1e1b9affeb8>,\n",
       " <matplotlib.lines.Line2D at 0x1e1b881ce80>,\n",
       " <matplotlib.lines.Line2D at 0x1e1b881c128>,\n",
       " <matplotlib.lines.Line2D at 0x1e1b881c358>,\n",
       " <matplotlib.lines.Line2D at 0x1e1b881c0b8>,\n",
       " <matplotlib.lines.Line2D at 0x1e1b881cb70>,\n",
       " <matplotlib.lines.Line2D at 0x1e1b881ca58>,\n",
       " <matplotlib.lines.Line2D at 0x1e1b881c7f0>,\n",
       " <matplotlib.lines.Line2D at 0x1e1b881c5c0>,\n",
       " <matplotlib.lines.Line2D at 0x1e1b881cda0>,\n",
       " <matplotlib.lines.Line2D at 0x1e1b881c978>,\n",
       " <matplotlib.lines.Line2D at 0x1e1b881cfd0>,\n",
       " <matplotlib.lines.Line2D at 0x1e1b881cba8>,\n",
       " <matplotlib.lines.Line2D at 0x1e1b881d048>,\n",
       " <matplotlib.lines.Line2D at 0x1e1b881d198>,\n",
       " <matplotlib.lines.Line2D at 0x1e1b881d2e8>,\n",
       " <matplotlib.lines.Line2D at 0x1e1b881d438>,\n",
       " <matplotlib.lines.Line2D at 0x1e1b881d588>,\n",
       " <matplotlib.lines.Line2D at 0x1e1b881d6d8>,\n",
       " <matplotlib.lines.Line2D at 0x1e1b881d828>,\n",
       " <matplotlib.lines.Line2D at 0x1e1b881d978>,\n",
       " <matplotlib.lines.Line2D at 0x1e1b881dac8>,\n",
       " <matplotlib.lines.Line2D at 0x1e1b881dc18>,\n",
       " <matplotlib.lines.Line2D at 0x1e1b881dd68>,\n",
       " <matplotlib.lines.Line2D at 0x1e1b881deb8>,\n",
       " <matplotlib.lines.Line2D at 0x1e1b8848048>,\n",
       " <matplotlib.lines.Line2D at 0x1e1b8848198>,\n",
       " <matplotlib.lines.Line2D at 0x1e1b88482e8>,\n",
       " <matplotlib.lines.Line2D at 0x1e1b8848438>,\n",
       " <matplotlib.lines.Line2D at 0x1e1b8848588>,\n",
       " <matplotlib.lines.Line2D at 0x1e1b88486d8>,\n",
       " <matplotlib.lines.Line2D at 0x1e1b8848828>,\n",
       " <matplotlib.lines.Line2D at 0x1e1b8848978>,\n",
       " <matplotlib.lines.Line2D at 0x1e1b8848ac8>,\n",
       " <matplotlib.lines.Line2D at 0x1e1b8848c18>,\n",
       " <matplotlib.lines.Line2D at 0x1e1b8848d68>,\n",
       " <matplotlib.lines.Line2D at 0x1e1b8848eb8>,\n",
       " <matplotlib.lines.Line2D at 0x1e1b882f048>,\n",
       " <matplotlib.lines.Line2D at 0x1e1b882f198>,\n",
       " <matplotlib.lines.Line2D at 0x1e1b882f2e8>,\n",
       " <matplotlib.lines.Line2D at 0x1e1b882f438>,\n",
       " <matplotlib.lines.Line2D at 0x1e1b882f588>,\n",
       " <matplotlib.lines.Line2D at 0x1e1b882f6d8>,\n",
       " <matplotlib.lines.Line2D at 0x1e1b882f828>,\n",
       " <matplotlib.lines.Line2D at 0x1e1b882f978>,\n",
       " <matplotlib.lines.Line2D at 0x1e1b882fac8>,\n",
       " <matplotlib.lines.Line2D at 0x1e1b882fc18>,\n",
       " <matplotlib.lines.Line2D at 0x1e1b882fd68>,\n",
       " <matplotlib.lines.Line2D at 0x1e1b882feb8>,\n",
       " <matplotlib.lines.Line2D at 0x1e1b882b048>,\n",
       " <matplotlib.lines.Line2D at 0x1e1b882b198>,\n",
       " <matplotlib.lines.Line2D at 0x1e1b882b2e8>,\n",
       " <matplotlib.lines.Line2D at 0x1e1b882b438>,\n",
       " <matplotlib.lines.Line2D at 0x1e1b882b588>,\n",
       " <matplotlib.lines.Line2D at 0x1e1b882b6d8>,\n",
       " <matplotlib.lines.Line2D at 0x1e1b882b828>,\n",
       " <matplotlib.lines.Line2D at 0x1e1b882b978>,\n",
       " <matplotlib.lines.Line2D at 0x1e1b882bac8>,\n",
       " <matplotlib.lines.Line2D at 0x1e1b882bc18>,\n",
       " <matplotlib.lines.Line2D at 0x1e1b882bd68>,\n",
       " <matplotlib.lines.Line2D at 0x1e1b882beb8>,\n",
       " <matplotlib.lines.Line2D at 0x1e1b8821048>,\n",
       " <matplotlib.lines.Line2D at 0x1e1b8821198>,\n",
       " <matplotlib.lines.Line2D at 0x1e1b88212e8>,\n",
       " <matplotlib.lines.Line2D at 0x1e1b8821438>,\n",
       " <matplotlib.lines.Line2D at 0x1e1b8821588>,\n",
       " <matplotlib.lines.Line2D at 0x1e1b88216d8>,\n",
       " <matplotlib.lines.Line2D at 0x1e1b8821828>,\n",
       " <matplotlib.lines.Line2D at 0x1e1b8821978>,\n",
       " <matplotlib.lines.Line2D at 0x1e1b8821ac8>,\n",
       " <matplotlib.lines.Line2D at 0x1e1b8821c18>,\n",
       " <matplotlib.lines.Line2D at 0x1e1b8821d68>,\n",
       " <matplotlib.lines.Line2D at 0x1e1b8821eb8>,\n",
       " <matplotlib.lines.Line2D at 0x1e1b8833fd0>,\n",
       " <matplotlib.lines.Line2D at 0x1e1b88335f8>,\n",
       " <matplotlib.lines.Line2D at 0x1e1b88339e8>,\n",
       " <matplotlib.lines.Line2D at 0x1e1b8833a20>,\n",
       " <matplotlib.lines.Line2D at 0x1e1b8833ba8>,\n",
       " <matplotlib.lines.Line2D at 0x1e1b8833240>,\n",
       " <matplotlib.lines.Line2D at 0x1e1b8833e10>,\n",
       " <matplotlib.lines.Line2D at 0x1e1b8833940>,\n",
       " <matplotlib.lines.Line2D at 0x1e1b8833cf8>,\n",
       " <matplotlib.lines.Line2D at 0x1e1b8833a58>,\n",
       " <matplotlib.lines.Line2D at 0x1e1b8833780>,\n",
       " <matplotlib.lines.Line2D at 0x1e1b8833390>,\n",
       " <matplotlib.lines.Line2D at 0x1e1b8836048>,\n",
       " <matplotlib.lines.Line2D at 0x1e1b8836198>,\n",
       " <matplotlib.lines.Line2D at 0x1e1b88362e8>,\n",
       " <matplotlib.lines.Line2D at 0x1e1b8836438>,\n",
       " <matplotlib.lines.Line2D at 0x1e1b8836588>,\n",
       " <matplotlib.lines.Line2D at 0x1e1b88366d8>,\n",
       " <matplotlib.lines.Line2D at 0x1e1b8836828>,\n",
       " <matplotlib.lines.Line2D at 0x1e1b8836978>,\n",
       " <matplotlib.lines.Line2D at 0x1e1b8836ac8>,\n",
       " <matplotlib.lines.Line2D at 0x1e1b8836c18>,\n",
       " <matplotlib.lines.Line2D at 0x1e1b8836d68>,\n",
       " <matplotlib.lines.Line2D at 0x1e1b8836eb8>,\n",
       " <matplotlib.lines.Line2D at 0x1e1c1c8d048>,\n",
       " <matplotlib.lines.Line2D at 0x1e1c1c8d198>,\n",
       " <matplotlib.lines.Line2D at 0x1e1c1c8d2e8>,\n",
       " <matplotlib.lines.Line2D at 0x1e1c1c8d438>,\n",
       " <matplotlib.lines.Line2D at 0x1e1c1c8d588>,\n",
       " <matplotlib.lines.Line2D at 0x1e1c1c8d6d8>,\n",
       " <matplotlib.lines.Line2D at 0x1e1c1c8d828>,\n",
       " <matplotlib.lines.Line2D at 0x1e1c1c8d978>,\n",
       " <matplotlib.lines.Line2D at 0x1e1c1c8dac8>,\n",
       " <matplotlib.lines.Line2D at 0x1e1c1c8dc18>,\n",
       " <matplotlib.lines.Line2D at 0x1e1c1c8dd68>,\n",
       " <matplotlib.lines.Line2D at 0x1e1c1c8deb8>,\n",
       " <matplotlib.lines.Line2D at 0x1e1c1caf048>,\n",
       " <matplotlib.lines.Line2D at 0x1e1c1caf198>,\n",
       " <matplotlib.lines.Line2D at 0x1e1c1caf2e8>,\n",
       " <matplotlib.lines.Line2D at 0x1e1c1caf438>,\n",
       " <matplotlib.lines.Line2D at 0x1e1c1caf588>,\n",
       " <matplotlib.lines.Line2D at 0x1e1c1caf6d8>,\n",
       " <matplotlib.lines.Line2D at 0x1e1c1caf828>,\n",
       " <matplotlib.lines.Line2D at 0x1e1c1caf978>,\n",
       " <matplotlib.lines.Line2D at 0x1e1c1cafac8>,\n",
       " <matplotlib.lines.Line2D at 0x1e1c1cafc18>,\n",
       " <matplotlib.lines.Line2D at 0x1e1c1cafd68>,\n",
       " <matplotlib.lines.Line2D at 0x1e1c1cafeb8>,\n",
       " <matplotlib.lines.Line2D at 0x1e1c1c89d68>,\n",
       " <matplotlib.lines.Line2D at 0x1e1c1c89fd0>,\n",
       " <matplotlib.lines.Line2D at 0x1e1c1c89550>,\n",
       " <matplotlib.lines.Line2D at 0x1e1c1c89dd8>,\n",
       " <matplotlib.lines.Line2D at 0x1e1c1c89cc0>,\n",
       " <matplotlib.lines.Line2D at 0x1e1c1c89898>,\n",
       " <matplotlib.lines.Line2D at 0x1e1c1c89470>,\n",
       " <matplotlib.lines.Line2D at 0x1e1c1c89128>,\n",
       " <matplotlib.lines.Line2D at 0x1e1c1c89cf8>,\n",
       " <matplotlib.lines.Line2D at 0x1e1c1c89940>,\n",
       " <matplotlib.lines.Line2D at 0x1e1c1c89630>,\n",
       " <matplotlib.lines.Line2D at 0x1e1c1c892e8>,\n",
       " <matplotlib.lines.Line2D at 0x1e1c1cb9048>,\n",
       " <matplotlib.lines.Line2D at 0x1e1c1cb9198>,\n",
       " <matplotlib.lines.Line2D at 0x1e1c1cb92e8>,\n",
       " <matplotlib.lines.Line2D at 0x1e1c1cb9438>,\n",
       " <matplotlib.lines.Line2D at 0x1e1c1cb9588>,\n",
       " <matplotlib.lines.Line2D at 0x1e1c1cb96d8>,\n",
       " <matplotlib.lines.Line2D at 0x1e1c1cb9828>,\n",
       " <matplotlib.lines.Line2D at 0x1e1c1cb9978>,\n",
       " <matplotlib.lines.Line2D at 0x1e1c1cb9ac8>,\n",
       " <matplotlib.lines.Line2D at 0x1e1c1cb9c18>,\n",
       " <matplotlib.lines.Line2D at 0x1e1c1cb9d68>,\n",
       " <matplotlib.lines.Line2D at 0x1e1c1cb9eb8>,\n",
       " <matplotlib.lines.Line2D at 0x1e1c1cb3048>,\n",
       " <matplotlib.lines.Line2D at 0x1e1c1cb3198>,\n",
       " <matplotlib.lines.Line2D at 0x1e1c1cb32e8>,\n",
       " <matplotlib.lines.Line2D at 0x1e1c1cb3438>,\n",
       " <matplotlib.lines.Line2D at 0x1e1c1cb3588>,\n",
       " <matplotlib.lines.Line2D at 0x1e1c1cb36d8>,\n",
       " <matplotlib.lines.Line2D at 0x1e1c1cb3828>,\n",
       " <matplotlib.lines.Line2D at 0x1e1c1cb3978>,\n",
       " <matplotlib.lines.Line2D at 0x1e1c1cb3ac8>,\n",
       " <matplotlib.lines.Line2D at 0x1e1c1cb3c18>,\n",
       " <matplotlib.lines.Line2D at 0x1e1c1cb3d68>,\n",
       " <matplotlib.lines.Line2D at 0x1e1c1cb3eb8>,\n",
       " <matplotlib.lines.Line2D at 0x1e1c1cab048>,\n",
       " <matplotlib.lines.Line2D at 0x1e1c1cab198>,\n",
       " <matplotlib.lines.Line2D at 0x1e1c1cab2e8>,\n",
       " <matplotlib.lines.Line2D at 0x1e1c1cab438>,\n",
       " <matplotlib.lines.Line2D at 0x1e1c1cab588>,\n",
       " <matplotlib.lines.Line2D at 0x1e1c1cab6d8>,\n",
       " <matplotlib.lines.Line2D at 0x1e1c1cab828>,\n",
       " <matplotlib.lines.Line2D at 0x1e1c1cab978>,\n",
       " <matplotlib.lines.Line2D at 0x1e1c1cabac8>,\n",
       " <matplotlib.lines.Line2D at 0x1e1c1cabc18>,\n",
       " <matplotlib.lines.Line2D at 0x1e1c1cabd68>,\n",
       " <matplotlib.lines.Line2D at 0x1e1c1cabeb8>,\n",
       " <matplotlib.lines.Line2D at 0x1e1c1ca1048>,\n",
       " <matplotlib.lines.Line2D at 0x1e1c1ca1198>,\n",
       " <matplotlib.lines.Line2D at 0x1e1c1ca12e8>,\n",
       " <matplotlib.lines.Line2D at 0x1e1c1ca1438>,\n",
       " <matplotlib.lines.Line2D at 0x1e1c1ca1588>,\n",
       " <matplotlib.lines.Line2D at 0x1e1c1ca16d8>,\n",
       " <matplotlib.lines.Line2D at 0x1e1c1ca1828>,\n",
       " <matplotlib.lines.Line2D at 0x1e1c1ca1978>,\n",
       " <matplotlib.lines.Line2D at 0x1e1c1ca1ac8>,\n",
       " <matplotlib.lines.Line2D at 0x1e1c1ca1c18>,\n",
       " <matplotlib.lines.Line2D at 0x1e1c1ca1d68>,\n",
       " <matplotlib.lines.Line2D at 0x1e1c1ca1eb8>,\n",
       " <matplotlib.lines.Line2D at 0x1e1c1c96048>,\n",
       " <matplotlib.lines.Line2D at 0x1e1c1c96198>,\n",
       " <matplotlib.lines.Line2D at 0x1e1c1c962e8>,\n",
       " <matplotlib.lines.Line2D at 0x1e1c1c96438>,\n",
       " <matplotlib.lines.Line2D at 0x1e1c1c96588>,\n",
       " <matplotlib.lines.Line2D at 0x1e1c1c966d8>,\n",
       " <matplotlib.lines.Line2D at 0x1e1c1c96828>,\n",
       " <matplotlib.lines.Line2D at 0x1e1c1c96978>,\n",
       " <matplotlib.lines.Line2D at 0x1e1c1c96ac8>,\n",
       " <matplotlib.lines.Line2D at 0x1e1c1c96c18>,\n",
       " <matplotlib.lines.Line2D at 0x1e1c1c96d68>,\n",
       " <matplotlib.lines.Line2D at 0x1e1c1c96eb8>,\n",
       " <matplotlib.lines.Line2D at 0x1e1c1c85048>,\n",
       " <matplotlib.lines.Line2D at 0x1e1c1c85198>,\n",
       " <matplotlib.lines.Line2D at 0x1e1c1c852e8>,\n",
       " <matplotlib.lines.Line2D at 0x1e1c1c85438>,\n",
       " <matplotlib.lines.Line2D at 0x1e1c1c85588>,\n",
       " <matplotlib.lines.Line2D at 0x1e1c1c856d8>,\n",
       " <matplotlib.lines.Line2D at 0x1e1c1c85828>,\n",
       " <matplotlib.lines.Line2D at 0x1e1c1c85978>,\n",
       " <matplotlib.lines.Line2D at 0x1e1c1c85ac8>,\n",
       " <matplotlib.lines.Line2D at 0x1e1c1c85c18>,\n",
       " <matplotlib.lines.Line2D at 0x1e1c1c85d68>,\n",
       " <matplotlib.lines.Line2D at 0x1e1c1c85eb8>,\n",
       " <matplotlib.lines.Line2D at 0x1e1c1c7c048>,\n",
       " <matplotlib.lines.Line2D at 0x1e1c1c7c198>,\n",
       " <matplotlib.lines.Line2D at 0x1e1c1c7c2e8>,\n",
       " <matplotlib.lines.Line2D at 0x1e1c1c7c438>,\n",
       " <matplotlib.lines.Line2D at 0x1e1c1c7c588>,\n",
       " <matplotlib.lines.Line2D at 0x1e1c1c7c6d8>,\n",
       " <matplotlib.lines.Line2D at 0x1e1c1c7c828>,\n",
       " <matplotlib.lines.Line2D at 0x1e1c1c7c978>,\n",
       " <matplotlib.lines.Line2D at 0x1e1c1c7cac8>,\n",
       " <matplotlib.lines.Line2D at 0x1e1c1c7cc18>,\n",
       " <matplotlib.lines.Line2D at 0x1e1c1c7cd68>,\n",
       " <matplotlib.lines.Line2D at 0x1e1c1c7ceb8>,\n",
       " <matplotlib.lines.Line2D at 0x1e1c1c58048>,\n",
       " <matplotlib.lines.Line2D at 0x1e1c1c58198>,\n",
       " <matplotlib.lines.Line2D at 0x1e1c1c582e8>,\n",
       " <matplotlib.lines.Line2D at 0x1e1c1c58438>,\n",
       " <matplotlib.lines.Line2D at 0x1e1c1c58588>,\n",
       " <matplotlib.lines.Line2D at 0x1e1c1c586d8>,\n",
       " <matplotlib.lines.Line2D at 0x1e1c1c58828>,\n",
       " <matplotlib.lines.Line2D at 0x1e1c1c58978>,\n",
       " <matplotlib.lines.Line2D at 0x1e1c1c58ac8>,\n",
       " <matplotlib.lines.Line2D at 0x1e1c1c58c18>,\n",
       " <matplotlib.lines.Line2D at 0x1e1c1c58d68>,\n",
       " <matplotlib.lines.Line2D at 0x1e1c1c58eb8>,\n",
       " <matplotlib.lines.Line2D at 0x1e1c1c5b048>,\n",
       " <matplotlib.lines.Line2D at 0x1e1c1c5b198>,\n",
       " <matplotlib.lines.Line2D at 0x1e1c1c5b2e8>,\n",
       " <matplotlib.lines.Line2D at 0x1e1c1c5b438>,\n",
       " <matplotlib.lines.Line2D at 0x1e1c1c5b588>,\n",
       " <matplotlib.lines.Line2D at 0x1e1c1c5b6d8>,\n",
       " <matplotlib.lines.Line2D at 0x1e1c1c5b828>,\n",
       " <matplotlib.lines.Line2D at 0x1e1c1c5b978>,\n",
       " <matplotlib.lines.Line2D at 0x1e1c1c5bac8>,\n",
       " <matplotlib.lines.Line2D at 0x1e1c1c5bc18>,\n",
       " <matplotlib.lines.Line2D at 0x1e1c1c5bd68>,\n",
       " <matplotlib.lines.Line2D at 0x1e1c1c5beb8>,\n",
       " <matplotlib.lines.Line2D at 0x1e1c1c51048>,\n",
       " <matplotlib.lines.Line2D at 0x1e1c1c51198>,\n",
       " <matplotlib.lines.Line2D at 0x1e1c1c512e8>,\n",
       " <matplotlib.lines.Line2D at 0x1e1c1c51438>,\n",
       " <matplotlib.lines.Line2D at 0x1e1c1c51588>,\n",
       " <matplotlib.lines.Line2D at 0x1e1c1c516d8>,\n",
       " <matplotlib.lines.Line2D at 0x1e1c1c51828>,\n",
       " <matplotlib.lines.Line2D at 0x1e1c1c51978>,\n",
       " <matplotlib.lines.Line2D at 0x1e1c1c51ac8>,\n",
       " <matplotlib.lines.Line2D at 0x1e1c1c51c18>,\n",
       " <matplotlib.lines.Line2D at 0x1e1c1c51d68>,\n",
       " <matplotlib.lines.Line2D at 0x1e1c1c51eb8>,\n",
       " <matplotlib.lines.Line2D at 0x1e1c1c56048>,\n",
       " <matplotlib.lines.Line2D at 0x1e1c1c56198>,\n",
       " <matplotlib.lines.Line2D at 0x1e1c1c562e8>,\n",
       " <matplotlib.lines.Line2D at 0x1e1c1c56438>,\n",
       " <matplotlib.lines.Line2D at 0x1e1c1c56588>,\n",
       " <matplotlib.lines.Line2D at 0x1e1c1c566d8>,\n",
       " <matplotlib.lines.Line2D at 0x1e1c1c56828>,\n",
       " <matplotlib.lines.Line2D at 0x1e1c1c56978>,\n",
       " <matplotlib.lines.Line2D at 0x1e1c1c56ac8>,\n",
       " <matplotlib.lines.Line2D at 0x1e1c1c56c18>,\n",
       " <matplotlib.lines.Line2D at 0x1e1c1c56d68>,\n",
       " <matplotlib.lines.Line2D at 0x1e1c1c56eb8>,\n",
       " <matplotlib.lines.Line2D at 0x1e1c1c77048>,\n",
       " <matplotlib.lines.Line2D at 0x1e1c1c77198>,\n",
       " <matplotlib.lines.Line2D at 0x1e1c1c772e8>,\n",
       " <matplotlib.lines.Line2D at 0x1e1c1c77438>,\n",
       " <matplotlib.lines.Line2D at 0x1e1c1c77588>,\n",
       " <matplotlib.lines.Line2D at 0x1e1c1c776d8>,\n",
       " <matplotlib.lines.Line2D at 0x1e1c1c77828>,\n",
       " <matplotlib.lines.Line2D at 0x1e1c1c77978>,\n",
       " <matplotlib.lines.Line2D at 0x1e1c1c77ac8>,\n",
       " <matplotlib.lines.Line2D at 0x1e1c1c77c18>,\n",
       " <matplotlib.lines.Line2D at 0x1e1c1c77d68>,\n",
       " <matplotlib.lines.Line2D at 0x1e1c1c77eb8>,\n",
       " <matplotlib.lines.Line2D at 0x1e1c1c78048>,\n",
       " <matplotlib.lines.Line2D at 0x1e1c1c78198>,\n",
       " <matplotlib.lines.Line2D at 0x1e1c1c782e8>,\n",
       " <matplotlib.lines.Line2D at 0x1e1c1c78438>,\n",
       " <matplotlib.lines.Line2D at 0x1e1c1c78588>,\n",
       " <matplotlib.lines.Line2D at 0x1e1c1c786d8>,\n",
       " <matplotlib.lines.Line2D at 0x1e1c1c78828>,\n",
       " <matplotlib.lines.Line2D at 0x1e1c1c78978>,\n",
       " <matplotlib.lines.Line2D at 0x1e1c1c78ac8>,\n",
       " <matplotlib.lines.Line2D at 0x1e1c1c78c18>,\n",
       " <matplotlib.lines.Line2D at 0x1e1c1c78d68>,\n",
       " <matplotlib.lines.Line2D at 0x1e1c1c78eb8>,\n",
       " <matplotlib.lines.Line2D at 0x1e1c1c6d048>,\n",
       " <matplotlib.lines.Line2D at 0x1e1c1c6d198>,\n",
       " <matplotlib.lines.Line2D at 0x1e1c1c6d2e8>,\n",
       " <matplotlib.lines.Line2D at 0x1e1c1c6d438>,\n",
       " <matplotlib.lines.Line2D at 0x1e1c1c6d588>,\n",
       " <matplotlib.lines.Line2D at 0x1e1c1c6d6d8>,\n",
       " <matplotlib.lines.Line2D at 0x1e1c1c6d828>,\n",
       " <matplotlib.lines.Line2D at 0x1e1c1c6d978>,\n",
       " <matplotlib.lines.Line2D at 0x1e1c1c6dac8>,\n",
       " <matplotlib.lines.Line2D at 0x1e1c1c6dc18>,\n",
       " <matplotlib.lines.Line2D at 0x1e1c1c6dd68>,\n",
       " <matplotlib.lines.Line2D at 0x1e1c1c6deb8>,\n",
       " <matplotlib.lines.Line2D at 0x1e1b91b8048>,\n",
       " <matplotlib.lines.Line2D at 0x1e1b91b8198>,\n",
       " <matplotlib.lines.Line2D at 0x1e1b91b82e8>,\n",
       " <matplotlib.lines.Line2D at 0x1e1b91b8438>,\n",
       " <matplotlib.lines.Line2D at 0x1e1b91b8588>,\n",
       " <matplotlib.lines.Line2D at 0x1e1b91b86d8>,\n",
       " <matplotlib.lines.Line2D at 0x1e1b91b8828>,\n",
       " <matplotlib.lines.Line2D at 0x1e1b91b8978>,\n",
       " <matplotlib.lines.Line2D at 0x1e1b91b8ac8>,\n",
       " <matplotlib.lines.Line2D at 0x1e1b91b8c18>,\n",
       " <matplotlib.lines.Line2D at 0x1e1b91b8d68>,\n",
       " <matplotlib.lines.Line2D at 0x1e1b91b8eb8>,\n",
       " <matplotlib.lines.Line2D at 0x1e1b91b7048>,\n",
       " <matplotlib.lines.Line2D at 0x1e1b91b7198>,\n",
       " <matplotlib.lines.Line2D at 0x1e1b91b72e8>,\n",
       " <matplotlib.lines.Line2D at 0x1e1b91b7438>,\n",
       " <matplotlib.lines.Line2D at 0x1e1b91b7588>,\n",
       " <matplotlib.lines.Line2D at 0x1e1b91b76d8>,\n",
       " <matplotlib.lines.Line2D at 0x1e1b91b7828>,\n",
       " <matplotlib.lines.Line2D at 0x1e1b91b7978>,\n",
       " <matplotlib.lines.Line2D at 0x1e1b91b7ac8>,\n",
       " <matplotlib.lines.Line2D at 0x1e1b91b7c18>,\n",
       " <matplotlib.lines.Line2D at 0x1e1b91b7d68>,\n",
       " <matplotlib.lines.Line2D at 0x1e1b91b7eb8>,\n",
       " <matplotlib.lines.Line2D at 0x1e1b91c0048>,\n",
       " <matplotlib.lines.Line2D at 0x1e1b91c0198>,\n",
       " <matplotlib.lines.Line2D at 0x1e1b91c02e8>,\n",
       " <matplotlib.lines.Line2D at 0x1e1b91c0438>,\n",
       " <matplotlib.lines.Line2D at 0x1e1b91c0588>,\n",
       " <matplotlib.lines.Line2D at 0x1e1b91c06d8>,\n",
       " <matplotlib.lines.Line2D at 0x1e1b91c0828>,\n",
       " <matplotlib.lines.Line2D at 0x1e1b91c0978>,\n",
       " <matplotlib.lines.Line2D at 0x1e1b91c0ac8>,\n",
       " <matplotlib.lines.Line2D at 0x1e1b91c0c18>,\n",
       " <matplotlib.lines.Line2D at 0x1e1b91c0d68>,\n",
       " <matplotlib.lines.Line2D at 0x1e1b91c0eb8>,\n",
       " <matplotlib.lines.Line2D at 0x1e1b91b6048>,\n",
       " <matplotlib.lines.Line2D at 0x1e1b91b6198>,\n",
       " <matplotlib.lines.Line2D at 0x1e1b91b62e8>,\n",
       " <matplotlib.lines.Line2D at 0x1e1b91b6438>,\n",
       " <matplotlib.lines.Line2D at 0x1e1b91b6588>,\n",
       " <matplotlib.lines.Line2D at 0x1e1b91b66d8>,\n",
       " <matplotlib.lines.Line2D at 0x1e1b91b6828>,\n",
       " <matplotlib.lines.Line2D at 0x1e1b91b6978>,\n",
       " <matplotlib.lines.Line2D at 0x1e1b91b6ac8>,\n",
       " <matplotlib.lines.Line2D at 0x1e1b91b6c18>,\n",
       " <matplotlib.lines.Line2D at 0x1e1b91b6d68>,\n",
       " <matplotlib.lines.Line2D at 0x1e1b91b6eb8>,\n",
       " <matplotlib.lines.Line2D at 0x1e1b91af048>,\n",
       " <matplotlib.lines.Line2D at 0x1e1b91af198>,\n",
       " <matplotlib.lines.Line2D at 0x1e1b91af2e8>,\n",
       " <matplotlib.lines.Line2D at 0x1e1b91af438>,\n",
       " <matplotlib.lines.Line2D at 0x1e1b91af588>,\n",
       " <matplotlib.lines.Line2D at 0x1e1b91af6d8>,\n",
       " <matplotlib.lines.Line2D at 0x1e1b91af828>,\n",
       " <matplotlib.lines.Line2D at 0x1e1b91af978>,\n",
       " <matplotlib.lines.Line2D at 0x1e1b91afac8>,\n",
       " <matplotlib.lines.Line2D at 0x1e1b91afc18>,\n",
       " <matplotlib.lines.Line2D at 0x1e1b91afd68>,\n",
       " <matplotlib.lines.Line2D at 0x1e1b91afeb8>,\n",
       " <matplotlib.lines.Line2D at 0x1e1b91b0eb8>,\n",
       " <matplotlib.lines.Line2D at 0x1e1b91b05f8>,\n",
       " <matplotlib.lines.Line2D at 0x1e1b91b0630>,\n",
       " <matplotlib.lines.Line2D at 0x1e1b91b06a0>,\n",
       " <matplotlib.lines.Line2D at 0x1e1b91b0e80>,\n",
       " <matplotlib.lines.Line2D at 0x1e1b91b0c18>,\n",
       " <matplotlib.lines.Line2D at 0x1e1b91b0f28>,\n",
       " <matplotlib.lines.Line2D at 0x1e1b91b0128>,\n",
       " <matplotlib.lines.Line2D at 0x1e1b91b09b0>,\n",
       " <matplotlib.lines.Line2D at 0x1e1b91b04e0>,\n",
       " <matplotlib.lines.Line2D at 0x1e1b91b0160>,\n",
       " <matplotlib.lines.Line2D at 0x1e1b91b07b8>,\n",
       " <matplotlib.lines.Line2D at 0x1e1b91ae048>,\n",
       " <matplotlib.lines.Line2D at 0x1e1b91ae198>,\n",
       " <matplotlib.lines.Line2D at 0x1e1b91ae2e8>,\n",
       " <matplotlib.lines.Line2D at 0x1e1b91ae438>,\n",
       " <matplotlib.lines.Line2D at 0x1e1b91ae588>,\n",
       " <matplotlib.lines.Line2D at 0x1e1b91ae6d8>,\n",
       " <matplotlib.lines.Line2D at 0x1e1b91ae828>,\n",
       " <matplotlib.lines.Line2D at 0x1e1b91ae978>,\n",
       " <matplotlib.lines.Line2D at 0x1e1b91aeac8>,\n",
       " <matplotlib.lines.Line2D at 0x1e1b91aec18>,\n",
       " <matplotlib.lines.Line2D at 0x1e1b91aed68>,\n",
       " <matplotlib.lines.Line2D at 0x1e1b91aeeb8>,\n",
       " <matplotlib.lines.Line2D at 0x1e1b91c9048>,\n",
       " <matplotlib.lines.Line2D at 0x1e1b91c9198>,\n",
       " <matplotlib.lines.Line2D at 0x1e1b91c92e8>,\n",
       " <matplotlib.lines.Line2D at 0x1e1b91c9438>,\n",
       " <matplotlib.lines.Line2D at 0x1e1b91c9588>,\n",
       " <matplotlib.lines.Line2D at 0x1e1b91c96d8>,\n",
       " <matplotlib.lines.Line2D at 0x1e1b91c9828>,\n",
       " <matplotlib.lines.Line2D at 0x1e1b91c9978>,\n",
       " <matplotlib.lines.Line2D at 0x1e1b91c9ac8>,\n",
       " <matplotlib.lines.Line2D at 0x1e1b91c9c18>,\n",
       " <matplotlib.lines.Line2D at 0x1e1b91c9d68>,\n",
       " <matplotlib.lines.Line2D at 0x1e1b91c9eb8>,\n",
       " <matplotlib.lines.Line2D at 0x1e1b91db048>,\n",
       " <matplotlib.lines.Line2D at 0x1e1b91db198>,\n",
       " <matplotlib.lines.Line2D at 0x1e1b91db2e8>,\n",
       " <matplotlib.lines.Line2D at 0x1e1b91db438>,\n",
       " <matplotlib.lines.Line2D at 0x1e1b91db588>,\n",
       " <matplotlib.lines.Line2D at 0x1e1b91db6d8>,\n",
       " <matplotlib.lines.Line2D at 0x1e1b91db828>,\n",
       " <matplotlib.lines.Line2D at 0x1e1b91db978>,\n",
       " <matplotlib.lines.Line2D at 0x1e1b91dbac8>,\n",
       " <matplotlib.lines.Line2D at 0x1e1b91dbc18>,\n",
       " <matplotlib.lines.Line2D at 0x1e1b91dbd68>,\n",
       " <matplotlib.lines.Line2D at 0x1e1b91dbeb8>,\n",
       " <matplotlib.lines.Line2D at 0x1e1b98c6048>,\n",
       " <matplotlib.lines.Line2D at 0x1e1b98c6198>,\n",
       " <matplotlib.lines.Line2D at 0x1e1b98c62e8>,\n",
       " <matplotlib.lines.Line2D at 0x1e1b98c6438>,\n",
       " <matplotlib.lines.Line2D at 0x1e1b98c6588>,\n",
       " <matplotlib.lines.Line2D at 0x1e1b98c66d8>,\n",
       " <matplotlib.lines.Line2D at 0x1e1b98c6828>,\n",
       " <matplotlib.lines.Line2D at 0x1e1b98c6978>,\n",
       " <matplotlib.lines.Line2D at 0x1e1b98c6ac8>,\n",
       " <matplotlib.lines.Line2D at 0x1e1b98c6c18>,\n",
       " <matplotlib.lines.Line2D at 0x1e1b98c6d68>,\n",
       " <matplotlib.lines.Line2D at 0x1e1b98c6eb8>,\n",
       " <matplotlib.lines.Line2D at 0x1e1b98d5048>,\n",
       " <matplotlib.lines.Line2D at 0x1e1b98d5198>,\n",
       " <matplotlib.lines.Line2D at 0x1e1b98d52e8>,\n",
       " <matplotlib.lines.Line2D at 0x1e1b98d5438>,\n",
       " <matplotlib.lines.Line2D at 0x1e1b98d5588>,\n",
       " <matplotlib.lines.Line2D at 0x1e1b98d56d8>,\n",
       " <matplotlib.lines.Line2D at 0x1e1b98d5828>,\n",
       " <matplotlib.lines.Line2D at 0x1e1b98d5978>,\n",
       " <matplotlib.lines.Line2D at 0x1e1b98d5ac8>,\n",
       " <matplotlib.lines.Line2D at 0x1e1b98d5c18>,\n",
       " <matplotlib.lines.Line2D at 0x1e1b98d5d68>,\n",
       " <matplotlib.lines.Line2D at 0x1e1b98d5eb8>,\n",
       " <matplotlib.lines.Line2D at 0x1e1b98af048>,\n",
       " <matplotlib.lines.Line2D at 0x1e1b98af198>,\n",
       " <matplotlib.lines.Line2D at 0x1e1b98af2e8>,\n",
       " <matplotlib.lines.Line2D at 0x1e1b98af438>,\n",
       " <matplotlib.lines.Line2D at 0x1e1b98af588>,\n",
       " <matplotlib.lines.Line2D at 0x1e1b98af6d8>,\n",
       " <matplotlib.lines.Line2D at 0x1e1b98af828>,\n",
       " <matplotlib.lines.Line2D at 0x1e1b98af978>,\n",
       " <matplotlib.lines.Line2D at 0x1e1b98afac8>,\n",
       " <matplotlib.lines.Line2D at 0x1e1b98afc18>,\n",
       " <matplotlib.lines.Line2D at 0x1e1b98afd68>,\n",
       " <matplotlib.lines.Line2D at 0x1e1b98afeb8>,\n",
       " <matplotlib.lines.Line2D at 0x1e1b98cb048>,\n",
       " <matplotlib.lines.Line2D at 0x1e1b98cb198>,\n",
       " <matplotlib.lines.Line2D at 0x1e1b98cb2e8>,\n",
       " <matplotlib.lines.Line2D at 0x1e1b98cb438>,\n",
       " <matplotlib.lines.Line2D at 0x1e1b98cb588>,\n",
       " <matplotlib.lines.Line2D at 0x1e1b98cb6d8>,\n",
       " <matplotlib.lines.Line2D at 0x1e1b98cb828>,\n",
       " <matplotlib.lines.Line2D at 0x1e1b98cb978>,\n",
       " <matplotlib.lines.Line2D at 0x1e1b98cbac8>,\n",
       " <matplotlib.lines.Line2D at 0x1e1b98cbc18>,\n",
       " <matplotlib.lines.Line2D at 0x1e1b98cbd68>,\n",
       " <matplotlib.lines.Line2D at 0x1e1b98cbeb8>,\n",
       " <matplotlib.lines.Line2D at 0x1e1b98d7b00>,\n",
       " <matplotlib.lines.Line2D at 0x1e1b98d7588>,\n",
       " <matplotlib.lines.Line2D at 0x1e1b98d7a90>,\n",
       " <matplotlib.lines.Line2D at 0x1e1b98d7978>,\n",
       " <matplotlib.lines.Line2D at 0x1e1b98d7ba8>,\n",
       " <matplotlib.lines.Line2D at 0x1e1b98d77f0>,\n",
       " <matplotlib.lines.Line2D at 0x1e1b98d7320>,\n",
       " <matplotlib.lines.Line2D at 0x1e1b98d74a8>,\n",
       " <matplotlib.lines.Line2D at 0x1e1b98d70b8>,\n",
       " <matplotlib.lines.Line2D at 0x1e1b98d7eb8>,\n",
       " <matplotlib.lines.Line2D at 0x1e1b98d7f28>,\n",
       " <matplotlib.lines.Line2D at 0x1e1b98d7358>,\n",
       " <matplotlib.lines.Line2D at 0x1e1b98d3048>,\n",
       " <matplotlib.lines.Line2D at 0x1e1b98d3198>,\n",
       " <matplotlib.lines.Line2D at 0x1e1b98d32e8>,\n",
       " <matplotlib.lines.Line2D at 0x1e1b98d3438>,\n",
       " <matplotlib.lines.Line2D at 0x1e1b98d3588>,\n",
       " <matplotlib.lines.Line2D at 0x1e1b98d36d8>,\n",
       " <matplotlib.lines.Line2D at 0x1e1b98d3828>,\n",
       " <matplotlib.lines.Line2D at 0x1e1b98d3978>,\n",
       " <matplotlib.lines.Line2D at 0x1e1b98d3ac8>,\n",
       " <matplotlib.lines.Line2D at 0x1e1b98d3c18>,\n",
       " <matplotlib.lines.Line2D at 0x1e1b98d3d68>,\n",
       " <matplotlib.lines.Line2D at 0x1e1b98d3eb8>,\n",
       " <matplotlib.lines.Line2D at 0x1e1b98bd048>,\n",
       " <matplotlib.lines.Line2D at 0x1e1b98bd198>,\n",
       " <matplotlib.lines.Line2D at 0x1e1b98bd2e8>,\n",
       " <matplotlib.lines.Line2D at 0x1e1b98bd438>,\n",
       " <matplotlib.lines.Line2D at 0x1e1b98bd588>,\n",
       " <matplotlib.lines.Line2D at 0x1e1b98bd6d8>,\n",
       " <matplotlib.lines.Line2D at 0x1e1b98bd828>,\n",
       " <matplotlib.lines.Line2D at 0x1e1b98bd978>,\n",
       " <matplotlib.lines.Line2D at 0x1e1b98bdac8>,\n",
       " <matplotlib.lines.Line2D at 0x1e1b98bdc18>,\n",
       " <matplotlib.lines.Line2D at 0x1e1b98bdd68>,\n",
       " <matplotlib.lines.Line2D at 0x1e1b98bdeb8>,\n",
       " <matplotlib.lines.Line2D at 0x1e1b98a9048>,\n",
       " <matplotlib.lines.Line2D at 0x1e1b98a9198>,\n",
       " <matplotlib.lines.Line2D at 0x1e1b98a92e8>,\n",
       " <matplotlib.lines.Line2D at 0x1e1b98a9438>,\n",
       " <matplotlib.lines.Line2D at 0x1e1b98a9588>,\n",
       " <matplotlib.lines.Line2D at 0x1e1b98a96d8>,\n",
       " <matplotlib.lines.Line2D at 0x1e1b98a9828>,\n",
       " ...]"
      ]
     },
     "execution_count": 77,
     "metadata": {},
     "output_type": "execute_result"
    },
    {
     "data": {
      "image/png": "[encoded data removed]",
      "text/plain": [
       "<Figure size 432x288 with 1 Axes>"
      ]
     },
     "metadata": {
      "needs_background": "light"
     },
     "output_type": "display_data"
    }
   ],
   "source": [
    "plt.subplot(512)\n",
    "plt.plot(20*np.log10(Y_1[:num_fft//2]))"
   ]
  },
  {
   "cell_type": "code",
   "execution_count": 78,
   "metadata": {
    "ExecuteTime": {
     "end_time": "2020-03-17T04:42:40.335868Z",
     "start_time": "2020-03-17T04:42:39.897042Z"
    }
   },
   "outputs": [
    {
     "name": "stderr",
     "output_type": "stream",
     "text": [
      "C:\\Users\\Schwarz\\AppData\\Local\\conda\\conda\\envs\\py36_tensorflow\\lib\\site-packages\\numpy\\core\\numeric.py:538: ComplexWarning: Casting complex values to real discards the imaginary part\n",
      "  return array(a, dtype, copy=False, order=order)\n"
     ]
    },
    {
     "data": {
      "text/plain": [
       "[<matplotlib.lines.Line2D at 0x1e1b955ca90>,\n",
       " <matplotlib.lines.Line2D at 0x1e1b955cbe0>]"
      ]
     },
     "execution_count": 78,
     "metadata": {},
     "output_type": "execute_result"
    },
    {
     "data": {
      "image/png": "[encoded data removed]",
      "text/plain": [
       "<Figure size 432x288 with 1 Axes>"
      ]
     },
     "metadata": {
      "needs_background": "light"
     },
     "output_type": "display_data"
    }
   ],
   "source": [
    "plt.subplot(513)\n",
    "plt.plot(20*np.log10(ps[:num_fft//2]))"
   ]
  },
  {
   "cell_type": "code",
   "execution_count": 79,
   "metadata": {
    "ExecuteTime": {
     "end_time": "2020-03-17T04:42:56.630966Z",
     "start_time": "2020-03-17T04:42:56.315809Z"
    }
   },
   "outputs": [
    {
     "data": {
      "text/plain": [
       "[<matplotlib.lines.Line2D at 0x1e1c0e567b8>]"
      ]
     },
     "execution_count": 79,
     "metadata": {},
     "output_type": "execute_result"
    },
    {
     "data": {
      "image/png": "[encoded data removed]",
      "text/plain": [
       "<Figure size 432x288 with 1 Axes>"
      ]
     },
     "metadata": {
      "needs_background": "light"
     },
     "output_type": "display_data"
    }
   ],
   "source": [
    "plt.subplot(514)\n",
    "plt.plot(20*np.log10(ps_cor[:num_fft//2]))"
   ]
  },
  {
   "cell_type": "markdown",
   "metadata": {},
   "source": [
    "## 倒频谱"
   ]
  },
  {
   "cell_type": "code",
   "execution_count": 81,
   "metadata": {
    "ExecuteTime": {
     "end_time": "2020-03-17T04:44:55.994362Z",
     "start_time": "2020-03-17T04:44:55.606400Z"
    }
   },
   "outputs": [],
   "source": [
    "spectrum = np.fft.fft(y, n=num_fft)\n",
    "ceps = np.fft.ifft(np.log(np.abs(spectrum))).real"
   ]
  },
  {
   "cell_type": "code",
   "execution_count": 82,
   "metadata": {
    "ExecuteTime": {
     "end_time": "2020-03-17T04:45:32.992526Z",
     "start_time": "2020-03-17T04:45:32.983553Z"
    }
   },
   "outputs": [
    {
     "data": {
      "text/plain": [
       "array([[ 3.76514581e+00,  9.08037989e-02, -8.24532990e-03, ...,\n",
       "         9.98276371e-04, -8.24532990e-03,  9.08037989e-02],\n",
       "       [ 3.73433072e+00,  9.59149546e-02, -9.19967852e-03, ...,\n",
       "         1.17651566e-03, -9.19967852e-03,  9.59149546e-02],\n",
       "       [ 3.71989351e+00,  9.74309258e-02, -9.49278531e-03, ...,\n",
       "         1.23318782e-03, -9.49278531e-03,  9.74309258e-02],\n",
       "       ...,\n",
       "       [ 3.66509893e+00,  1.00102407e-01, -1.00204918e-02, ...,\n",
       "         1.33743379e-03, -1.00204918e-02,  1.00102407e-01],\n",
       "       [ 3.75044481e+00,  9.21485661e-02, -8.49135823e-03, ...,\n",
       "         1.04328865e-03, -8.49135823e-03,  9.21485661e-02],\n",
       "       [ 3.53514535e+00,  1.13994169e-01, -1.29946706e-02, ...,\n",
       "         1.97508890e-03, -1.29946706e-02,  1.13994169e-01]])"
      ]
     },
     "execution_count": 82,
     "metadata": {},
     "output_type": "execute_result"
    }
   ],
   "source": [
    "ceps"
   ]
  },
  {
   "cell_type": "markdown",
   "metadata": {},
   "source": [
    "# 异常检测"
   ]
  },
  {
   "cell_type": "markdown",
   "metadata": {},
   "source": [
    "## 无监督学习"
   ]
  },
  {
   "cell_type": "markdown",
   "metadata": {},
   "source": [
    "### 基于密度估计的异常检测"
   ]
  },
  {
   "cell_type": "code",
   "execution_count": 85,
   "metadata": {
    "ExecuteTime": {
     "end_time": "2020-03-17T04:59:10.303008Z",
     "start_time": "2020-03-17T04:59:10.256135Z"
    }
   },
   "outputs": [],
   "source": [
    "from sklearn.neighbors.kde import KernelDensity\n",
    "\n",
    "kde = KernelDensity(kernel='gaussian')\n",
    "kde = kde.fit(y)\n",
    "kde_X = kde.score_samples(y)"
   ]
  },
  {
   "cell_type": "code",
   "execution_count": 86,
   "metadata": {
    "ExecuteTime": {
     "end_time": "2020-03-17T04:59:12.080256Z",
     "start_time": "2020-03-17T04:59:12.057316Z"
    }
   },
   "outputs": [
    {
     "data": {
      "text/plain": [
       "array([-4.0615053 , -3.94720556, -3.99132697, -4.01884305, -4.29615229,\n",
       "       -3.94568866, -4.54235103, -4.20715216, -3.98347912, -4.13299262,\n",
       "       -3.96921454, -4.78234735, -4.01209334, -3.94454038, -3.9794096 ,\n",
       "       -3.93063384, -4.33480941, -3.93720827, -5.05832105, -4.31211745,\n",
       "       -3.93989353, -4.00274398, -4.03600916, -4.09854123, -3.96910931,\n",
       "       -4.05586402, -4.0722116 , -4.07465085, -3.26708719, -3.13642285,\n",
       "       -4.10847521, -4.35793833, -3.14788062, -3.45505988, -3.97349615,\n",
       "       -3.08036795, -3.55480861, -3.09008796, -4.42340288, -3.08113911,\n",
       "       -3.93702879, -3.09715506, -3.93778776, -3.2091247 , -4.22277407,\n",
       "       -4.26788749, -3.08243209, -3.27661162, -3.16336924, -4.22809134,\n",
       "       -3.97059932, -3.10592273, -3.14268971, -3.62568472, -3.72934   ,\n",
       "       -3.08366252, -3.67866572, -4.2390812 , -3.94580364, -3.6705893 ,\n",
       "       -4.2298879 , -4.06940377, -3.08144295, -4.45728759, -3.98643716,\n",
       "       -4.77624615, -4.13846716, -3.61462969, -3.11672522, -3.08150707,\n",
       "       -3.11710369, -4.18711255, -4.12481877, -3.98605914, -3.091026  ,\n",
       "       -3.48819319, -3.78997981, -4.06288829, -3.95694071, -4.20298472,\n",
       "       -3.21614855, -3.9313781 , -3.28563703, -3.63652806, -3.65556157,\n",
       "       -3.53745949, -3.08243209, -3.07954491, -3.41305154, -3.20811065,\n",
       "       -3.31001571, -4.20298472, -4.84231932, -3.1613292 , -3.83083322,\n",
       "       -3.93326825, -3.07995995, -3.34029332, -3.08615043, -3.72312937,\n",
       "       -4.77086632, -3.13830256, -3.70884499, -3.12086551, -3.33034813,\n",
       "       -3.0838483 , -4.20773187, -4.32827408, -3.08823556, -3.20811065,\n",
       "       -3.09059167, -4.19792584, -3.94355634, -3.5769055 , -4.18180878,\n",
       "       -4.09589326, -3.60599653, -3.13492748, -4.29055935, -4.12339754,\n",
       "       -3.50452384, -3.12120707, -3.96910931, -3.93702879, -4.61222604,\n",
       "       -3.98643716, -4.67784305, -3.94691288, -3.38036266, -4.14951861,\n",
       "       -3.20596882, -3.19543024, -4.01118082, -4.02623881, -3.94951661,\n",
       "       -3.88231742, -3.5021672 , -3.75653437, -3.73290691, -4.09480363,\n",
       "       -3.41813838, -3.93138954, -3.3504837 , -3.11186149, -3.90877178,\n",
       "       -3.0880218 , -3.17867857, -3.12510047, -3.70036083, -3.26827682,\n",
       "       -3.17090903, -3.28563703, -4.62148363, -3.10041521, -3.37031343,\n",
       "       -3.11362037, -3.85271257, -3.93993081, -3.0790324 , -3.8352292 ,\n",
       "       -4.53820455, -3.11474088, -3.66384611, -3.08150707, -4.32828352,\n",
       "       -3.08433498, -3.34777546, -4.20245956, -3.09415655, -3.08357947,\n",
       "       -3.11186149, -4.15797756, -3.962884  , -3.53354867, -3.65119846,\n",
       "       -4.13259744, -4.10622569, -3.1613292 , -3.53034162, -4.09563491,\n",
       "       -4.09589326, -3.52391693, -3.10552392, -3.90728515, -4.57490858,\n",
       "       -4.08580794, -3.98554986, -3.27661162, -4.34423654, -3.66328791,\n",
       "       -3.94837835, -3.08876519, -3.19485665, -4.06119536, -3.86669734,\n",
       "       -4.07915232, -3.5021672 , -4.82027233, -3.90470335, -4.08509656,\n",
       "       -3.94951661, -4.06624781, -3.40539987, -3.12747691, -3.79327696,\n",
       "       -3.14815104, -3.13575827, -3.10013771, -3.16152167, -3.21114345,\n",
       "       -4.03653034, -4.65483403, -3.25855486, -3.93627334, -3.11079934,\n",
       "       -3.80426805, -3.37161031, -3.24700165, -4.86755541, -3.17242658,\n",
       "       -3.58369313, -3.10156494, -3.92071614, -3.09715506, -3.09265645,\n",
       "       -4.23865616, -4.11154752, -3.4685785 , -3.10556734, -4.19422108,\n",
       "       -3.93203889, -3.08049114, -3.37031343, -3.6997581 , -3.64005415,\n",
       "       -3.09057316, -3.73172638, -4.22809134, -3.93897542, -3.62745308,\n",
       "       -3.09298657, -4.19422108, -4.07988289, -4.75883322, -4.22099537,\n",
       "       -4.34054987, -3.97777681, -3.86545485, -3.12955451, -3.23235006,\n",
       "       -3.16760726, -3.73616513, -3.94317276, -4.04523102, -3.5038176 ,\n",
       "       -3.48957797, -4.39050688, -4.2513526 , -4.02451845, -3.84029672,\n",
       "       -3.37282426, -4.03886028, -3.15874414, -3.81341702, -3.18182799,\n",
       "       -4.22725251, -3.14021233, -3.0923135 , -3.26628533, -3.17242658,\n",
       "       -3.92896117, -4.54235103, -3.26528474, -3.77292488, -3.94111861,\n",
       "       -3.08004083, -3.4242607 , -3.19530422, -4.70534342, -3.11774226,\n",
       "       -3.85568246, -3.07906056, -3.80426805, -3.08150707, -3.18318484,\n",
       "       -3.07962918, -4.22485229, -4.24936689, -3.091829  , -4.22133682,\n",
       "       -3.96869765, -3.0831895 , -3.160168  , -3.72934   , -3.80883842,\n",
       "       -3.13459649, -5.00823736, -4.2302453 , -3.93281486, -3.774979  ,\n",
       "       -3.18318484, -4.23961251, -4.10379419, -4.74063165, -4.11679629,\n",
       "       -4.3569909 , -3.95675831, -4.23546061, -3.44083203, -3.11807054,\n",
       "       -3.31207773, -3.10519719, -3.93583511, -4.05479887, -3.71453401,\n",
       "       -3.55283985, -3.73172638, -4.41894638, -4.10672251, -3.74651644,\n",
       "       -4.04611637, -3.44839804, -3.36968524, -3.18970484, -3.74545047,\n",
       "       -3.22509695, -3.14560735, -3.15968943, -3.26236184, -3.10395592,\n",
       "       -3.62288533, -4.38155993, -3.11735382, -3.9329119 , -3.08521745,\n",
       "       -4.02218497, -3.4292818 , -3.12120707, -4.6403482 , -3.09929597,\n",
       "       -3.69778616, -3.0828778 , -3.08738292, -3.8998365 , -3.42570198,\n",
       "       -3.08949395, -4.09854123, -4.22930194, -3.13107743, -4.22618295,\n",
       "       -4.00979807, -3.13735529, -3.1638572 , -3.61628563, -3.78594207,\n",
       "       -3.12261887, -4.56504271, -4.23359616, -3.93049447, -3.6997581 ,\n",
       "       -3.16950463, -4.23787041, -3.95321392, -4.65583661, -4.40699247,\n",
       "       -4.44890555, -3.93210798, -4.11154608, -3.13107743, -3.32683859,\n",
       "       -3.45344243, -3.15441806, -3.93031089, -4.05160575, -3.91286761,\n",
       "       -3.33673425, -4.85766717, -4.36233269, -4.10780909, -3.93778776,\n",
       "       -3.43932506, -3.58216078, -3.93149605, -3.2313367 , -3.55283985,\n",
       "       -3.34627368, -3.13275383, -3.08876519, -3.09265645, -3.28563703,\n",
       "       -3.80871671, -4.69495725, -3.37313593, -4.0573107 , -3.93048082,\n",
       "       -3.21156387, -3.33673425, -3.17281438, -4.69495725, -3.16095139,\n",
       "       -3.66941082, -3.07924534, -4.02580691, -3.09350819, -3.13575827,\n",
       "       -4.22133682, -4.24324985, -3.28622583, -3.17090903, -4.21028844,\n",
       "       -3.99384144, -3.0794542 , -3.14103521, -3.70858537, -3.65499101,\n",
       "       -3.11155211, -4.79573566, -4.23496768, -3.93547995, -3.76432626,\n",
       "       -3.13459649, -4.23815165, -3.95907666, -4.41647979, -4.60243777,\n",
       "       -4.10114898, -3.992168  , -4.07574744, -3.16152167, -3.26472131,\n",
       "       -3.44587597, -3.30293693, -3.94088971, -4.07509859, -3.67263001,\n",
       "       -3.32683859, -4.32840543, -4.07864621, -3.68485386, -3.4898777 ,\n",
       "       -3.68064641, -3.33919785, -4.09134691, -3.12411046, -3.90091643,\n",
       "       -3.1361631 , -3.1406033 , -3.16900205, -4.03653034, -4.66962005,\n",
       "       -3.24619928, -3.08492337, -3.21114345, -3.94850621, -3.12120707,\n",
       "       -3.4518809 , -3.20603341, -4.06068442, -3.70942029, -3.08079449,\n",
       "       -4.12778232, -4.79988388, -3.17242658, -3.09988982, -4.18759918,\n",
       "       -4.27099905, -3.10274517, -3.18118919, -3.08021098, -3.08645879,\n",
       "       -3.08521745, -4.16300433, -3.93525261, -3.57853001, -3.15076526,\n",
       "       -3.77228711, -4.21112759, -3.94032758, -3.6705893 , -4.47467342,\n",
       "       -4.23261252, -4.07465085, -3.13303259, -4.39834399, -4.17125131,\n",
       "       -4.60566631, -4.21748374, -3.97946112, -3.22053409, -3.27900714,\n",
       "       -3.4685785 , -3.55917306, -3.93075764, -4.03148854, -4.36925096,\n",
       "       -3.71028852, -4.08617322, -3.51225431, -4.41789331, -3.74651644,\n",
       "       -3.93702879, -4.01931537, -3.79659077, -3.09209575, -3.44303058,\n",
       "       -3.12411046, -3.14902919, -3.15251785, -3.30254029, -3.38162065,\n",
       "       -3.19489729, -3.50228969, -4.77658606, -3.4898777 , -4.15337412,\n",
       "       -4.08577675, -3.46353644, -3.33673425, -3.20020184, -4.12227939,\n",
       "       -5.28855155, -3.36968524, -3.62843503, -3.26565318, -3.25532361,\n",
       "       -3.08243209, -4.13769683, -4.44873859, -3.24083261, -3.08838291,\n",
       "       -3.21677851, -4.1427866 , -3.93404029, -3.76432626, -4.21441378,\n",
       "       -4.07588835, -3.58015717, -3.13575827, -3.59328864, -4.11827554,\n",
       "       -3.51262909, -3.09544062, -3.94580364, -3.52421472, -5.60631616,\n",
       "       -4.0043391 , -4.34637156, -4.42697698, -3.29259224, -3.36968524,\n",
       "       -3.96652301, -3.30474153, -3.12222856, -4.04556481, -4.40451905,\n",
       "       -3.68764166, -3.61247213, -3.79437395, -3.93370787, -4.10998378,\n",
       "       -3.4685785 , -4.06940377, -3.10646899, -3.27221818, -3.98842152,\n",
       "       -3.09589956, -3.13735529, -3.1422539 , -3.07954491, -3.99997531,\n",
       "       -4.73196228, -3.36116503, -3.3244367 , -4.22090827, -3.96394104,\n",
       "       -3.21114345, -3.32437108, -3.38990322, -3.35428543, -3.52995438,\n",
       "       -3.12120707, -4.17969811, -5.42501583, -3.11598543, -4.11314559,\n",
       "       -4.40574244, -3.31001571, -3.31551106, -3.09820721, -3.09544062,\n",
       "       -3.07975894, -3.80548988, -4.17396222, -3.93105838, -3.56238022,\n",
       "       -3.1022416 , -4.17099021, -4.1167621 , -3.47996768, -4.09299009,\n",
       "       -4.20686729, -3.95232359, -3.07930026])"
      ]
     },
     "execution_count": 86,
     "metadata": {},
     "output_type": "execute_result"
    }
   ],
   "source": [
    "kde_X"
   ]
  },
  {
   "cell_type": "code",
   "execution_count": 88,
   "metadata": {
    "ExecuteTime": {
     "end_time": "2020-03-17T05:04:20.506391Z",
     "start_time": "2020-03-17T05:04:20.492429Z"
    }
   },
   "outputs": [],
   "source": [
    "from scipy.stats.mstats import mquantiles\n",
    "alpha_set = 0.95\n",
    "tau_kde = mquantiles(kde_X,1.-alpha_set)\n",
    "n_samples,n_features = y.shape\n",
    "y_range = np.zeros((n_features,2))\n",
    "y_range[:,0] = np.min(y, axis=0)-1\n",
    "y_range[:,1] = np.max(y, axis=0)+1\n",
    "h = 0.1 # step size of the mash"
   ]
  },
  {
   "cell_type": "code",
   "execution_count": 96,
   "metadata": {
    "ExecuteTime": {
     "end_time": "2020-03-17T05:18:52.117362Z",
     "start_time": "2020-03-17T05:18:51.310515Z"
    }
   },
   "outputs": [
    {
     "data": {
      "text/plain": [
       "<matplotlib.collections.PathCollection at 0x1e1c610fa58>"
      ]
     },
     "execution_count": 96,
     "metadata": {},
     "output_type": "execute_result"
    },
    {
     "data": {
      "image/png": "[encoded data removed]",
      "text/plain": [
       "<Figure size 432x288 with 1 Axes>"
      ]
     },
     "metadata": {
      "needs_background": "light"
     },
     "output_type": "display_data"
    }
   ],
   "source": [
    "x_min,x_max = y_range[0]\n",
    "y_min,y_max = y_range[1]\n",
    "xx,yy = np.meshgrid(np.arange(x_min,x_max,h),\n",
    "                    np.arange(y_min,y_max,h))\n",
    "\n",
    "grid = np.c_[xx.ravel(),yy.ravel()]\n",
    "Z_kde = kde.score_samples(grid)\n",
    "Z_kde = Z_kde.reshape(xx.shape)\n",
    "plt.figure()\n",
    "c_0 = plt.contour(xx,yy,Z_kde,levels=tau_kde, colors='red',linewidths=3)\n",
    "plt.clabel(c_0,inline=1,fontsize=15,fmt={tau_kde[0]:str(alpha_set)})\n",
    "plt.scatter(y['iActual2'],y['pha2'])"
   ]
  },
  {
   "cell_type": "markdown",
   "metadata": {},
   "source": [
    "### 隔离森林"
   ]
  },
  {
   "cell_type": "code",
   "execution_count": 106,
   "metadata": {
    "ExecuteTime": {
     "end_time": "2020-03-17T06:04:14.196407Z",
     "start_time": "2020-03-17T06:04:12.081065Z"
    }
   },
   "outputs": [
    {
     "name": "stderr",
     "output_type": "stream",
     "text": [
      "C:\\Users\\Schwarz\\AppData\\Local\\conda\\conda\\envs\\py36_tensorflow\\lib\\site-packages\\sklearn\\ensemble\\iforest.py:223: FutureWarning: behaviour=\"old\" is deprecated and will be removed in version 0.22. Please use behaviour=\"new\", which makes the decision_function change to match other anomaly detection algorithm API.\n",
      "  FutureWarning)\n",
      "C:\\Users\\Schwarz\\AppData\\Local\\conda\\conda\\envs\\py36_tensorflow\\lib\\site-packages\\matplotlib\\contour.py:1000: UserWarning: The following kwargs were not used by contour: 'linewidth'\n",
      "  s)\n"
     ]
    },
    {
     "data": {
      "text/plain": [
       "<matplotlib.collections.PathCollection at 0x1e1cab6dfd0>"
      ]
     },
     "execution_count": 106,
     "metadata": {},
     "output_type": "execute_result"
    },
    {
     "data": {
      "image/png": "[encoded data removed]",
      "text/plain": [
       "<Figure size 432x288 with 1 Axes>"
      ]
     },
     "metadata": {
      "needs_background": "light"
     },
     "output_type": "display_data"
    }
   ],
   "source": [
    "from sklearn.ensemble import IsolationForest\n",
    "\n",
    "iforest = IsolationForest(n_estimators=300,contamination=0.10)\n",
    "iforest = iforest.fit(y)\n",
    "\n",
    "Z_iforest = iforest.decision_function(grid)\n",
    "Z_iforest = Z_iforest.reshape(xx.shape)\n",
    "\n",
    "plt.figure()\n",
    "c_0 = plt.contour(xx,yy,Z_iforest,\n",
    "                  levels=[iforest.threshold_],\n",
    "                  colors = 'red',linewidth=3)\n",
    "plt.clabel(c_0,inline=1, fontsize=15,\n",
    "           fmt={iforest.threshold_:str(alpha_set)})\n",
    "plt.scatter(y['iActual2'],y['pha2'],s=1.)"
   ]
  },
  {
   "cell_type": "markdown",
   "metadata": {},
   "source": [
    "## 有监督学习"
   ]
  },
  {
   "cell_type": "markdown",
   "metadata": {},
   "source": [
    "### 基于单类SVM的离群点检测"
   ]
  },
  {
   "cell_type": "code",
   "execution_count": 100,
   "metadata": {
    "ExecuteTime": {
     "end_time": "2020-03-17T05:36:28.362070Z",
     "start_time": "2020-03-17T05:36:27.946185Z"
    }
   },
   "outputs": [
    {
     "data": {
      "text/plain": [
       "<matplotlib.collections.PathCollection at 0x1e1c811de80>"
      ]
     },
     "execution_count": 100,
     "metadata": {},
     "output_type": "execute_result"
    },
    {
     "data": {
      "image/png": "[encoded data removed]",
      "text/plain": [
       "<Figure size 432x288 with 1 Axes>"
      ]
     },
     "metadata": {
      "needs_background": "light"
     },
     "output_type": "display_data"
    }
   ],
   "source": [
    "from sklearn.svm import OneClassSVM\n",
    "\n",
    "nu = 0.05\n",
    "ocsvm = OneClassSVM(kernel='rbf',gamma=0.05, nu=nu)\n",
    "ocsvm.fit(y)\n",
    "y_outliers = y[ocsvm.predict(y)==-1]\n",
    "Z_ocsvm = ocsvm.decision_function(grid)\n",
    "Z_ocsvm = Z_ocsvm.reshape(xx.shape)\n",
    "plt.figure()\n",
    "c_0 = plt.contour(xx,yy,Z_ocsvm,levels=[0],colors='red', linewidths=3)\n",
    "plt.clabel(c_0,inline=1,fontsize=15,fmt={0:str(alpha_set)})\n",
    "plt.scatter(y['iActual2'],y['pha2'])\n",
    "plt.scatter(y_outliers['iActual2'],y_outliers['pha2'],color='red')"
   ]
  },
  {
   "cell_type": "markdown",
   "metadata": {},
   "source": [
    "隔离森林是一种基于树的异常检测算法。 该算法构建了许多随机树，其基本原理是，如果样本被隔离，在非常少量的随机分割之后，它应该单独存在于叶子中。 隔离森林根据样本最终所在的树的深度建立异常得分。"
   ]
  },
  {
   "cell_type": "markdown",
   "metadata": {},
   "source": [
    "# 参考资料"
   ]
  },
  {
   "cell_type": "code",
   "execution_count": null,
   "metadata": {},
   "outputs": [],
   "source": [
    "https://www.cnblogs.com/bradleon/p/6832867.html"
   ]
  }
 ],
 "metadata": {
  "hide_input": false,
  "kernelspec": {
   "display_name": "Python 3",
   "language": "python",
   "name": "python3"
  },
  "toc": {
   "base_numbering": 1,
   "nav_menu": {},
   "number_sections": true,
   "sideBar": true,
   "skip_h1_title": false,
   "title_cell": "Table of Contents",
   "title_sidebar": "Contents",
   "toc_cell": false,
   "toc_position": {
    "height": "calc(100% - 180px)",
    "left": "10px",
    "top": "150px",
    "width": "294px"
   },
   "toc_section_display": true,
   "toc_window_display": true
  },
  "varInspector": {
   "cols": {
    "lenName": 16,
    "lenType": 16,
    "lenVar": 40
   },
   "kernels_config": {
    "python": {
     "delete_cmd_postfix": "",
     "delete_cmd_prefix": "del ",
     "library": "var_list.py",
     "varRefreshCmd": "print(var_dic_list())"
    },
    "r": {
     "delete_cmd_postfix": ") ",
     "delete_cmd_prefix": "rm(",
     "library": "var_list.r",
     "varRefreshCmd": "cat(var_dic_list()) "
    }
   },
   "types_to_exclude": [
    "module",
    "function",
    "builtin_function_or_method",
    "instance",
    "_Feature"
   ],
   "window_display": false
  }
 },
 "nbformat": 4,
 "nbformat_minor": 2
}
