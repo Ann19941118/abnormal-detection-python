{
 "cells": [
  {
   "cell_type": "markdown",
   "metadata": {},
   "source": [
    "# 依赖"
   ]
  },
  {
   "cell_type": "code",
   "execution_count": 246,
   "metadata": {
    "ExecuteTime": {
     "end_time": "2020-03-19T06:37:44.945282Z",
     "start_time": "2020-03-19T06:37:42.032523Z"
    }
   },
   "outputs": [],
   "source": [
    "import pandas as pd\n",
    "import tsfresh as tsf\n",
    "from statsmodels.tsa.stattools import adfuller\n",
    "from statsmodels.stats.diagnostic import acorr_ljungbox\n",
    "import matplotlib.pyplot as plt\n",
    "from scipy.stats.mstats import mquantiles\n",
    "from sklearn.neighbors.kde import KernelDensity\n",
    "from sklearn.ensemble import IsolationForest\n",
    "from sklearn.svm import OneClassSVM\n",
    "import datetime\n",
    "import warnings\n",
    "warnings.filterwarnings(\"ignore\")\n",
    "\n",
    "from pyod.models.abod import ABOD\n",
    "from pyod.models.cblof import CBLOF\n",
    "from pyod.models.feature_bagging import FeatureBagging\n",
    "from pyod.models.hbos import HBOS\n",
    "from pyod.models.iforest import IForest\n",
    "from pyod.models.knn import KNN\n",
    "from pyod.models.lof import LOF\n",
    "from pyod.models.mcd import MCD\n",
    "from pyod.models.ocsvm import OCSVM\n",
    "from pyod.models.pca import PCA\n",
    "\n",
    "from pyod.utils.utility import standardizer\n",
    "\n",
    "%matplotlib inline"
   ]
  },
  {
   "cell_type": "markdown",
   "metadata": {
    "ExecuteTime": {
     "end_time": "2020-03-17T08:04:44.446036Z",
     "start_time": "2020-03-17T08:04:44.436051Z"
    }
   },
   "source": [
    "# 数据准备"
   ]
  },
  {
   "cell_type": "code",
   "execution_count": 252,
   "metadata": {
    "ExecuteTime": {
     "end_time": "2020-03-19T06:44:28.040706Z",
     "start_time": "2020-03-19T06:44:28.022754Z"
    }
   },
   "outputs": [],
   "source": [
    "data = pd.read_csv('../Data/123.csv')\n",
    "data = data[['dateTime', 'iActual2', 'pha2']]\n",
    "data = data.set_index('dateTime',drop=False)\n",
    "data.index = pd.to_datetime(data.index)"
   ]
  },
  {
   "cell_type": "code",
   "execution_count": 253,
   "metadata": {
    "ExecuteTime": {
     "end_time": "2020-03-19T06:44:29.801662Z",
     "start_time": "2020-03-19T06:44:29.778714Z"
    }
   },
   "outputs": [
    {
     "data": {
      "text/html": [
       "<div>\n",
       "<style scoped>\n",
       "    .dataframe tbody tr th:only-of-type {\n",
       "        vertical-align: middle;\n",
       "    }\n",
       "\n",
       "    .dataframe tbody tr th {\n",
       "        vertical-align: top;\n",
       "    }\n",
       "\n",
       "    .dataframe thead th {\n",
       "        text-align: right;\n",
       "    }\n",
       "</style>\n",
       "<table border=\"1\" class=\"dataframe\">\n",
       "  <thead>\n",
       "    <tr style=\"text-align: right;\">\n",
       "      <th></th>\n",
       "      <th>iActual2</th>\n",
       "      <th>pha2</th>\n",
       "    </tr>\n",
       "  </thead>\n",
       "  <tbody>\n",
       "    <tr>\n",
       "      <th>count</th>\n",
       "      <td>407.000000</td>\n",
       "      <td>407.000000</td>\n",
       "    </tr>\n",
       "    <tr>\n",
       "      <th>mean</th>\n",
       "      <td>8.526757</td>\n",
       "      <td>43.410737</td>\n",
       "    </tr>\n",
       "    <tr>\n",
       "      <th>std</th>\n",
       "      <td>0.053127</td>\n",
       "      <td>1.313665</td>\n",
       "    </tr>\n",
       "    <tr>\n",
       "      <th>min</th>\n",
       "      <td>8.400000</td>\n",
       "      <td>40.790000</td>\n",
       "    </tr>\n",
       "    <tr>\n",
       "      <th>25%</th>\n",
       "      <td>8.490000</td>\n",
       "      <td>42.245000</td>\n",
       "    </tr>\n",
       "    <tr>\n",
       "      <th>50%</th>\n",
       "      <td>8.520000</td>\n",
       "      <td>43.410000</td>\n",
       "    </tr>\n",
       "    <tr>\n",
       "      <th>75%</th>\n",
       "      <td>8.560000</td>\n",
       "      <td>44.455000</td>\n",
       "    </tr>\n",
       "    <tr>\n",
       "      <th>max</th>\n",
       "      <td>8.800000</td>\n",
       "      <td>46.050000</td>\n",
       "    </tr>\n",
       "  </tbody>\n",
       "</table>\n",
       "</div>"
      ],
      "text/plain": [
       "         iActual2        pha2\n",
       "count  407.000000  407.000000\n",
       "mean     8.526757   43.410737\n",
       "std      0.053127    1.313665\n",
       "min      8.400000   40.790000\n",
       "25%      8.490000   42.245000\n",
       "50%      8.520000   43.410000\n",
       "75%      8.560000   44.455000\n",
       "max      8.800000   46.050000"
      ]
     },
     "execution_count": 253,
     "metadata": {},
     "output_type": "execute_result"
    }
   ],
   "source": [
    "data.describe()"
   ]
  },
  {
   "cell_type": "code",
   "execution_count": 319,
   "metadata": {
    "ExecuteTime": {
     "end_time": "2020-03-19T10:09:20.206306Z",
     "start_time": "2020-03-19T10:09:20.199361Z"
    }
   },
   "outputs": [],
   "source": [
    "xx,yy = np.meshgrid(np.arange(7,9,0.1),\n",
    "                    np.arange(41,45,0.1))"
   ]
  },
  {
   "cell_type": "code",
   "execution_count": 321,
   "metadata": {
    "ExecuteTime": {
     "end_time": "2020-03-19T10:10:17.965302Z",
     "start_time": "2020-03-19T10:10:17.935350Z"
    }
   },
   "outputs": [
    {
     "data": {
      "text/plain": [
       "(array([[7. , 7.1, 7.2, 7.3, 7.4, 7.5, 7.6, 7.7, 7.8, 7.9, 8. , 8.1, 8.2,\n",
       "         8.3, 8.4, 8.5, 8.6, 8.7, 8.8, 8.9],\n",
       "        [7. , 7.1, 7.2, 7.3, 7.4, 7.5, 7.6, 7.7, 7.8, 7.9, 8. , 8.1, 8.2,\n",
       "         8.3, 8.4, 8.5, 8.6, 8.7, 8.8, 8.9],\n",
       "        [7. , 7.1, 7.2, 7.3, 7.4, 7.5, 7.6, 7.7, 7.8, 7.9, 8. , 8.1, 8.2,\n",
       "         8.3, 8.4, 8.5, 8.6, 8.7, 8.8, 8.9],\n",
       "        [7. , 7.1, 7.2, 7.3, 7.4, 7.5, 7.6, 7.7, 7.8, 7.9, 8. , 8.1, 8.2,\n",
       "         8.3, 8.4, 8.5, 8.6, 8.7, 8.8, 8.9],\n",
       "        [7. , 7.1, 7.2, 7.3, 7.4, 7.5, 7.6, 7.7, 7.8, 7.9, 8. , 8.1, 8.2,\n",
       "         8.3, 8.4, 8.5, 8.6, 8.7, 8.8, 8.9],\n",
       "        [7. , 7.1, 7.2, 7.3, 7.4, 7.5, 7.6, 7.7, 7.8, 7.9, 8. , 8.1, 8.2,\n",
       "         8.3, 8.4, 8.5, 8.6, 8.7, 8.8, 8.9],\n",
       "        [7. , 7.1, 7.2, 7.3, 7.4, 7.5, 7.6, 7.7, 7.8, 7.9, 8. , 8.1, 8.2,\n",
       "         8.3, 8.4, 8.5, 8.6, 8.7, 8.8, 8.9],\n",
       "        [7. , 7.1, 7.2, 7.3, 7.4, 7.5, 7.6, 7.7, 7.8, 7.9, 8. , 8.1, 8.2,\n",
       "         8.3, 8.4, 8.5, 8.6, 8.7, 8.8, 8.9],\n",
       "        [7. , 7.1, 7.2, 7.3, 7.4, 7.5, 7.6, 7.7, 7.8, 7.9, 8. , 8.1, 8.2,\n",
       "         8.3, 8.4, 8.5, 8.6, 8.7, 8.8, 8.9],\n",
       "        [7. , 7.1, 7.2, 7.3, 7.4, 7.5, 7.6, 7.7, 7.8, 7.9, 8. , 8.1, 8.2,\n",
       "         8.3, 8.4, 8.5, 8.6, 8.7, 8.8, 8.9],\n",
       "        [7. , 7.1, 7.2, 7.3, 7.4, 7.5, 7.6, 7.7, 7.8, 7.9, 8. , 8.1, 8.2,\n",
       "         8.3, 8.4, 8.5, 8.6, 8.7, 8.8, 8.9],\n",
       "        [7. , 7.1, 7.2, 7.3, 7.4, 7.5, 7.6, 7.7, 7.8, 7.9, 8. , 8.1, 8.2,\n",
       "         8.3, 8.4, 8.5, 8.6, 8.7, 8.8, 8.9],\n",
       "        [7. , 7.1, 7.2, 7.3, 7.4, 7.5, 7.6, 7.7, 7.8, 7.9, 8. , 8.1, 8.2,\n",
       "         8.3, 8.4, 8.5, 8.6, 8.7, 8.8, 8.9],\n",
       "        [7. , 7.1, 7.2, 7.3, 7.4, 7.5, 7.6, 7.7, 7.8, 7.9, 8. , 8.1, 8.2,\n",
       "         8.3, 8.4, 8.5, 8.6, 8.7, 8.8, 8.9],\n",
       "        [7. , 7.1, 7.2, 7.3, 7.4, 7.5, 7.6, 7.7, 7.8, 7.9, 8. , 8.1, 8.2,\n",
       "         8.3, 8.4, 8.5, 8.6, 8.7, 8.8, 8.9],\n",
       "        [7. , 7.1, 7.2, 7.3, 7.4, 7.5, 7.6, 7.7, 7.8, 7.9, 8. , 8.1, 8.2,\n",
       "         8.3, 8.4, 8.5, 8.6, 8.7, 8.8, 8.9],\n",
       "        [7. , 7.1, 7.2, 7.3, 7.4, 7.5, 7.6, 7.7, 7.8, 7.9, 8. , 8.1, 8.2,\n",
       "         8.3, 8.4, 8.5, 8.6, 8.7, 8.8, 8.9],\n",
       "        [7. , 7.1, 7.2, 7.3, 7.4, 7.5, 7.6, 7.7, 7.8, 7.9, 8. , 8.1, 8.2,\n",
       "         8.3, 8.4, 8.5, 8.6, 8.7, 8.8, 8.9],\n",
       "        [7. , 7.1, 7.2, 7.3, 7.4, 7.5, 7.6, 7.7, 7.8, 7.9, 8. , 8.1, 8.2,\n",
       "         8.3, 8.4, 8.5, 8.6, 8.7, 8.8, 8.9],\n",
       "        [7. , 7.1, 7.2, 7.3, 7.4, 7.5, 7.6, 7.7, 7.8, 7.9, 8. , 8.1, 8.2,\n",
       "         8.3, 8.4, 8.5, 8.6, 8.7, 8.8, 8.9],\n",
       "        [7. , 7.1, 7.2, 7.3, 7.4, 7.5, 7.6, 7.7, 7.8, 7.9, 8. , 8.1, 8.2,\n",
       "         8.3, 8.4, 8.5, 8.6, 8.7, 8.8, 8.9],\n",
       "        [7. , 7.1, 7.2, 7.3, 7.4, 7.5, 7.6, 7.7, 7.8, 7.9, 8. , 8.1, 8.2,\n",
       "         8.3, 8.4, 8.5, 8.6, 8.7, 8.8, 8.9],\n",
       "        [7. , 7.1, 7.2, 7.3, 7.4, 7.5, 7.6, 7.7, 7.8, 7.9, 8. , 8.1, 8.2,\n",
       "         8.3, 8.4, 8.5, 8.6, 8.7, 8.8, 8.9],\n",
       "        [7. , 7.1, 7.2, 7.3, 7.4, 7.5, 7.6, 7.7, 7.8, 7.9, 8. , 8.1, 8.2,\n",
       "         8.3, 8.4, 8.5, 8.6, 8.7, 8.8, 8.9],\n",
       "        [7. , 7.1, 7.2, 7.3, 7.4, 7.5, 7.6, 7.7, 7.8, 7.9, 8. , 8.1, 8.2,\n",
       "         8.3, 8.4, 8.5, 8.6, 8.7, 8.8, 8.9],\n",
       "        [7. , 7.1, 7.2, 7.3, 7.4, 7.5, 7.6, 7.7, 7.8, 7.9, 8. , 8.1, 8.2,\n",
       "         8.3, 8.4, 8.5, 8.6, 8.7, 8.8, 8.9],\n",
       "        [7. , 7.1, 7.2, 7.3, 7.4, 7.5, 7.6, 7.7, 7.8, 7.9, 8. , 8.1, 8.2,\n",
       "         8.3, 8.4, 8.5, 8.6, 8.7, 8.8, 8.9],\n",
       "        [7. , 7.1, 7.2, 7.3, 7.4, 7.5, 7.6, 7.7, 7.8, 7.9, 8. , 8.1, 8.2,\n",
       "         8.3, 8.4, 8.5, 8.6, 8.7, 8.8, 8.9],\n",
       "        [7. , 7.1, 7.2, 7.3, 7.4, 7.5, 7.6, 7.7, 7.8, 7.9, 8. , 8.1, 8.2,\n",
       "         8.3, 8.4, 8.5, 8.6, 8.7, 8.8, 8.9],\n",
       "        [7. , 7.1, 7.2, 7.3, 7.4, 7.5, 7.6, 7.7, 7.8, 7.9, 8. , 8.1, 8.2,\n",
       "         8.3, 8.4, 8.5, 8.6, 8.7, 8.8, 8.9],\n",
       "        [7. , 7.1, 7.2, 7.3, 7.4, 7.5, 7.6, 7.7, 7.8, 7.9, 8. , 8.1, 8.2,\n",
       "         8.3, 8.4, 8.5, 8.6, 8.7, 8.8, 8.9],\n",
       "        [7. , 7.1, 7.2, 7.3, 7.4, 7.5, 7.6, 7.7, 7.8, 7.9, 8. , 8.1, 8.2,\n",
       "         8.3, 8.4, 8.5, 8.6, 8.7, 8.8, 8.9],\n",
       "        [7. , 7.1, 7.2, 7.3, 7.4, 7.5, 7.6, 7.7, 7.8, 7.9, 8. , 8.1, 8.2,\n",
       "         8.3, 8.4, 8.5, 8.6, 8.7, 8.8, 8.9],\n",
       "        [7. , 7.1, 7.2, 7.3, 7.4, 7.5, 7.6, 7.7, 7.8, 7.9, 8. , 8.1, 8.2,\n",
       "         8.3, 8.4, 8.5, 8.6, 8.7, 8.8, 8.9],\n",
       "        [7. , 7.1, 7.2, 7.3, 7.4, 7.5, 7.6, 7.7, 7.8, 7.9, 8. , 8.1, 8.2,\n",
       "         8.3, 8.4, 8.5, 8.6, 8.7, 8.8, 8.9],\n",
       "        [7. , 7.1, 7.2, 7.3, 7.4, 7.5, 7.6, 7.7, 7.8, 7.9, 8. , 8.1, 8.2,\n",
       "         8.3, 8.4, 8.5, 8.6, 8.7, 8.8, 8.9],\n",
       "        [7. , 7.1, 7.2, 7.3, 7.4, 7.5, 7.6, 7.7, 7.8, 7.9, 8. , 8.1, 8.2,\n",
       "         8.3, 8.4, 8.5, 8.6, 8.7, 8.8, 8.9],\n",
       "        [7. , 7.1, 7.2, 7.3, 7.4, 7.5, 7.6, 7.7, 7.8, 7.9, 8. , 8.1, 8.2,\n",
       "         8.3, 8.4, 8.5, 8.6, 8.7, 8.8, 8.9],\n",
       "        [7. , 7.1, 7.2, 7.3, 7.4, 7.5, 7.6, 7.7, 7.8, 7.9, 8. , 8.1, 8.2,\n",
       "         8.3, 8.4, 8.5, 8.6, 8.7, 8.8, 8.9],\n",
       "        [7. , 7.1, 7.2, 7.3, 7.4, 7.5, 7.6, 7.7, 7.8, 7.9, 8. , 8.1, 8.2,\n",
       "         8.3, 8.4, 8.5, 8.6, 8.7, 8.8, 8.9]]),\n",
       " array([[41. , 41. , 41. , 41. , 41. , 41. , 41. , 41. , 41. , 41. , 41. ,\n",
       "         41. , 41. , 41. , 41. , 41. , 41. , 41. , 41. , 41. ],\n",
       "        [41.1, 41.1, 41.1, 41.1, 41.1, 41.1, 41.1, 41.1, 41.1, 41.1, 41.1,\n",
       "         41.1, 41.1, 41.1, 41.1, 41.1, 41.1, 41.1, 41.1, 41.1],\n",
       "        [41.2, 41.2, 41.2, 41.2, 41.2, 41.2, 41.2, 41.2, 41.2, 41.2, 41.2,\n",
       "         41.2, 41.2, 41.2, 41.2, 41.2, 41.2, 41.2, 41.2, 41.2],\n",
       "        [41.3, 41.3, 41.3, 41.3, 41.3, 41.3, 41.3, 41.3, 41.3, 41.3, 41.3,\n",
       "         41.3, 41.3, 41.3, 41.3, 41.3, 41.3, 41.3, 41.3, 41.3],\n",
       "        [41.4, 41.4, 41.4, 41.4, 41.4, 41.4, 41.4, 41.4, 41.4, 41.4, 41.4,\n",
       "         41.4, 41.4, 41.4, 41.4, 41.4, 41.4, 41.4, 41.4, 41.4],\n",
       "        [41.5, 41.5, 41.5, 41.5, 41.5, 41.5, 41.5, 41.5, 41.5, 41.5, 41.5,\n",
       "         41.5, 41.5, 41.5, 41.5, 41.5, 41.5, 41.5, 41.5, 41.5],\n",
       "        [41.6, 41.6, 41.6, 41.6, 41.6, 41.6, 41.6, 41.6, 41.6, 41.6, 41.6,\n",
       "         41.6, 41.6, 41.6, 41.6, 41.6, 41.6, 41.6, 41.6, 41.6],\n",
       "        [41.7, 41.7, 41.7, 41.7, 41.7, 41.7, 41.7, 41.7, 41.7, 41.7, 41.7,\n",
       "         41.7, 41.7, 41.7, 41.7, 41.7, 41.7, 41.7, 41.7, 41.7],\n",
       "        [41.8, 41.8, 41.8, 41.8, 41.8, 41.8, 41.8, 41.8, 41.8, 41.8, 41.8,\n",
       "         41.8, 41.8, 41.8, 41.8, 41.8, 41.8, 41.8, 41.8, 41.8],\n",
       "        [41.9, 41.9, 41.9, 41.9, 41.9, 41.9, 41.9, 41.9, 41.9, 41.9, 41.9,\n",
       "         41.9, 41.9, 41.9, 41.9, 41.9, 41.9, 41.9, 41.9, 41.9],\n",
       "        [42. , 42. , 42. , 42. , 42. , 42. , 42. , 42. , 42. , 42. , 42. ,\n",
       "         42. , 42. , 42. , 42. , 42. , 42. , 42. , 42. , 42. ],\n",
       "        [42.1, 42.1, 42.1, 42.1, 42.1, 42.1, 42.1, 42.1, 42.1, 42.1, 42.1,\n",
       "         42.1, 42.1, 42.1, 42.1, 42.1, 42.1, 42.1, 42.1, 42.1],\n",
       "        [42.2, 42.2, 42.2, 42.2, 42.2, 42.2, 42.2, 42.2, 42.2, 42.2, 42.2,\n",
       "         42.2, 42.2, 42.2, 42.2, 42.2, 42.2, 42.2, 42.2, 42.2],\n",
       "        [42.3, 42.3, 42.3, 42.3, 42.3, 42.3, 42.3, 42.3, 42.3, 42.3, 42.3,\n",
       "         42.3, 42.3, 42.3, 42.3, 42.3, 42.3, 42.3, 42.3, 42.3],\n",
       "        [42.4, 42.4, 42.4, 42.4, 42.4, 42.4, 42.4, 42.4, 42.4, 42.4, 42.4,\n",
       "         42.4, 42.4, 42.4, 42.4, 42.4, 42.4, 42.4, 42.4, 42.4],\n",
       "        [42.5, 42.5, 42.5, 42.5, 42.5, 42.5, 42.5, 42.5, 42.5, 42.5, 42.5,\n",
       "         42.5, 42.5, 42.5, 42.5, 42.5, 42.5, 42.5, 42.5, 42.5],\n",
       "        [42.6, 42.6, 42.6, 42.6, 42.6, 42.6, 42.6, 42.6, 42.6, 42.6, 42.6,\n",
       "         42.6, 42.6, 42.6, 42.6, 42.6, 42.6, 42.6, 42.6, 42.6],\n",
       "        [42.7, 42.7, 42.7, 42.7, 42.7, 42.7, 42.7, 42.7, 42.7, 42.7, 42.7,\n",
       "         42.7, 42.7, 42.7, 42.7, 42.7, 42.7, 42.7, 42.7, 42.7],\n",
       "        [42.8, 42.8, 42.8, 42.8, 42.8, 42.8, 42.8, 42.8, 42.8, 42.8, 42.8,\n",
       "         42.8, 42.8, 42.8, 42.8, 42.8, 42.8, 42.8, 42.8, 42.8],\n",
       "        [42.9, 42.9, 42.9, 42.9, 42.9, 42.9, 42.9, 42.9, 42.9, 42.9, 42.9,\n",
       "         42.9, 42.9, 42.9, 42.9, 42.9, 42.9, 42.9, 42.9, 42.9],\n",
       "        [43. , 43. , 43. , 43. , 43. , 43. , 43. , 43. , 43. , 43. , 43. ,\n",
       "         43. , 43. , 43. , 43. , 43. , 43. , 43. , 43. , 43. ],\n",
       "        [43.1, 43.1, 43.1, 43.1, 43.1, 43.1, 43.1, 43.1, 43.1, 43.1, 43.1,\n",
       "         43.1, 43.1, 43.1, 43.1, 43.1, 43.1, 43.1, 43.1, 43.1],\n",
       "        [43.2, 43.2, 43.2, 43.2, 43.2, 43.2, 43.2, 43.2, 43.2, 43.2, 43.2,\n",
       "         43.2, 43.2, 43.2, 43.2, 43.2, 43.2, 43.2, 43.2, 43.2],\n",
       "        [43.3, 43.3, 43.3, 43.3, 43.3, 43.3, 43.3, 43.3, 43.3, 43.3, 43.3,\n",
       "         43.3, 43.3, 43.3, 43.3, 43.3, 43.3, 43.3, 43.3, 43.3],\n",
       "        [43.4, 43.4, 43.4, 43.4, 43.4, 43.4, 43.4, 43.4, 43.4, 43.4, 43.4,\n",
       "         43.4, 43.4, 43.4, 43.4, 43.4, 43.4, 43.4, 43.4, 43.4],\n",
       "        [43.5, 43.5, 43.5, 43.5, 43.5, 43.5, 43.5, 43.5, 43.5, 43.5, 43.5,\n",
       "         43.5, 43.5, 43.5, 43.5, 43.5, 43.5, 43.5, 43.5, 43.5],\n",
       "        [43.6, 43.6, 43.6, 43.6, 43.6, 43.6, 43.6, 43.6, 43.6, 43.6, 43.6,\n",
       "         43.6, 43.6, 43.6, 43.6, 43.6, 43.6, 43.6, 43.6, 43.6],\n",
       "        [43.7, 43.7, 43.7, 43.7, 43.7, 43.7, 43.7, 43.7, 43.7, 43.7, 43.7,\n",
       "         43.7, 43.7, 43.7, 43.7, 43.7, 43.7, 43.7, 43.7, 43.7],\n",
       "        [43.8, 43.8, 43.8, 43.8, 43.8, 43.8, 43.8, 43.8, 43.8, 43.8, 43.8,\n",
       "         43.8, 43.8, 43.8, 43.8, 43.8, 43.8, 43.8, 43.8, 43.8],\n",
       "        [43.9, 43.9, 43.9, 43.9, 43.9, 43.9, 43.9, 43.9, 43.9, 43.9, 43.9,\n",
       "         43.9, 43.9, 43.9, 43.9, 43.9, 43.9, 43.9, 43.9, 43.9],\n",
       "        [44. , 44. , 44. , 44. , 44. , 44. , 44. , 44. , 44. , 44. , 44. ,\n",
       "         44. , 44. , 44. , 44. , 44. , 44. , 44. , 44. , 44. ],\n",
       "        [44.1, 44.1, 44.1, 44.1, 44.1, 44.1, 44.1, 44.1, 44.1, 44.1, 44.1,\n",
       "         44.1, 44.1, 44.1, 44.1, 44.1, 44.1, 44.1, 44.1, 44.1],\n",
       "        [44.2, 44.2, 44.2, 44.2, 44.2, 44.2, 44.2, 44.2, 44.2, 44.2, 44.2,\n",
       "         44.2, 44.2, 44.2, 44.2, 44.2, 44.2, 44.2, 44.2, 44.2],\n",
       "        [44.3, 44.3, 44.3, 44.3, 44.3, 44.3, 44.3, 44.3, 44.3, 44.3, 44.3,\n",
       "         44.3, 44.3, 44.3, 44.3, 44.3, 44.3, 44.3, 44.3, 44.3],\n",
       "        [44.4, 44.4, 44.4, 44.4, 44.4, 44.4, 44.4, 44.4, 44.4, 44.4, 44.4,\n",
       "         44.4, 44.4, 44.4, 44.4, 44.4, 44.4, 44.4, 44.4, 44.4],\n",
       "        [44.5, 44.5, 44.5, 44.5, 44.5, 44.5, 44.5, 44.5, 44.5, 44.5, 44.5,\n",
       "         44.5, 44.5, 44.5, 44.5, 44.5, 44.5, 44.5, 44.5, 44.5],\n",
       "        [44.6, 44.6, 44.6, 44.6, 44.6, 44.6, 44.6, 44.6, 44.6, 44.6, 44.6,\n",
       "         44.6, 44.6, 44.6, 44.6, 44.6, 44.6, 44.6, 44.6, 44.6],\n",
       "        [44.7, 44.7, 44.7, 44.7, 44.7, 44.7, 44.7, 44.7, 44.7, 44.7, 44.7,\n",
       "         44.7, 44.7, 44.7, 44.7, 44.7, 44.7, 44.7, 44.7, 44.7],\n",
       "        [44.8, 44.8, 44.8, 44.8, 44.8, 44.8, 44.8, 44.8, 44.8, 44.8, 44.8,\n",
       "         44.8, 44.8, 44.8, 44.8, 44.8, 44.8, 44.8, 44.8, 44.8],\n",
       "        [44.9, 44.9, 44.9, 44.9, 44.9, 44.9, 44.9, 44.9, 44.9, 44.9, 44.9,\n",
       "         44.9, 44.9, 44.9, 44.9, 44.9, 44.9, 44.9, 44.9, 44.9]]))"
      ]
     },
     "execution_count": 321,
     "metadata": {},
     "output_type": "execute_result"
    }
   ],
   "source": [
    "xx,yy"
   ]
  },
  {
   "cell_type": "code",
   "execution_count": 254,
   "metadata": {
    "ExecuteTime": {
     "end_time": "2020-03-19T06:44:31.814994Z",
     "start_time": "2020-03-19T06:44:31.808016Z"
    }
   },
   "outputs": [],
   "source": [
    "length = data.shape[0]\n",
    "data['id'] = range(0,length)"
   ]
  },
  {
   "cell_type": "code",
   "execution_count": 255,
   "metadata": {
    "ExecuteTime": {
     "end_time": "2020-03-19T06:44:33.378020Z",
     "start_time": "2020-03-19T06:44:33.370011Z"
    }
   },
   "outputs": [
    {
     "data": {
      "text/plain": [
       "[DatetimeIndex(['2019-07-30 10:28:10.790000', '2019-07-30 10:28:53.090000',\n",
       "                '2019-07-30 10:29:35.400000', '2019-07-30 10:39:22.510000',\n",
       "                '2019-07-30 10:40:33.200000', '2019-07-30 10:47:00.500000',\n",
       "                '2019-07-30 10:52:33.110000', '2019-07-30 10:53:55.690000',\n",
       "                '2019-07-30 10:54:49.480000', '2019-07-30 10:56:41.800000',\n",
       "                ...\n",
       "                '2019-08-05 10:23:07.430000', '2019-08-05 10:23:49.790000',\n",
       "                '2019-08-05 10:24:32.240000', '2019-08-05 10:25:16.410000',\n",
       "                '2019-08-05 10:26:02.320000', '2019-08-05 10:28:03.420000',\n",
       "                '2019-08-05 10:29:02.460000', '2019-08-05 10:31:28.570000',\n",
       "                '2019-08-05 10:32:10.620000', '2019-08-05 10:43:56.140000'],\n",
       "               dtype='datetime64[ns]', name='dateTime', length=407, freq=None),\n",
       " Index(['dateTime', 'iActual2', 'pha2', 'id'], dtype='object')]"
      ]
     },
     "execution_count": 255,
     "metadata": {},
     "output_type": "execute_result"
    }
   ],
   "source": [
    "data.axes"
   ]
  },
  {
   "cell_type": "code",
   "execution_count": 256,
   "metadata": {
    "ExecuteTime": {
     "end_time": "2020-03-19T06:44:35.004968Z",
     "start_time": "2020-03-19T06:44:34.987985Z"
    }
   },
   "outputs": [
    {
     "data": {
      "text/html": [
       "<div>\n",
       "<style scoped>\n",
       "    .dataframe tbody tr th:only-of-type {\n",
       "        vertical-align: middle;\n",
       "    }\n",
       "\n",
       "    .dataframe tbody tr th {\n",
       "        vertical-align: top;\n",
       "    }\n",
       "\n",
       "    .dataframe thead th {\n",
       "        text-align: right;\n",
       "    }\n",
       "</style>\n",
       "<table border=\"1\" class=\"dataframe\">\n",
       "  <thead>\n",
       "    <tr style=\"text-align: right;\">\n",
       "      <th></th>\n",
       "      <th>dateTime</th>\n",
       "      <th>iActual2</th>\n",
       "      <th>pha2</th>\n",
       "      <th>id</th>\n",
       "    </tr>\n",
       "    <tr>\n",
       "      <th>dateTime</th>\n",
       "      <th></th>\n",
       "      <th></th>\n",
       "      <th></th>\n",
       "      <th></th>\n",
       "    </tr>\n",
       "  </thead>\n",
       "  <tbody>\n",
       "    <tr>\n",
       "      <th>2019-07-30 10:28:10.790</th>\n",
       "      <td>2019-07-30 10:28:10.790</td>\n",
       "      <td>8.44</td>\n",
       "      <td>43.67</td>\n",
       "      <td>0</td>\n",
       "    </tr>\n",
       "    <tr>\n",
       "      <th>2019-07-30 10:28:53.090</th>\n",
       "      <td>2019-07-30 10:28:53.090</td>\n",
       "      <td>8.52</td>\n",
       "      <td>42.57</td>\n",
       "      <td>1</td>\n",
       "    </tr>\n",
       "    <tr>\n",
       "      <th>2019-07-30 10:29:35.400</th>\n",
       "      <td>2019-07-30 10:29:35.400</td>\n",
       "      <td>8.59</td>\n",
       "      <td>44.71</td>\n",
       "      <td>2</td>\n",
       "    </tr>\n",
       "    <tr>\n",
       "      <th>2019-07-30 10:39:22.510</th>\n",
       "      <td>2019-07-30 10:39:22.510</td>\n",
       "      <td>8.51</td>\n",
       "      <td>44.31</td>\n",
       "      <td>3</td>\n",
       "    </tr>\n",
       "    <tr>\n",
       "      <th>2019-07-30 10:40:33.200</th>\n",
       "      <td>2019-07-30 10:40:33.200</td>\n",
       "      <td>8.44</td>\n",
       "      <td>42.56</td>\n",
       "      <td>4</td>\n",
       "    </tr>\n",
       "    <tr>\n",
       "      <th>...</th>\n",
       "      <td>...</td>\n",
       "      <td>...</td>\n",
       "      <td>...</td>\n",
       "      <td>...</td>\n",
       "    </tr>\n",
       "    <tr>\n",
       "      <th>2019-08-05 10:28:03.420</th>\n",
       "      <td>2019-08-05 10:28:03.420</td>\n",
       "      <td>8.49</td>\n",
       "      <td>43.94</td>\n",
       "      <td>402</td>\n",
       "    </tr>\n",
       "    <tr>\n",
       "      <th>2019-08-05 10:29:02.460</th>\n",
       "      <td>2019-08-05 10:29:02.460</td>\n",
       "      <td>8.50</td>\n",
       "      <td>43.46</td>\n",
       "      <td>403</td>\n",
       "    </tr>\n",
       "    <tr>\n",
       "      <th>2019-08-05 10:31:28.570</th>\n",
       "      <td>2019-08-05 10:31:28.570</td>\n",
       "      <td>8.54</td>\n",
       "      <td>41.14</td>\n",
       "      <td>404</td>\n",
       "    </tr>\n",
       "    <tr>\n",
       "      <th>2019-08-05 10:32:10.620</th>\n",
       "      <td>2019-08-05 10:32:10.620</td>\n",
       "      <td>8.49</td>\n",
       "      <td>43.57</td>\n",
       "      <td>405</td>\n",
       "    </tr>\n",
       "    <tr>\n",
       "      <th>2019-08-05 10:43:56.140</th>\n",
       "      <td>2019-08-05 10:43:56.140</td>\n",
       "      <td>8.57</td>\n",
       "      <td>41.91</td>\n",
       "      <td>406</td>\n",
       "    </tr>\n",
       "  </tbody>\n",
       "</table>\n",
       "<p>407 rows × 4 columns</p>\n",
       "</div>"
      ],
      "text/plain": [
       "                                        dateTime  iActual2   pha2   id\n",
       "dateTime                                                              \n",
       "2019-07-30 10:28:10.790  2019-07-30 10:28:10.790      8.44  43.67    0\n",
       "2019-07-30 10:28:53.090  2019-07-30 10:28:53.090      8.52  42.57    1\n",
       "2019-07-30 10:29:35.400  2019-07-30 10:29:35.400      8.59  44.71    2\n",
       "2019-07-30 10:39:22.510  2019-07-30 10:39:22.510      8.51  44.31    3\n",
       "2019-07-30 10:40:33.200  2019-07-30 10:40:33.200      8.44  42.56    4\n",
       "...                                          ...       ...    ...  ...\n",
       "2019-08-05 10:28:03.420  2019-08-05 10:28:03.420      8.49  43.94  402\n",
       "2019-08-05 10:29:02.460  2019-08-05 10:29:02.460      8.50  43.46  403\n",
       "2019-08-05 10:31:28.570  2019-08-05 10:31:28.570      8.54  41.14  404\n",
       "2019-08-05 10:32:10.620  2019-08-05 10:32:10.620      8.49  43.57  405\n",
       "2019-08-05 10:43:56.140  2019-08-05 10:43:56.140      8.57  41.91  406\n",
       "\n",
       "[407 rows x 4 columns]"
      ]
     },
     "execution_count": 256,
     "metadata": {},
     "output_type": "execute_result"
    }
   ],
   "source": [
    "data"
   ]
  },
  {
   "cell_type": "code",
   "execution_count": 257,
   "metadata": {
    "ExecuteTime": {
     "end_time": "2020-03-19T06:44:36.434004Z",
     "start_time": "2020-03-19T06:44:36.427033Z"
    }
   },
   "outputs": [],
   "source": [
    "data_A = data[['iActual2']]\n",
    "data_P = data[['pha2']]"
   ]
  },
  {
   "cell_type": "code",
   "execution_count": 258,
   "metadata": {
    "ExecuteTime": {
     "end_time": "2020-03-19T06:44:44.616952Z",
     "start_time": "2020-03-19T06:44:44.611969Z"
    }
   },
   "outputs": [],
   "source": [
    "data_A = data_A.values\n",
    "data_A = data_A.reshape(407,)\n",
    "\n",
    "data_P = data_P.values\n",
    "data_P = data_P.reshape(407,)"
   ]
  },
  {
   "cell_type": "markdown",
   "metadata": {},
   "source": [
    "# 数据可视化"
   ]
  },
  {
   "cell_type": "code",
   "execution_count": 259,
   "metadata": {
    "ExecuteTime": {
     "end_time": "2020-03-19T06:44:48.220463Z",
     "start_time": "2020-03-19T06:44:47.734916Z"
    }
   },
   "outputs": [
    {
     "data": {
      "text/plain": [
       "[<matplotlib.lines.Line2D at 0x1601bbf2a20>]"
      ]
     },
     "execution_count": 259,
     "metadata": {},
     "output_type": "execute_result"
    },
    {
     "data": {
      "image/png": "[encoded data removed]",
      "text/plain": [
       "<Figure size 1080x1080 with 2 Axes>"
      ]
     },
     "metadata": {
      "needs_background": "light"
     },
     "output_type": "display_data"
    }
   ],
   "source": [
    "fig,axes=plt.subplots(2,1,figsize=(15,15))\n",
    "\n",
    "ax1=axes[0]\n",
    "ax2=axes[1]\n",
    "\n",
    "ax1.plot(data['iActual2'])  \n",
    "ax2.plot(data['pha2'])"
   ]
  },
  {
   "cell_type": "markdown",
   "metadata": {
    "ExecuteTime": {
     "end_time": "2020-03-19T02:53:10.883661Z",
     "start_time": "2020-03-19T02:53:10.876701Z"
    }
   },
   "source": [
    "从图像上看，数据没有明显的上升或下降的趋势和周期性,毛刺较多，需要做平滑。"
   ]
  },
  {
   "cell_type": "markdown",
   "metadata": {},
   "source": [
    "# 时序检测"
   ]
  },
  {
   "cell_type": "markdown",
   "metadata": {},
   "source": [
    "## 时间序列的周期性检测"
   ]
  },
  {
   "cell_type": "markdown",
   "metadata": {},
   "source": [
    "### step1:平滑处理"
   ]
  },
  {
   "cell_type": "markdown",
   "metadata": {},
   "source": [
    "时间序列经常会出现毛刺的点，需要做平滑处理才能分析，消除数据的毛刺，可以用移动平均法，但是移动平均有时候处理完后并不能使数据平滑"
   ]
  },
  {
   "cell_type": "code",
   "execution_count": 260,
   "metadata": {
    "ExecuteTime": {
     "end_time": "2020-03-19T06:44:53.980947Z",
     "start_time": "2020-03-19T06:44:53.960005Z"
    }
   },
   "outputs": [],
   "source": [
    "#平均移动线\n",
    "data['iActual2_rolling_mean'] = data['iActual2'].rolling(window=15).mean()\n",
    "data['pha2_rolling_mean'] = data['pha2'].rolling(window=15).mean()\n",
    "\n",
    "#指数加权滑动\n",
    "data['iActual2_rolling_ewma'] = data['iActual2'].ewm(span=15,ignore_na=True).mean()\n",
    "data['pha2_rolling_ewma'] = data['pha2'].ewm(span=15,ignore_na=True).mean()\n",
    "\n",
    "#log平滑\n",
    "data['iActual2_log'] = np.log(data['iActual2'])\n",
    "data['pha2_log'] = np.log(data['pha2'])"
   ]
  },
  {
   "cell_type": "code",
   "execution_count": 261,
   "metadata": {
    "ExecuteTime": {
     "end_time": "2020-03-19T06:44:59.378503Z",
     "start_time": "2020-03-19T06:44:57.908161Z"
    }
   },
   "outputs": [
    {
     "data": {
      "text/plain": [
       "array([<matplotlib.axes._subplots.AxesSubplot object at 0x0000016013B4E438>,\n",
       "       <matplotlib.axes._subplots.AxesSubplot object at 0x0000016013B264A8>,\n",
       "       <matplotlib.axes._subplots.AxesSubplot object at 0x0000016016DB46D8>,\n",
       "       <matplotlib.axes._subplots.AxesSubplot object at 0x0000016013B36F60>],\n",
       "      dtype=object)"
      ]
     },
     "execution_count": 261,
     "metadata": {},
     "output_type": "execute_result"
    },
    {
     "data": {
      "image/png": "[encoded data removed]",
      "text/plain": [
       "<Figure size 648x360 with 4 Axes>"
      ]
     },
     "metadata": {
      "needs_background": "light"
     },
     "output_type": "display_data"
    },
    {
     "data": {
      "image/png": "[encoded data removed]",
      "text/plain": [
       "<Figure size 648x360 with 4 Axes>"
      ]
     },
     "metadata": {
      "needs_background": "light"
     },
     "output_type": "display_data"
    }
   ],
   "source": [
    "data[['iActual2', 'iActual2_rolling_mean','iActual2_rolling_ewma','iActual2_log']].plot(subplots=True, figsize=(9, 5), grid=True)\n",
    "data[['pha2', 'pha2_rolling_mean','pha2_rolling_ewma','pha2_log']].plot(subplots=True, figsize=(9, 5), grid=True)"
   ]
  },
  {
   "cell_type": "markdown",
   "metadata": {},
   "source": [
    "### step2:趋势、周期、残差分解"
   ]
  },
  {
   "cell_type": "code",
   "execution_count": 262,
   "metadata": {
    "ExecuteTime": {
     "end_time": "2020-03-19T06:45:02.544968Z",
     "start_time": "2020-03-19T06:45:02.527014Z"
    }
   },
   "outputs": [],
   "source": [
    "from statsmodels.tsa.seasonal import seasonal_decompose\n",
    "\n",
    "decomposition = seasonal_decompose(data['iActual2_log'],freq=20)\n",
    "\n",
    "data['iActual2_trend'] = decomposition.trend\n",
    "data['iActual2_seanoal'] = decomposition.seasonal\n",
    "data['iActual2_residual'] = decomposition.resid"
   ]
  },
  {
   "cell_type": "code",
   "execution_count": 263,
   "metadata": {
    "ExecuteTime": {
     "end_time": "2020-03-19T06:45:06.879657Z",
     "start_time": "2020-03-19T06:45:05.429053Z"
    }
   },
   "outputs": [
    {
     "data": {
      "text/plain": [
       "array([<matplotlib.axes._subplots.AxesSubplot object at 0x00000160197B1E80>,\n",
       "       <matplotlib.axes._subplots.AxesSubplot object at 0x0000016019EF8780>,\n",
       "       <matplotlib.axes._subplots.AxesSubplot object at 0x000001601A1C7D68>,\n",
       "       <matplotlib.axes._subplots.AxesSubplot object at 0x0000016019EB25F8>,\n",
       "       <matplotlib.axes._subplots.AxesSubplot object at 0x000001601C6099E8>,\n",
       "       <matplotlib.axes._subplots.AxesSubplot object at 0x0000016016E11D30>,\n",
       "       <matplotlib.axes._subplots.AxesSubplot object at 0x000001601C4398D0>],\n",
       "      dtype=object)"
      ]
     },
     "execution_count": 263,
     "metadata": {},
     "output_type": "execute_result"
    },
    {
     "data": {
      "image/png": "[encoded data removed]",
      "text/plain": [
       "<Figure size 648x1080 with 7 Axes>"
      ]
     },
     "metadata": {
      "needs_background": "light"
     },
     "output_type": "display_data"
    }
   ],
   "source": [
    "data[['iActual2', 'iActual2_rolling_mean','iActual2_rolling_ewma',\n",
    "      'iActual2_log','iActual2_trend','iActual2_seanoal','iActual2_residual']].plot(subplots=True, figsize=(9, 15), grid=True)"
   ]
  },
  {
   "cell_type": "markdown",
   "metadata": {},
   "source": [
    "## 单调趋势检验MK test"
   ]
  },
  {
   "cell_type": "code",
   "execution_count": 213,
   "metadata": {
    "ExecuteTime": {
     "end_time": "2020-03-19T06:20:36.612983Z",
     "start_time": "2020-03-19T06:20:36.223205Z"
    }
   },
   "outputs": [],
   "source": [
    "from timeseries_data_test.Mann_Kendall_trend import mk_test\n",
    "t,h,p,z = mk_test(data_A,0.05)"
   ]
  },
  {
   "cell_type": "code",
   "execution_count": 214,
   "metadata": {
    "ExecuteTime": {
     "end_time": "2020-03-19T06:20:36.623771Z",
     "start_time": "2020-03-19T06:20:36.615804Z"
    }
   },
   "outputs": [
    {
     "data": {
      "text/plain": [
       "('no trend', False, 0.6857867213188393, 0.4045793754754466)"
      ]
     },
     "execution_count": 214,
     "metadata": {},
     "output_type": "execute_result"
    }
   ],
   "source": [
    "t,h,p,z"
   ]
  },
  {
   "cell_type": "markdown",
   "metadata": {},
   "source": [
    "## 平稳性检测ADF"
   ]
  },
  {
   "cell_type": "code",
   "execution_count": 215,
   "metadata": {
    "ExecuteTime": {
     "end_time": "2020-03-19T06:20:36.765827Z",
     "start_time": "2020-03-19T06:20:36.626751Z"
    }
   },
   "outputs": [],
   "source": [
    "def test_stationarity(timeseries):\n",
    "  \n",
    "    rolmean = timeseries.rolling(15).mean()\n",
    "    rolstd = timeseries.rolling(15).std()\n",
    "  \n",
    "    # plot rolling statistics\n",
    "    fig = plt.figure()\n",
    "    fig.add_subplot()\n",
    "    \n",
    "    orig = plt.plot(timeseries,color='blue',label='Orignal')\n",
    "    mean = plt.plot(rolmean,color='red',label='rolling mean')\n",
    "    std = plt.plot(rolstd, color='black', label='Rolling standard deviation')\n",
    "    \n",
    "    plt.legend(loc='best')\n",
    "    plt.title('Rolling Mean & Standard deviation')\n",
    "    plt.show(block=False)\n",
    "    \n",
    "    # Dickey_Fuller test:\n",
    "    \n",
    "    print('Results of Dickey-Fuller Test:')\n",
    "    timeseries1 = np.array(timeseries)\n",
    "    print(timeseries1.shape)\n",
    "    dftest = adfuller(timeseries1, autolag='AIC')\n",
    "    # dftestd的abs输出前一项依次为检验值、p值、滞后数、使用的观测值、各个置信度下的临界值\n",
    "    dfoutput = pd.Series(dftest[0:4],index=['Test Statistic','p-values',\n",
    "                                            '#Lags Used','Number of Observation Used'])\n",
    "    for key,value in dftest[4].items():\n",
    "        dfoutput['Critical value (%s)'%key]=value\n",
    "    \n",
    "    return dfoutput"
   ]
  },
  {
   "cell_type": "code",
   "execution_count": 216,
   "metadata": {
    "ExecuteTime": {
     "end_time": "2020-03-19T06:20:37.983849Z",
     "start_time": "2020-03-19T06:20:36.769806Z"
    }
   },
   "outputs": [
    {
     "data": {
      "image/png": "[encoded data removed]",
      "text/plain": [
       "<Figure size 432x288 with 1 Axes>"
      ]
     },
     "metadata": {
      "needs_background": "light"
     },
     "output_type": "display_data"
    },
    {
     "name": "stdout",
     "output_type": "stream",
     "text": [
      "Results of Dickey-Fuller Test:\n",
      "(407,)\n",
      "Test Statistic                 -3.494757\n",
      "p-values                        0.008123\n",
      "#Lags Used                     17.000000\n",
      "Number of Observation Used    389.000000\n",
      "Critical value (1%)            -3.447273\n",
      "Critical value (5%)            -2.868999\n",
      "Critical value (10%)           -2.570743\n",
      "dtype: float64\n"
     ]
    }
   ],
   "source": [
    "dfout = test_stationarity(data['iActual2'])\n",
    "print(dfout)"
   ]
  },
  {
   "cell_type": "markdown",
   "metadata": {},
   "source": [
    "Dickey-Fuller检验结果解读：p_value小于0.05，可以认为该序列为平稳时间序列，不需要再进行平稳化"
   ]
  },
  {
   "cell_type": "markdown",
   "metadata": {},
   "source": [
    "## 白噪音检测"
   ]
  },
  {
   "cell_type": "code",
   "execution_count": 217,
   "metadata": {
    "ExecuteTime": {
     "end_time": "2020-03-19T06:20:37.992824Z",
     "start_time": "2020-03-19T06:20:37.986840Z"
    }
   },
   "outputs": [],
   "source": [
    "def test_stochastic(ts,lag):\n",
    "    p_value = acorr_ljungbox(ts,lags=lag)\n",
    "    \n",
    "    return p_value"
   ]
  },
  {
   "cell_type": "code",
   "execution_count": 218,
   "metadata": {
    "ExecuteTime": {
     "end_time": "2020-03-19T06:20:38.191415Z",
     "start_time": "2020-03-19T06:20:37.995816Z"
    }
   },
   "outputs": [
    {
     "data": {
      "text/plain": [
       "(array([70.50784743, 79.29440805]), array([3.21681291e-13, 5.62557219e-12]))"
      ]
     },
     "execution_count": 218,
     "metadata": {},
     "output_type": "execute_result"
    }
   ],
   "source": [
    "test_stochastic(data['iActual2'],[6,12])"
   ]
  },
  {
   "cell_type": "markdown",
   "metadata": {
    "ExecuteTime": {
     "end_time": "2020-03-17T09:18:58.143091Z",
     "start_time": "2020-03-17T09:18:58.135114Z"
    }
   },
   "source": [
    "白噪声检验结果解读：延迟6阶的p值<0.05，因此可以拒绝原假设，认为该序列不是白噪声序列"
   ]
  },
  {
   "cell_type": "markdown",
   "metadata": {},
   "source": [
    "# 特征提取"
   ]
  },
  {
   "cell_type": "code",
   "execution_count": 219,
   "metadata": {
    "ExecuteTime": {
     "end_time": "2020-03-19T06:20:38.319466Z",
     "start_time": "2020-03-19T06:20:38.194375Z"
    }
   },
   "outputs": [],
   "source": [
    "series_A = pd.Series(data_A)\n",
    "series_P = pd.Series(data_P)"
   ]
  },
  {
   "cell_type": "markdown",
   "metadata": {},
   "source": [
    "## 物理特征"
   ]
  },
  {
   "cell_type": "markdown",
   "metadata": {},
   "source": [
    "### 绝对能量值"
   ]
  },
  {
   "cell_type": "code",
   "execution_count": 220,
   "metadata": {
    "ExecuteTime": {
     "end_time": "2020-03-19T06:20:38.506644Z",
     "start_time": "2020-03-19T06:20:38.322456Z"
    }
   },
   "outputs": [],
   "source": [
    "ae = tsf.feature_extraction.feature_calculators.abs_energy(series_A)"
   ]
  },
  {
   "cell_type": "markdown",
   "metadata": {},
   "source": [
    "### 近似熵"
   ]
  },
  {
   "cell_type": "code",
   "execution_count": 221,
   "metadata": {
    "ExecuteTime": {
     "end_time": "2020-03-19T06:20:38.723641Z",
     "start_time": "2020-03-19T06:20:38.508639Z"
    }
   },
   "outputs": [],
   "source": [
    "a_entropy=tsf.feature_extraction.feature_calculators.approximate_entropy(series_A, 407, 0.1)"
   ]
  },
  {
   "cell_type": "markdown",
   "metadata": {},
   "source": [
    "### 分组熵"
   ]
  },
  {
   "cell_type": "code",
   "execution_count": 222,
   "metadata": {
    "ExecuteTime": {
     "end_time": "2020-03-19T06:20:38.885123Z",
     "start_time": "2020-03-19T06:20:38.728630Z"
    }
   },
   "outputs": [],
   "source": [
    "binned_entropy=tsf.feature_extraction.feature_calculators.binned_entropy(series_A, 10)"
   ]
  },
  {
   "cell_type": "markdown",
   "metadata": {},
   "source": [
    "时序数据等距分组求熵"
   ]
  },
  {
   "cell_type": "markdown",
   "metadata": {},
   "source": [
    "### Ricker小波分析"
   ]
  },
  {
   "cell_type": "code",
   "execution_count": 223,
   "metadata": {
    "ExecuteTime": {
     "end_time": "2020-03-19T06:20:39.039658Z",
     "start_time": "2020-03-19T06:20:38.889112Z"
    }
   },
   "outputs": [],
   "source": [
    "param = [ {'widths':tuple([2,2,2]), 'coeff': 2, 'w': 2}]\n",
    "a_cwt=tsf.feature_extraction.feature_calculators.cwt_coefficients(series_A, param)\n",
    "a_cwt= list(zip(a_cwt))[0][0][1]\n",
    "a_cwt = round(a_cwt, 2)"
   ]
  },
  {
   "cell_type": "markdown",
   "metadata": {},
   "source": [
    "连续的小波分析，ricker子波是地震勘探中常用的子波类型，ricker子波是基于波动方程严格推导得到的"
   ]
  },
  {
   "cell_type": "markdown",
   "metadata": {},
   "source": [
    "### 傅里叶变换的频谱统计量"
   ]
  },
  {
   "cell_type": "code",
   "execution_count": 224,
   "metadata": {
    "ExecuteTime": {
     "end_time": "2020-03-19T06:20:39.419244Z",
     "start_time": "2020-03-19T06:20:39.041658Z"
    }
   },
   "outputs": [],
   "source": [
    "param = [{'aggtype': 'skew'}]\n",
    "a_fft=tsf.feature_extraction.feature_calculators.fft_aggregated(series_A, param)\n",
    "a_fft = list(zip(a_fft))[0][0][1]\n",
    "a_fft = round(a_fft, 2)"
   ]
  },
  {
   "cell_type": "markdown",
   "metadata": {},
   "source": [
    "傅里叶变换后的光谱质心、峰度、偏度等值"
   ]
  },
  {
   "cell_type": "markdown",
   "metadata": {},
   "source": [
    "### 傅里叶变换系数"
   ]
  },
  {
   "cell_type": "code",
   "execution_count": 225,
   "metadata": {
    "ExecuteTime": {
     "end_time": "2020-03-19T06:20:39.537947Z",
     "start_time": "2020-03-19T06:20:39.422072Z"
    }
   },
   "outputs": [],
   "source": [
    "param = [{'coeff': 2, 'attr': 'angle'}]\n",
    "a_fft_coef=tsf.feature_extraction.feature_calculators.fft_coefficient(series_A, param)\n",
    "a_fft_coef = list(zip(a_fft_coef))[0][0][1]\n",
    "a_fft_coef = round(a_fft_coef, 2)"
   ]
  },
  {
   "cell_type": "code",
   "execution_count": 226,
   "metadata": {
    "ExecuteTime": {
     "end_time": "2020-03-19T06:20:39.711154Z",
     "start_time": "2020-03-19T06:20:39.540941Z"
    }
   },
   "outputs": [
    {
     "data": {
      "text/plain": [
       "-1.57"
      ]
     },
     "execution_count": 226,
     "metadata": {},
     "output_type": "execute_result"
    }
   ],
   "source": [
    "a_fft_coef"
   ]
  },
  {
   "cell_type": "markdown",
   "metadata": {},
   "source": [
    "基于快速傅里叶变换算法计算一维离散傅里叶序列的系数"
   ]
  },
  {
   "cell_type": "markdown",
   "metadata": {},
   "source": [
    "## 统计特征"
   ]
  },
  {
   "cell_type": "markdown",
   "metadata": {},
   "source": [
    "描述时序数据的离原点的平方波动情况（能量）"
   ]
  },
  {
   "cell_type": "markdown",
   "metadata": {},
   "source": [
    "### 一阶差分绝对和"
   ]
  },
  {
   "cell_type": "code",
   "execution_count": 227,
   "metadata": {
    "ExecuteTime": {
     "end_time": "2020-03-19T06:20:39.868743Z",
     "start_time": "2020-03-19T06:20:39.714147Z"
    }
   },
   "outputs": [],
   "source": [
    "asf = tsf.feature_extraction.feature_calculators.absolute_sum_of_changes(series_A)"
   ]
  },
  {
   "cell_type": "markdown",
   "metadata": {},
   "source": [
    "描述时序数据相邻观测值之间的绝对波动情况"
   ]
  },
  {
   "cell_type": "markdown",
   "metadata": {},
   "source": [
    "### 各阶自相关系数的聚合统计特征"
   ]
  },
  {
   "cell_type": "code",
   "execution_count": 228,
   "metadata": {
    "ExecuteTime": {
     "end_time": "2020-03-19T06:20:40.082240Z",
     "start_time": "2020-03-19T06:20:39.870749Z"
    }
   },
   "outputs": [],
   "source": [
    "param = [{'f_agg': 'mean', 'maxlag':2}]\n",
    "agg_cor = tsf.feature_extraction.feature_calculators.agg_autocorrelation(series_A, param)\n",
    "agg_cor = agg_cor[0][1]\n",
    "agg_cor = round(agg_cor, 2)"
   ]
  },
  {
   "cell_type": "code",
   "execution_count": 229,
   "metadata": {
    "ExecuteTime": {
     "end_time": "2020-03-19T06:20:40.342488Z",
     "start_time": "2020-03-19T06:20:40.084204Z"
    }
   },
   "outputs": [
    {
     "data": {
      "text/plain": [
       "0.26"
      ]
     },
     "execution_count": 229,
     "metadata": {},
     "output_type": "execute_result"
    }
   ],
   "source": [
    "agg_cor"
   ]
  },
  {
   "cell_type": "markdown",
   "metadata": {},
   "source": [
    "统计时序数据各界差分间的聚合特征，依据不同的聚合函数，刻画时序数据的不同特征"
   ]
  },
  {
   "cell_type": "markdown",
   "metadata": {},
   "source": [
    "### 线性回归"
   ]
  },
  {
   "cell_type": "code",
   "execution_count": 230,
   "metadata": {
    "ExecuteTime": {
     "end_time": "2020-03-19T06:20:40.601763Z",
     "start_time": "2020-03-19T06:20:40.345479Z"
    }
   },
   "outputs": [],
   "source": [
    "param = [{'attr': 'pvalue'}]\n",
    "agg_liner=tsf.feature_extraction.feature_calculators.linear_trend(series_A,param)\n",
    "agg_liner = list(zip(agg_liner))[0][0][1]\n",
    "agg_liner = round(agg_liner, 2)"
   ]
  },
  {
   "cell_type": "markdown",
   "metadata": {},
   "source": [
    "衡量时序数据的的周期性、不可预测性和波动性"
   ]
  },
  {
   "cell_type": "markdown",
   "metadata": {},
   "source": [
    "### 自回归系数"
   ]
  },
  {
   "cell_type": "code",
   "execution_count": 231,
   "metadata": {
    "ExecuteTime": {
     "end_time": "2020-03-19T06:20:40.855639Z",
     "start_time": "2020-03-19T06:20:40.603589Z"
    }
   },
   "outputs": [],
   "source": [
    "param = [{'coeff': 0, 'k': 10}]\n",
    "ar_coef =tsf.feature_extraction.feature_calculators.ar_coefficient(series_A, param)\n",
    "ar_coef = ar_coef[0][1]\n",
    "ar_coef = round(ar_coef, 2)\n",
    "# ar_coef = list(zip(ar_coef))[0][0][1]\n",
    "# ar_coef = round(ar_coef, 2)"
   ]
  },
  {
   "cell_type": "code",
   "execution_count": 232,
   "metadata": {
    "ExecuteTime": {
     "end_time": "2020-03-19T06:20:40.954375Z",
     "start_time": "2020-03-19T06:20:40.858631Z"
    }
   },
   "outputs": [
    {
     "data": {
      "text/plain": [
       "4.61"
      ]
     },
     "execution_count": 232,
     "metadata": {},
     "output_type": "execute_result"
    }
   ],
   "source": [
    "ar_coef"
   ]
  },
  {
   "cell_type": "markdown",
   "metadata": {},
   "source": [
    "衡量时序数据的的周期性、不可预测性和波动性"
   ]
  },
  {
   "cell_type": "markdown",
   "metadata": {},
   "source": [
    "### ADF检验"
   ]
  },
  {
   "cell_type": "code",
   "execution_count": 233,
   "metadata": {
    "ExecuteTime": {
     "end_time": "2020-03-19T06:20:41.089014Z",
     "start_time": "2020-03-19T06:20:40.957368Z"
    }
   },
   "outputs": [],
   "source": [
    "param = [{'attr': 'pvalue'}]\n",
    "a_adf=tsf.feature_extraction.feature_calculators.augmented_dickey_fuller(series_A, param)\n",
    "a_adf = a_adf[0][1]\n",
    "a_adf = round(a_adf, 2)"
   ]
  },
  {
   "cell_type": "markdown",
   "metadata": {},
   "source": [
    "返回ADF检验统计值,测试一个自回归模型是否存在单位根，衡量时序数据的平稳性"
   ]
  },
  {
   "cell_type": "markdown",
   "metadata": {},
   "source": [
    "### 时序数据复杂度"
   ]
  },
  {
   "cell_type": "code",
   "execution_count": 234,
   "metadata": {
    "ExecuteTime": {
     "end_time": "2020-03-19T06:20:41.188749Z",
     "start_time": "2020-03-19T06:20:41.091010Z"
    }
   },
   "outputs": [],
   "source": [
    "a_compcility=tsf.feature_extraction.feature_calculators.cid_ce(series_A, True)"
   ]
  },
  {
   "cell_type": "markdown",
   "metadata": {},
   "source": [
    "用来评估时间序列的复杂度，越复杂的序列有越多的谷峰。"
   ]
  },
  {
   "cell_type": "markdown",
   "metadata": {},
   "source": [
    "### 峰度"
   ]
  },
  {
   "cell_type": "code",
   "execution_count": 235,
   "metadata": {
    "ExecuteTime": {
     "end_time": "2020-03-19T06:20:41.312539Z",
     "start_time": "2020-03-19T06:20:41.190743Z"
    }
   },
   "outputs": [],
   "source": [
    "a_peak=tsf.feature_extraction.feature_calculators.kurtosis(series_A)"
   ]
  },
  {
   "cell_type": "markdown",
   "metadata": {},
   "source": [
    "计算基于修正的Fisher-Pearson矩统计量的峰度,表征概率密度分布曲线在平均值处峰值高低的特征数"
   ]
  },
  {
   "cell_type": "markdown",
   "metadata": {},
   "source": [
    "### 绝对差值的平均值"
   ]
  },
  {
   "cell_type": "code",
   "execution_count": 236,
   "metadata": {
    "ExecuteTime": {
     "end_time": "2020-03-19T06:20:41.451179Z",
     "start_time": "2020-03-19T06:20:41.315532Z"
    }
   },
   "outputs": [],
   "source": [
    "a_mac = tsf.feature_extraction.feature_calculators.mean_abs_change(series_A)"
   ]
  },
  {
   "cell_type": "markdown",
   "metadata": {},
   "source": [
    "### 二阶导数的中心的均值"
   ]
  },
  {
   "cell_type": "code",
   "execution_count": 237,
   "metadata": {
    "ExecuteTime": {
     "end_time": "2020-03-19T06:20:41.562070Z",
     "start_time": "2020-03-19T06:20:41.454161Z"
    }
   },
   "outputs": [],
   "source": [
    "a_msdc = tsf.feature_extraction.feature_calculators.mean_second_derivative_central(series_A)"
   ]
  },
  {
   "cell_type": "markdown",
   "metadata": {},
   "source": [
    "### 零交叉的数量"
   ]
  },
  {
   "cell_type": "code",
   "execution_count": 238,
   "metadata": {
    "ExecuteTime": {
     "end_time": "2020-03-19T06:20:41.698574Z",
     "start_time": "2020-03-19T06:20:41.565031Z"
    }
   },
   "outputs": [],
   "source": [
    "m = 7.8\n",
    "a_ncm = tsf.feature_extraction.feature_calculators.number_crossing_m(series_A, m)"
   ]
  },
  {
   "cell_type": "markdown",
   "metadata": {},
   "source": [
    "### 特征合并"
   ]
  },
  {
   "cell_type": "code",
   "execution_count": 300,
   "metadata": {
    "ExecuteTime": {
     "end_time": "2020-03-19T07:18:35.548322Z",
     "start_time": "2020-03-19T07:18:15.006776Z"
    }
   },
   "outputs": [
    {
     "name": "stderr",
     "output_type": "stream",
     "text": [
      "Feature Extraction: 100%|█████████████████████████| 10/10 [00:19<00:00,  2.41s/it]\n"
     ]
    }
   ],
   "source": [
    "data_input = data[['id','dateTime','iActual2']]\n",
    "feature_extract = tsf.extract_features(data_input,column_id='id',column_sort='dateTime')"
   ]
  },
  {
   "cell_type": "code",
   "execution_count": 240,
   "metadata": {
    "ExecuteTime": {
     "end_time": "2020-03-19T06:20:41.937529Z",
     "start_time": "2020-03-19T06:20:41.817792Z"
    }
   },
   "outputs": [],
   "source": [
    "# feature_extracted.shape"
   ]
  },
  {
   "cell_type": "code",
   "execution_count": 283,
   "metadata": {
    "ExecuteTime": {
     "end_time": "2020-03-19T06:57:37.500851Z",
     "start_time": "2020-03-19T06:57:37.491842Z"
    }
   },
   "outputs": [],
   "source": [
    "# need_list = ['abs_energy','absolute_sum_of_changes','agg_autocorrelation__f_agg_\"mean\"__maxlag_40',\n",
    "#              'agg_linear_trend__f_agg_\"max\"__chunk_len_10__attr_\"stderr\"','approximate_entropy__m_2__r_0.1',\n",
    "#              'ar_coefficient__k_10__coeff_0','augmented_dickey_fuller__autolag_\"AIC\"__attr_\"pvalue\"','binned_entropy__max_bins_10',\n",
    "#              'count_above_mean','count_below_mean','cid_ce__normalize_False','cid_ce__normalize_True',\n",
    "#              'cwt_coefficients__widths_(2, 5, 10, 20)__coeff_2__w_2','fft_aggregated__aggtype_\"skew\"',\n",
    "#              'fft_coefficient__coeff_2__attr_\"angle\"','linear_trend__attr_\"pvalue\"','number_crossing_m__m_1']\n",
    "\n",
    "# columns_all = list(feature_extract.columns)\n",
    "# columns_need = [x0 for x0 in columns_all for y in need_list if y in x0]"
   ]
  },
  {
   "cell_type": "code",
   "execution_count": 304,
   "metadata": {
    "ExecuteTime": {
     "end_time": "2020-03-19T07:19:54.823487Z",
     "start_time": "2020-03-19T07:19:54.814550Z"
    }
   },
   "outputs": [],
   "source": [
    "len(columns_need)\n",
    "feature_need = feature_extract.copy()\n",
    "# feature_extracted = feature_extracted.dropna()"
   ]
  },
  {
   "cell_type": "code",
   "execution_count": 305,
   "metadata": {
    "ExecuteTime": {
     "end_time": "2020-03-19T07:19:59.892816Z",
     "start_time": "2020-03-19T07:19:59.837932Z"
    }
   },
   "outputs": [
    {
     "data": {
      "text/html": [
       "<div>\n",
       "<style scoped>\n",
       "    .dataframe tbody tr th:only-of-type {\n",
       "        vertical-align: middle;\n",
       "    }\n",
       "\n",
       "    .dataframe tbody tr th {\n",
       "        vertical-align: top;\n",
       "    }\n",
       "\n",
       "    .dataframe thead th {\n",
       "        text-align: right;\n",
       "    }\n",
       "</style>\n",
       "<table border=\"1\" class=\"dataframe\">\n",
       "  <thead>\n",
       "    <tr style=\"text-align: right;\">\n",
       "      <th>variable</th>\n",
       "      <th>iActual2__abs_energy</th>\n",
       "      <th>iActual2__absolute_sum_of_changes</th>\n",
       "      <th>iActual2__agg_autocorrelation__f_agg_\"mean\"__maxlag_40</th>\n",
       "      <th>iActual2__agg_autocorrelation__f_agg_\"median\"__maxlag_40</th>\n",
       "      <th>iActual2__agg_autocorrelation__f_agg_\"var\"__maxlag_40</th>\n",
       "      <th>iActual2__agg_linear_trend__f_agg_\"max\"__chunk_len_10__attr_\"intercept\"</th>\n",
       "      <th>iActual2__agg_linear_trend__f_agg_\"max\"__chunk_len_10__attr_\"rvalue\"</th>\n",
       "      <th>iActual2__agg_linear_trend__f_agg_\"max\"__chunk_len_10__attr_\"slope\"</th>\n",
       "      <th>iActual2__agg_linear_trend__f_agg_\"max\"__chunk_len_10__attr_\"stderr\"</th>\n",
       "      <th>iActual2__agg_linear_trend__f_agg_\"max\"__chunk_len_50__attr_\"intercept\"</th>\n",
       "      <th>...</th>\n",
       "      <th>iActual2__symmetry_looking__r_0.9</th>\n",
       "      <th>iActual2__symmetry_looking__r_0.9500000000000001</th>\n",
       "      <th>iActual2__time_reversal_asymmetry_statistic__lag_1</th>\n",
       "      <th>iActual2__time_reversal_asymmetry_statistic__lag_2</th>\n",
       "      <th>iActual2__time_reversal_asymmetry_statistic__lag_3</th>\n",
       "      <th>iActual2__value_count__value_-1</th>\n",
       "      <th>iActual2__value_count__value_0</th>\n",
       "      <th>iActual2__value_count__value_1</th>\n",
       "      <th>iActual2__variance</th>\n",
       "      <th>iActual2__variance_larger_than_standard_deviation</th>\n",
       "    </tr>\n",
       "    <tr>\n",
       "      <th>id</th>\n",
       "      <th></th>\n",
       "      <th></th>\n",
       "      <th></th>\n",
       "      <th></th>\n",
       "      <th></th>\n",
       "      <th></th>\n",
       "      <th></th>\n",
       "      <th></th>\n",
       "      <th></th>\n",
       "      <th></th>\n",
       "      <th></th>\n",
       "      <th></th>\n",
       "      <th></th>\n",
       "      <th></th>\n",
       "      <th></th>\n",
       "      <th></th>\n",
       "      <th></th>\n",
       "      <th></th>\n",
       "      <th></th>\n",
       "      <th></th>\n",
       "      <th></th>\n",
       "    </tr>\n",
       "  </thead>\n",
       "  <tbody>\n",
       "    <tr>\n",
       "      <th>0</th>\n",
       "      <td>71.2336</td>\n",
       "      <td>0.0</td>\n",
       "      <td>0.0</td>\n",
       "      <td>0.0</td>\n",
       "      <td>0.0</td>\n",
       "      <td>NaN</td>\n",
       "      <td>NaN</td>\n",
       "      <td>NaN</td>\n",
       "      <td>NaN</td>\n",
       "      <td>NaN</td>\n",
       "      <td>...</td>\n",
       "      <td>0.0</td>\n",
       "      <td>0.0</td>\n",
       "      <td>0.0</td>\n",
       "      <td>0.0</td>\n",
       "      <td>0.0</td>\n",
       "      <td>0.0</td>\n",
       "      <td>0.0</td>\n",
       "      <td>0.0</td>\n",
       "      <td>0.0</td>\n",
       "      <td>0.0</td>\n",
       "    </tr>\n",
       "    <tr>\n",
       "      <th>1</th>\n",
       "      <td>72.5904</td>\n",
       "      <td>0.0</td>\n",
       "      <td>0.0</td>\n",
       "      <td>0.0</td>\n",
       "      <td>0.0</td>\n",
       "      <td>NaN</td>\n",
       "      <td>NaN</td>\n",
       "      <td>NaN</td>\n",
       "      <td>NaN</td>\n",
       "      <td>NaN</td>\n",
       "      <td>...</td>\n",
       "      <td>0.0</td>\n",
       "      <td>0.0</td>\n",
       "      <td>0.0</td>\n",
       "      <td>0.0</td>\n",
       "      <td>0.0</td>\n",
       "      <td>0.0</td>\n",
       "      <td>0.0</td>\n",
       "      <td>0.0</td>\n",
       "      <td>0.0</td>\n",
       "      <td>0.0</td>\n",
       "    </tr>\n",
       "    <tr>\n",
       "      <th>2</th>\n",
       "      <td>73.7881</td>\n",
       "      <td>0.0</td>\n",
       "      <td>0.0</td>\n",
       "      <td>0.0</td>\n",
       "      <td>0.0</td>\n",
       "      <td>NaN</td>\n",
       "      <td>NaN</td>\n",
       "      <td>NaN</td>\n",
       "      <td>NaN</td>\n",
       "      <td>NaN</td>\n",
       "      <td>...</td>\n",
       "      <td>0.0</td>\n",
       "      <td>0.0</td>\n",
       "      <td>0.0</td>\n",
       "      <td>0.0</td>\n",
       "      <td>0.0</td>\n",
       "      <td>0.0</td>\n",
       "      <td>0.0</td>\n",
       "      <td>0.0</td>\n",
       "      <td>0.0</td>\n",
       "      <td>0.0</td>\n",
       "    </tr>\n",
       "    <tr>\n",
       "      <th>3</th>\n",
       "      <td>72.4201</td>\n",
       "      <td>0.0</td>\n",
       "      <td>0.0</td>\n",
       "      <td>0.0</td>\n",
       "      <td>0.0</td>\n",
       "      <td>NaN</td>\n",
       "      <td>NaN</td>\n",
       "      <td>NaN</td>\n",
       "      <td>NaN</td>\n",
       "      <td>NaN</td>\n",
       "      <td>...</td>\n",
       "      <td>0.0</td>\n",
       "      <td>0.0</td>\n",
       "      <td>0.0</td>\n",
       "      <td>0.0</td>\n",
       "      <td>0.0</td>\n",
       "      <td>0.0</td>\n",
       "      <td>0.0</td>\n",
       "      <td>0.0</td>\n",
       "      <td>0.0</td>\n",
       "      <td>0.0</td>\n",
       "    </tr>\n",
       "    <tr>\n",
       "      <th>4</th>\n",
       "      <td>71.2336</td>\n",
       "      <td>0.0</td>\n",
       "      <td>0.0</td>\n",
       "      <td>0.0</td>\n",
       "      <td>0.0</td>\n",
       "      <td>NaN</td>\n",
       "      <td>NaN</td>\n",
       "      <td>NaN</td>\n",
       "      <td>NaN</td>\n",
       "      <td>NaN</td>\n",
       "      <td>...</td>\n",
       "      <td>0.0</td>\n",
       "      <td>0.0</td>\n",
       "      <td>0.0</td>\n",
       "      <td>0.0</td>\n",
       "      <td>0.0</td>\n",
       "      <td>0.0</td>\n",
       "      <td>0.0</td>\n",
       "      <td>0.0</td>\n",
       "      <td>0.0</td>\n",
       "      <td>0.0</td>\n",
       "    </tr>\n",
       "    <tr>\n",
       "      <th>...</th>\n",
       "      <td>...</td>\n",
       "      <td>...</td>\n",
       "      <td>...</td>\n",
       "      <td>...</td>\n",
       "      <td>...</td>\n",
       "      <td>...</td>\n",
       "      <td>...</td>\n",
       "      <td>...</td>\n",
       "      <td>...</td>\n",
       "      <td>...</td>\n",
       "      <td>...</td>\n",
       "      <td>...</td>\n",
       "      <td>...</td>\n",
       "      <td>...</td>\n",
       "      <td>...</td>\n",
       "      <td>...</td>\n",
       "      <td>...</td>\n",
       "      <td>...</td>\n",
       "      <td>...</td>\n",
       "      <td>...</td>\n",
       "      <td>...</td>\n",
       "    </tr>\n",
       "    <tr>\n",
       "      <th>402</th>\n",
       "      <td>72.0801</td>\n",
       "      <td>0.0</td>\n",
       "      <td>0.0</td>\n",
       "      <td>0.0</td>\n",
       "      <td>0.0</td>\n",
       "      <td>NaN</td>\n",
       "      <td>NaN</td>\n",
       "      <td>NaN</td>\n",
       "      <td>NaN</td>\n",
       "      <td>NaN</td>\n",
       "      <td>...</td>\n",
       "      <td>0.0</td>\n",
       "      <td>0.0</td>\n",
       "      <td>0.0</td>\n",
       "      <td>0.0</td>\n",
       "      <td>0.0</td>\n",
       "      <td>0.0</td>\n",
       "      <td>0.0</td>\n",
       "      <td>0.0</td>\n",
       "      <td>0.0</td>\n",
       "      <td>0.0</td>\n",
       "    </tr>\n",
       "    <tr>\n",
       "      <th>403</th>\n",
       "      <td>72.2500</td>\n",
       "      <td>0.0</td>\n",
       "      <td>0.0</td>\n",
       "      <td>0.0</td>\n",
       "      <td>0.0</td>\n",
       "      <td>NaN</td>\n",
       "      <td>NaN</td>\n",
       "      <td>NaN</td>\n",
       "      <td>NaN</td>\n",
       "      <td>NaN</td>\n",
       "      <td>...</td>\n",
       "      <td>0.0</td>\n",
       "      <td>0.0</td>\n",
       "      <td>0.0</td>\n",
       "      <td>0.0</td>\n",
       "      <td>0.0</td>\n",
       "      <td>0.0</td>\n",
       "      <td>0.0</td>\n",
       "      <td>0.0</td>\n",
       "      <td>0.0</td>\n",
       "      <td>0.0</td>\n",
       "    </tr>\n",
       "    <tr>\n",
       "      <th>404</th>\n",
       "      <td>72.9316</td>\n",
       "      <td>0.0</td>\n",
       "      <td>0.0</td>\n",
       "      <td>0.0</td>\n",
       "      <td>0.0</td>\n",
       "      <td>NaN</td>\n",
       "      <td>NaN</td>\n",
       "      <td>NaN</td>\n",
       "      <td>NaN</td>\n",
       "      <td>NaN</td>\n",
       "      <td>...</td>\n",
       "      <td>0.0</td>\n",
       "      <td>0.0</td>\n",
       "      <td>0.0</td>\n",
       "      <td>0.0</td>\n",
       "      <td>0.0</td>\n",
       "      <td>0.0</td>\n",
       "      <td>0.0</td>\n",
       "      <td>0.0</td>\n",
       "      <td>0.0</td>\n",
       "      <td>0.0</td>\n",
       "    </tr>\n",
       "    <tr>\n",
       "      <th>405</th>\n",
       "      <td>72.0801</td>\n",
       "      <td>0.0</td>\n",
       "      <td>0.0</td>\n",
       "      <td>0.0</td>\n",
       "      <td>0.0</td>\n",
       "      <td>NaN</td>\n",
       "      <td>NaN</td>\n",
       "      <td>NaN</td>\n",
       "      <td>NaN</td>\n",
       "      <td>NaN</td>\n",
       "      <td>...</td>\n",
       "      <td>0.0</td>\n",
       "      <td>0.0</td>\n",
       "      <td>0.0</td>\n",
       "      <td>0.0</td>\n",
       "      <td>0.0</td>\n",
       "      <td>0.0</td>\n",
       "      <td>0.0</td>\n",
       "      <td>0.0</td>\n",
       "      <td>0.0</td>\n",
       "      <td>0.0</td>\n",
       "    </tr>\n",
       "    <tr>\n",
       "      <th>406</th>\n",
       "      <td>73.4449</td>\n",
       "      <td>0.0</td>\n",
       "      <td>0.0</td>\n",
       "      <td>0.0</td>\n",
       "      <td>0.0</td>\n",
       "      <td>NaN</td>\n",
       "      <td>NaN</td>\n",
       "      <td>NaN</td>\n",
       "      <td>NaN</td>\n",
       "      <td>NaN</td>\n",
       "      <td>...</td>\n",
       "      <td>0.0</td>\n",
       "      <td>0.0</td>\n",
       "      <td>0.0</td>\n",
       "      <td>0.0</td>\n",
       "      <td>0.0</td>\n",
       "      <td>0.0</td>\n",
       "      <td>0.0</td>\n",
       "      <td>0.0</td>\n",
       "      <td>0.0</td>\n",
       "      <td>0.0</td>\n",
       "    </tr>\n",
       "  </tbody>\n",
       "</table>\n",
       "<p>407 rows × 759 columns</p>\n",
       "</div>"
      ],
      "text/plain": [
       "variable  iActual2__abs_energy  iActual2__absolute_sum_of_changes  \\\n",
       "id                                                                  \n",
       "0                      71.2336                                0.0   \n",
       "1                      72.5904                                0.0   \n",
       "2                      73.7881                                0.0   \n",
       "3                      72.4201                                0.0   \n",
       "4                      71.2336                                0.0   \n",
       "..                         ...                                ...   \n",
       "402                    72.0801                                0.0   \n",
       "403                    72.2500                                0.0   \n",
       "404                    72.9316                                0.0   \n",
       "405                    72.0801                                0.0   \n",
       "406                    73.4449                                0.0   \n",
       "\n",
       "variable  iActual2__agg_autocorrelation__f_agg_\"mean\"__maxlag_40  \\\n",
       "id                                                                 \n",
       "0                                                       0.0        \n",
       "1                                                       0.0        \n",
       "2                                                       0.0        \n",
       "3                                                       0.0        \n",
       "4                                                       0.0        \n",
       "..                                                      ...        \n",
       "402                                                     0.0        \n",
       "403                                                     0.0        \n",
       "404                                                     0.0        \n",
       "405                                                     0.0        \n",
       "406                                                     0.0        \n",
       "\n",
       "variable  iActual2__agg_autocorrelation__f_agg_\"median\"__maxlag_40  \\\n",
       "id                                                                   \n",
       "0                                                       0.0          \n",
       "1                                                       0.0          \n",
       "2                                                       0.0          \n",
       "3                                                       0.0          \n",
       "4                                                       0.0          \n",
       "..                                                      ...          \n",
       "402                                                     0.0          \n",
       "403                                                     0.0          \n",
       "404                                                     0.0          \n",
       "405                                                     0.0          \n",
       "406                                                     0.0          \n",
       "\n",
       "variable  iActual2__agg_autocorrelation__f_agg_\"var\"__maxlag_40  \\\n",
       "id                                                                \n",
       "0                                                       0.0       \n",
       "1                                                       0.0       \n",
       "2                                                       0.0       \n",
       "3                                                       0.0       \n",
       "4                                                       0.0       \n",
       "..                                                      ...       \n",
       "402                                                     0.0       \n",
       "403                                                     0.0       \n",
       "404                                                     0.0       \n",
       "405                                                     0.0       \n",
       "406                                                     0.0       \n",
       "\n",
       "variable  iActual2__agg_linear_trend__f_agg_\"max\"__chunk_len_10__attr_\"intercept\"  \\\n",
       "id                                                                                  \n",
       "0                                                       NaN                         \n",
       "1                                                       NaN                         \n",
       "2                                                       NaN                         \n",
       "3                                                       NaN                         \n",
       "4                                                       NaN                         \n",
       "..                                                      ...                         \n",
       "402                                                     NaN                         \n",
       "403                                                     NaN                         \n",
       "404                                                     NaN                         \n",
       "405                                                     NaN                         \n",
       "406                                                     NaN                         \n",
       "\n",
       "variable  iActual2__agg_linear_trend__f_agg_\"max\"__chunk_len_10__attr_\"rvalue\"  \\\n",
       "id                                                                               \n",
       "0                                                       NaN                      \n",
       "1                                                       NaN                      \n",
       "2                                                       NaN                      \n",
       "3                                                       NaN                      \n",
       "4                                                       NaN                      \n",
       "..                                                      ...                      \n",
       "402                                                     NaN                      \n",
       "403                                                     NaN                      \n",
       "404                                                     NaN                      \n",
       "405                                                     NaN                      \n",
       "406                                                     NaN                      \n",
       "\n",
       "variable  iActual2__agg_linear_trend__f_agg_\"max\"__chunk_len_10__attr_\"slope\"  \\\n",
       "id                                                                              \n",
       "0                                                       NaN                     \n",
       "1                                                       NaN                     \n",
       "2                                                       NaN                     \n",
       "3                                                       NaN                     \n",
       "4                                                       NaN                     \n",
       "..                                                      ...                     \n",
       "402                                                     NaN                     \n",
       "403                                                     NaN                     \n",
       "404                                                     NaN                     \n",
       "405                                                     NaN                     \n",
       "406                                                     NaN                     \n",
       "\n",
       "variable  iActual2__agg_linear_trend__f_agg_\"max\"__chunk_len_10__attr_\"stderr\"  \\\n",
       "id                                                                               \n",
       "0                                                       NaN                      \n",
       "1                                                       NaN                      \n",
       "2                                                       NaN                      \n",
       "3                                                       NaN                      \n",
       "4                                                       NaN                      \n",
       "..                                                      ...                      \n",
       "402                                                     NaN                      \n",
       "403                                                     NaN                      \n",
       "404                                                     NaN                      \n",
       "405                                                     NaN                      \n",
       "406                                                     NaN                      \n",
       "\n",
       "variable  iActual2__agg_linear_trend__f_agg_\"max\"__chunk_len_50__attr_\"intercept\"  \\\n",
       "id                                                                                  \n",
       "0                                                       NaN                         \n",
       "1                                                       NaN                         \n",
       "2                                                       NaN                         \n",
       "3                                                       NaN                         \n",
       "4                                                       NaN                         \n",
       "..                                                      ...                         \n",
       "402                                                     NaN                         \n",
       "403                                                     NaN                         \n",
       "404                                                     NaN                         \n",
       "405                                                     NaN                         \n",
       "406                                                     NaN                         \n",
       "\n",
       "variable  ...  iActual2__symmetry_looking__r_0.9  \\\n",
       "id        ...                                      \n",
       "0         ...                                0.0   \n",
       "1         ...                                0.0   \n",
       "2         ...                                0.0   \n",
       "3         ...                                0.0   \n",
       "4         ...                                0.0   \n",
       "..        ...                                ...   \n",
       "402       ...                                0.0   \n",
       "403       ...                                0.0   \n",
       "404       ...                                0.0   \n",
       "405       ...                                0.0   \n",
       "406       ...                                0.0   \n",
       "\n",
       "variable  iActual2__symmetry_looking__r_0.9500000000000001  \\\n",
       "id                                                           \n",
       "0                                                      0.0   \n",
       "1                                                      0.0   \n",
       "2                                                      0.0   \n",
       "3                                                      0.0   \n",
       "4                                                      0.0   \n",
       "..                                                     ...   \n",
       "402                                                    0.0   \n",
       "403                                                    0.0   \n",
       "404                                                    0.0   \n",
       "405                                                    0.0   \n",
       "406                                                    0.0   \n",
       "\n",
       "variable  iActual2__time_reversal_asymmetry_statistic__lag_1  \\\n",
       "id                                                             \n",
       "0                                                       0.0    \n",
       "1                                                       0.0    \n",
       "2                                                       0.0    \n",
       "3                                                       0.0    \n",
       "4                                                       0.0    \n",
       "..                                                      ...    \n",
       "402                                                     0.0    \n",
       "403                                                     0.0    \n",
       "404                                                     0.0    \n",
       "405                                                     0.0    \n",
       "406                                                     0.0    \n",
       "\n",
       "variable  iActual2__time_reversal_asymmetry_statistic__lag_2  \\\n",
       "id                                                             \n",
       "0                                                       0.0    \n",
       "1                                                       0.0    \n",
       "2                                                       0.0    \n",
       "3                                                       0.0    \n",
       "4                                                       0.0    \n",
       "..                                                      ...    \n",
       "402                                                     0.0    \n",
       "403                                                     0.0    \n",
       "404                                                     0.0    \n",
       "405                                                     0.0    \n",
       "406                                                     0.0    \n",
       "\n",
       "variable  iActual2__time_reversal_asymmetry_statistic__lag_3  \\\n",
       "id                                                             \n",
       "0                                                       0.0    \n",
       "1                                                       0.0    \n",
       "2                                                       0.0    \n",
       "3                                                       0.0    \n",
       "4                                                       0.0    \n",
       "..                                                      ...    \n",
       "402                                                     0.0    \n",
       "403                                                     0.0    \n",
       "404                                                     0.0    \n",
       "405                                                     0.0    \n",
       "406                                                     0.0    \n",
       "\n",
       "variable  iActual2__value_count__value_-1  iActual2__value_count__value_0  \\\n",
       "id                                                                          \n",
       "0                                     0.0                             0.0   \n",
       "1                                     0.0                             0.0   \n",
       "2                                     0.0                             0.0   \n",
       "3                                     0.0                             0.0   \n",
       "4                                     0.0                             0.0   \n",
       "..                                    ...                             ...   \n",
       "402                                   0.0                             0.0   \n",
       "403                                   0.0                             0.0   \n",
       "404                                   0.0                             0.0   \n",
       "405                                   0.0                             0.0   \n",
       "406                                   0.0                             0.0   \n",
       "\n",
       "variable  iActual2__value_count__value_1  iActual2__variance  \\\n",
       "id                                                             \n",
       "0                                    0.0                 0.0   \n",
       "1                                    0.0                 0.0   \n",
       "2                                    0.0                 0.0   \n",
       "3                                    0.0                 0.0   \n",
       "4                                    0.0                 0.0   \n",
       "..                                   ...                 ...   \n",
       "402                                  0.0                 0.0   \n",
       "403                                  0.0                 0.0   \n",
       "404                                  0.0                 0.0   \n",
       "405                                  0.0                 0.0   \n",
       "406                                  0.0                 0.0   \n",
       "\n",
       "variable  iActual2__variance_larger_than_standard_deviation  \n",
       "id                                                           \n",
       "0                                                       0.0  \n",
       "1                                                       0.0  \n",
       "2                                                       0.0  \n",
       "3                                                       0.0  \n",
       "4                                                       0.0  \n",
       "..                                                      ...  \n",
       "402                                                     0.0  \n",
       "403                                                     0.0  \n",
       "404                                                     0.0  \n",
       "405                                                     0.0  \n",
       "406                                                     0.0  \n",
       "\n",
       "[407 rows x 759 columns]"
      ]
     },
     "execution_count": 305,
     "metadata": {},
     "output_type": "execute_result"
    }
   ],
   "source": [
    "feature_need"
   ]
  },
  {
   "cell_type": "code",
   "execution_count": 306,
   "metadata": {
    "ExecuteTime": {
     "end_time": "2020-03-19T07:20:05.240491Z",
     "start_time": "2020-03-19T07:20:05.229557Z"
    }
   },
   "outputs": [],
   "source": [
    "feature_need2 = feature_need.dropna(axis=1)"
   ]
  },
  {
   "cell_type": "code",
   "execution_count": 307,
   "metadata": {
    "ExecuteTime": {
     "end_time": "2020-03-19T07:20:25.350407Z",
     "start_time": "2020-03-19T07:20:25.299535Z"
    }
   },
   "outputs": [
    {
     "data": {
      "text/html": [
       "<div>\n",
       "<style scoped>\n",
       "    .dataframe tbody tr th:only-of-type {\n",
       "        vertical-align: middle;\n",
       "    }\n",
       "\n",
       "    .dataframe tbody tr th {\n",
       "        vertical-align: top;\n",
       "    }\n",
       "\n",
       "    .dataframe thead th {\n",
       "        text-align: right;\n",
       "    }\n",
       "</style>\n",
       "<table border=\"1\" class=\"dataframe\">\n",
       "  <thead>\n",
       "    <tr style=\"text-align: right;\">\n",
       "      <th>variable</th>\n",
       "      <th>iActual2__abs_energy</th>\n",
       "      <th>iActual2__absolute_sum_of_changes</th>\n",
       "      <th>iActual2__agg_autocorrelation__f_agg_\"mean\"__maxlag_40</th>\n",
       "      <th>iActual2__agg_autocorrelation__f_agg_\"median\"__maxlag_40</th>\n",
       "      <th>iActual2__agg_autocorrelation__f_agg_\"var\"__maxlag_40</th>\n",
       "      <th>iActual2__approximate_entropy__m_2__r_0.1</th>\n",
       "      <th>iActual2__approximate_entropy__m_2__r_0.3</th>\n",
       "      <th>iActual2__approximate_entropy__m_2__r_0.5</th>\n",
       "      <th>iActual2__approximate_entropy__m_2__r_0.7</th>\n",
       "      <th>iActual2__approximate_entropy__m_2__r_0.9</th>\n",
       "      <th>...</th>\n",
       "      <th>iActual2__symmetry_looking__r_0.9</th>\n",
       "      <th>iActual2__symmetry_looking__r_0.9500000000000001</th>\n",
       "      <th>iActual2__time_reversal_asymmetry_statistic__lag_1</th>\n",
       "      <th>iActual2__time_reversal_asymmetry_statistic__lag_2</th>\n",
       "      <th>iActual2__time_reversal_asymmetry_statistic__lag_3</th>\n",
       "      <th>iActual2__value_count__value_-1</th>\n",
       "      <th>iActual2__value_count__value_0</th>\n",
       "      <th>iActual2__value_count__value_1</th>\n",
       "      <th>iActual2__variance</th>\n",
       "      <th>iActual2__variance_larger_than_standard_deviation</th>\n",
       "    </tr>\n",
       "    <tr>\n",
       "      <th>id</th>\n",
       "      <th></th>\n",
       "      <th></th>\n",
       "      <th></th>\n",
       "      <th></th>\n",
       "      <th></th>\n",
       "      <th></th>\n",
       "      <th></th>\n",
       "      <th></th>\n",
       "      <th></th>\n",
       "      <th></th>\n",
       "      <th></th>\n",
       "      <th></th>\n",
       "      <th></th>\n",
       "      <th></th>\n",
       "      <th></th>\n",
       "      <th></th>\n",
       "      <th></th>\n",
       "      <th></th>\n",
       "      <th></th>\n",
       "      <th></th>\n",
       "      <th></th>\n",
       "    </tr>\n",
       "  </thead>\n",
       "  <tbody>\n",
       "    <tr>\n",
       "      <th>0</th>\n",
       "      <td>71.2336</td>\n",
       "      <td>0.0</td>\n",
       "      <td>0.0</td>\n",
       "      <td>0.0</td>\n",
       "      <td>0.0</td>\n",
       "      <td>0.0</td>\n",
       "      <td>0.0</td>\n",
       "      <td>0.0</td>\n",
       "      <td>0.0</td>\n",
       "      <td>0.0</td>\n",
       "      <td>...</td>\n",
       "      <td>0.0</td>\n",
       "      <td>0.0</td>\n",
       "      <td>0.0</td>\n",
       "      <td>0.0</td>\n",
       "      <td>0.0</td>\n",
       "      <td>0.0</td>\n",
       "      <td>0.0</td>\n",
       "      <td>0.0</td>\n",
       "      <td>0.0</td>\n",
       "      <td>0.0</td>\n",
       "    </tr>\n",
       "    <tr>\n",
       "      <th>1</th>\n",
       "      <td>72.5904</td>\n",
       "      <td>0.0</td>\n",
       "      <td>0.0</td>\n",
       "      <td>0.0</td>\n",
       "      <td>0.0</td>\n",
       "      <td>0.0</td>\n",
       "      <td>0.0</td>\n",
       "      <td>0.0</td>\n",
       "      <td>0.0</td>\n",
       "      <td>0.0</td>\n",
       "      <td>...</td>\n",
       "      <td>0.0</td>\n",
       "      <td>0.0</td>\n",
       "      <td>0.0</td>\n",
       "      <td>0.0</td>\n",
       "      <td>0.0</td>\n",
       "      <td>0.0</td>\n",
       "      <td>0.0</td>\n",
       "      <td>0.0</td>\n",
       "      <td>0.0</td>\n",
       "      <td>0.0</td>\n",
       "    </tr>\n",
       "    <tr>\n",
       "      <th>2</th>\n",
       "      <td>73.7881</td>\n",
       "      <td>0.0</td>\n",
       "      <td>0.0</td>\n",
       "      <td>0.0</td>\n",
       "      <td>0.0</td>\n",
       "      <td>0.0</td>\n",
       "      <td>0.0</td>\n",
       "      <td>0.0</td>\n",
       "      <td>0.0</td>\n",
       "      <td>0.0</td>\n",
       "      <td>...</td>\n",
       "      <td>0.0</td>\n",
       "      <td>0.0</td>\n",
       "      <td>0.0</td>\n",
       "      <td>0.0</td>\n",
       "      <td>0.0</td>\n",
       "      <td>0.0</td>\n",
       "      <td>0.0</td>\n",
       "      <td>0.0</td>\n",
       "      <td>0.0</td>\n",
       "      <td>0.0</td>\n",
       "    </tr>\n",
       "    <tr>\n",
       "      <th>3</th>\n",
       "      <td>72.4201</td>\n",
       "      <td>0.0</td>\n",
       "      <td>0.0</td>\n",
       "      <td>0.0</td>\n",
       "      <td>0.0</td>\n",
       "      <td>0.0</td>\n",
       "      <td>0.0</td>\n",
       "      <td>0.0</td>\n",
       "      <td>0.0</td>\n",
       "      <td>0.0</td>\n",
       "      <td>...</td>\n",
       "      <td>0.0</td>\n",
       "      <td>0.0</td>\n",
       "      <td>0.0</td>\n",
       "      <td>0.0</td>\n",
       "      <td>0.0</td>\n",
       "      <td>0.0</td>\n",
       "      <td>0.0</td>\n",
       "      <td>0.0</td>\n",
       "      <td>0.0</td>\n",
       "      <td>0.0</td>\n",
       "    </tr>\n",
       "    <tr>\n",
       "      <th>4</th>\n",
       "      <td>71.2336</td>\n",
       "      <td>0.0</td>\n",
       "      <td>0.0</td>\n",
       "      <td>0.0</td>\n",
       "      <td>0.0</td>\n",
       "      <td>0.0</td>\n",
       "      <td>0.0</td>\n",
       "      <td>0.0</td>\n",
       "      <td>0.0</td>\n",
       "      <td>0.0</td>\n",
       "      <td>...</td>\n",
       "      <td>0.0</td>\n",
       "      <td>0.0</td>\n",
       "      <td>0.0</td>\n",
       "      <td>0.0</td>\n",
       "      <td>0.0</td>\n",
       "      <td>0.0</td>\n",
       "      <td>0.0</td>\n",
       "      <td>0.0</td>\n",
       "      <td>0.0</td>\n",
       "      <td>0.0</td>\n",
       "    </tr>\n",
       "    <tr>\n",
       "      <th>...</th>\n",
       "      <td>...</td>\n",
       "      <td>...</td>\n",
       "      <td>...</td>\n",
       "      <td>...</td>\n",
       "      <td>...</td>\n",
       "      <td>...</td>\n",
       "      <td>...</td>\n",
       "      <td>...</td>\n",
       "      <td>...</td>\n",
       "      <td>...</td>\n",
       "      <td>...</td>\n",
       "      <td>...</td>\n",
       "      <td>...</td>\n",
       "      <td>...</td>\n",
       "      <td>...</td>\n",
       "      <td>...</td>\n",
       "      <td>...</td>\n",
       "      <td>...</td>\n",
       "      <td>...</td>\n",
       "      <td>...</td>\n",
       "      <td>...</td>\n",
       "    </tr>\n",
       "    <tr>\n",
       "      <th>402</th>\n",
       "      <td>72.0801</td>\n",
       "      <td>0.0</td>\n",
       "      <td>0.0</td>\n",
       "      <td>0.0</td>\n",
       "      <td>0.0</td>\n",
       "      <td>0.0</td>\n",
       "      <td>0.0</td>\n",
       "      <td>0.0</td>\n",
       "      <td>0.0</td>\n",
       "      <td>0.0</td>\n",
       "      <td>...</td>\n",
       "      <td>0.0</td>\n",
       "      <td>0.0</td>\n",
       "      <td>0.0</td>\n",
       "      <td>0.0</td>\n",
       "      <td>0.0</td>\n",
       "      <td>0.0</td>\n",
       "      <td>0.0</td>\n",
       "      <td>0.0</td>\n",
       "      <td>0.0</td>\n",
       "      <td>0.0</td>\n",
       "    </tr>\n",
       "    <tr>\n",
       "      <th>403</th>\n",
       "      <td>72.2500</td>\n",
       "      <td>0.0</td>\n",
       "      <td>0.0</td>\n",
       "      <td>0.0</td>\n",
       "      <td>0.0</td>\n",
       "      <td>0.0</td>\n",
       "      <td>0.0</td>\n",
       "      <td>0.0</td>\n",
       "      <td>0.0</td>\n",
       "      <td>0.0</td>\n",
       "      <td>...</td>\n",
       "      <td>0.0</td>\n",
       "      <td>0.0</td>\n",
       "      <td>0.0</td>\n",
       "      <td>0.0</td>\n",
       "      <td>0.0</td>\n",
       "      <td>0.0</td>\n",
       "      <td>0.0</td>\n",
       "      <td>0.0</td>\n",
       "      <td>0.0</td>\n",
       "      <td>0.0</td>\n",
       "    </tr>\n",
       "    <tr>\n",
       "      <th>404</th>\n",
       "      <td>72.9316</td>\n",
       "      <td>0.0</td>\n",
       "      <td>0.0</td>\n",
       "      <td>0.0</td>\n",
       "      <td>0.0</td>\n",
       "      <td>0.0</td>\n",
       "      <td>0.0</td>\n",
       "      <td>0.0</td>\n",
       "      <td>0.0</td>\n",
       "      <td>0.0</td>\n",
       "      <td>...</td>\n",
       "      <td>0.0</td>\n",
       "      <td>0.0</td>\n",
       "      <td>0.0</td>\n",
       "      <td>0.0</td>\n",
       "      <td>0.0</td>\n",
       "      <td>0.0</td>\n",
       "      <td>0.0</td>\n",
       "      <td>0.0</td>\n",
       "      <td>0.0</td>\n",
       "      <td>0.0</td>\n",
       "    </tr>\n",
       "    <tr>\n",
       "      <th>405</th>\n",
       "      <td>72.0801</td>\n",
       "      <td>0.0</td>\n",
       "      <td>0.0</td>\n",
       "      <td>0.0</td>\n",
       "      <td>0.0</td>\n",
       "      <td>0.0</td>\n",
       "      <td>0.0</td>\n",
       "      <td>0.0</td>\n",
       "      <td>0.0</td>\n",
       "      <td>0.0</td>\n",
       "      <td>...</td>\n",
       "      <td>0.0</td>\n",
       "      <td>0.0</td>\n",
       "      <td>0.0</td>\n",
       "      <td>0.0</td>\n",
       "      <td>0.0</td>\n",
       "      <td>0.0</td>\n",
       "      <td>0.0</td>\n",
       "      <td>0.0</td>\n",
       "      <td>0.0</td>\n",
       "      <td>0.0</td>\n",
       "    </tr>\n",
       "    <tr>\n",
       "      <th>406</th>\n",
       "      <td>73.4449</td>\n",
       "      <td>0.0</td>\n",
       "      <td>0.0</td>\n",
       "      <td>0.0</td>\n",
       "      <td>0.0</td>\n",
       "      <td>0.0</td>\n",
       "      <td>0.0</td>\n",
       "      <td>0.0</td>\n",
       "      <td>0.0</td>\n",
       "      <td>0.0</td>\n",
       "      <td>...</td>\n",
       "      <td>0.0</td>\n",
       "      <td>0.0</td>\n",
       "      <td>0.0</td>\n",
       "      <td>0.0</td>\n",
       "      <td>0.0</td>\n",
       "      <td>0.0</td>\n",
       "      <td>0.0</td>\n",
       "      <td>0.0</td>\n",
       "      <td>0.0</td>\n",
       "      <td>0.0</td>\n",
       "    </tr>\n",
       "  </tbody>\n",
       "</table>\n",
       "<p>407 rows × 207 columns</p>\n",
       "</div>"
      ],
      "text/plain": [
       "variable  iActual2__abs_energy  iActual2__absolute_sum_of_changes  \\\n",
       "id                                                                  \n",
       "0                      71.2336                                0.0   \n",
       "1                      72.5904                                0.0   \n",
       "2                      73.7881                                0.0   \n",
       "3                      72.4201                                0.0   \n",
       "4                      71.2336                                0.0   \n",
       "..                         ...                                ...   \n",
       "402                    72.0801                                0.0   \n",
       "403                    72.2500                                0.0   \n",
       "404                    72.9316                                0.0   \n",
       "405                    72.0801                                0.0   \n",
       "406                    73.4449                                0.0   \n",
       "\n",
       "variable  iActual2__agg_autocorrelation__f_agg_\"mean\"__maxlag_40  \\\n",
       "id                                                                 \n",
       "0                                                       0.0        \n",
       "1                                                       0.0        \n",
       "2                                                       0.0        \n",
       "3                                                       0.0        \n",
       "4                                                       0.0        \n",
       "..                                                      ...        \n",
       "402                                                     0.0        \n",
       "403                                                     0.0        \n",
       "404                                                     0.0        \n",
       "405                                                     0.0        \n",
       "406                                                     0.0        \n",
       "\n",
       "variable  iActual2__agg_autocorrelation__f_agg_\"median\"__maxlag_40  \\\n",
       "id                                                                   \n",
       "0                                                       0.0          \n",
       "1                                                       0.0          \n",
       "2                                                       0.0          \n",
       "3                                                       0.0          \n",
       "4                                                       0.0          \n",
       "..                                                      ...          \n",
       "402                                                     0.0          \n",
       "403                                                     0.0          \n",
       "404                                                     0.0          \n",
       "405                                                     0.0          \n",
       "406                                                     0.0          \n",
       "\n",
       "variable  iActual2__agg_autocorrelation__f_agg_\"var\"__maxlag_40  \\\n",
       "id                                                                \n",
       "0                                                       0.0       \n",
       "1                                                       0.0       \n",
       "2                                                       0.0       \n",
       "3                                                       0.0       \n",
       "4                                                       0.0       \n",
       "..                                                      ...       \n",
       "402                                                     0.0       \n",
       "403                                                     0.0       \n",
       "404                                                     0.0       \n",
       "405                                                     0.0       \n",
       "406                                                     0.0       \n",
       "\n",
       "variable  iActual2__approximate_entropy__m_2__r_0.1  \\\n",
       "id                                                    \n",
       "0                                               0.0   \n",
       "1                                               0.0   \n",
       "2                                               0.0   \n",
       "3                                               0.0   \n",
       "4                                               0.0   \n",
       "..                                              ...   \n",
       "402                                             0.0   \n",
       "403                                             0.0   \n",
       "404                                             0.0   \n",
       "405                                             0.0   \n",
       "406                                             0.0   \n",
       "\n",
       "variable  iActual2__approximate_entropy__m_2__r_0.3  \\\n",
       "id                                                    \n",
       "0                                               0.0   \n",
       "1                                               0.0   \n",
       "2                                               0.0   \n",
       "3                                               0.0   \n",
       "4                                               0.0   \n",
       "..                                              ...   \n",
       "402                                             0.0   \n",
       "403                                             0.0   \n",
       "404                                             0.0   \n",
       "405                                             0.0   \n",
       "406                                             0.0   \n",
       "\n",
       "variable  iActual2__approximate_entropy__m_2__r_0.5  \\\n",
       "id                                                    \n",
       "0                                               0.0   \n",
       "1                                               0.0   \n",
       "2                                               0.0   \n",
       "3                                               0.0   \n",
       "4                                               0.0   \n",
       "..                                              ...   \n",
       "402                                             0.0   \n",
       "403                                             0.0   \n",
       "404                                             0.0   \n",
       "405                                             0.0   \n",
       "406                                             0.0   \n",
       "\n",
       "variable  iActual2__approximate_entropy__m_2__r_0.7  \\\n",
       "id                                                    \n",
       "0                                               0.0   \n",
       "1                                               0.0   \n",
       "2                                               0.0   \n",
       "3                                               0.0   \n",
       "4                                               0.0   \n",
       "..                                              ...   \n",
       "402                                             0.0   \n",
       "403                                             0.0   \n",
       "404                                             0.0   \n",
       "405                                             0.0   \n",
       "406                                             0.0   \n",
       "\n",
       "variable  iActual2__approximate_entropy__m_2__r_0.9  ...  \\\n",
       "id                                                   ...   \n",
       "0                                               0.0  ...   \n",
       "1                                               0.0  ...   \n",
       "2                                               0.0  ...   \n",
       "3                                               0.0  ...   \n",
       "4                                               0.0  ...   \n",
       "..                                              ...  ...   \n",
       "402                                             0.0  ...   \n",
       "403                                             0.0  ...   \n",
       "404                                             0.0  ...   \n",
       "405                                             0.0  ...   \n",
       "406                                             0.0  ...   \n",
       "\n",
       "variable  iActual2__symmetry_looking__r_0.9  \\\n",
       "id                                            \n",
       "0                                       0.0   \n",
       "1                                       0.0   \n",
       "2                                       0.0   \n",
       "3                                       0.0   \n",
       "4                                       0.0   \n",
       "..                                      ...   \n",
       "402                                     0.0   \n",
       "403                                     0.0   \n",
       "404                                     0.0   \n",
       "405                                     0.0   \n",
       "406                                     0.0   \n",
       "\n",
       "variable  iActual2__symmetry_looking__r_0.9500000000000001  \\\n",
       "id                                                           \n",
       "0                                                      0.0   \n",
       "1                                                      0.0   \n",
       "2                                                      0.0   \n",
       "3                                                      0.0   \n",
       "4                                                      0.0   \n",
       "..                                                     ...   \n",
       "402                                                    0.0   \n",
       "403                                                    0.0   \n",
       "404                                                    0.0   \n",
       "405                                                    0.0   \n",
       "406                                                    0.0   \n",
       "\n",
       "variable  iActual2__time_reversal_asymmetry_statistic__lag_1  \\\n",
       "id                                                             \n",
       "0                                                       0.0    \n",
       "1                                                       0.0    \n",
       "2                                                       0.0    \n",
       "3                                                       0.0    \n",
       "4                                                       0.0    \n",
       "..                                                      ...    \n",
       "402                                                     0.0    \n",
       "403                                                     0.0    \n",
       "404                                                     0.0    \n",
       "405                                                     0.0    \n",
       "406                                                     0.0    \n",
       "\n",
       "variable  iActual2__time_reversal_asymmetry_statistic__lag_2  \\\n",
       "id                                                             \n",
       "0                                                       0.0    \n",
       "1                                                       0.0    \n",
       "2                                                       0.0    \n",
       "3                                                       0.0    \n",
       "4                                                       0.0    \n",
       "..                                                      ...    \n",
       "402                                                     0.0    \n",
       "403                                                     0.0    \n",
       "404                                                     0.0    \n",
       "405                                                     0.0    \n",
       "406                                                     0.0    \n",
       "\n",
       "variable  iActual2__time_reversal_asymmetry_statistic__lag_3  \\\n",
       "id                                                             \n",
       "0                                                       0.0    \n",
       "1                                                       0.0    \n",
       "2                                                       0.0    \n",
       "3                                                       0.0    \n",
       "4                                                       0.0    \n",
       "..                                                      ...    \n",
       "402                                                     0.0    \n",
       "403                                                     0.0    \n",
       "404                                                     0.0    \n",
       "405                                                     0.0    \n",
       "406                                                     0.0    \n",
       "\n",
       "variable  iActual2__value_count__value_-1  iActual2__value_count__value_0  \\\n",
       "id                                                                          \n",
       "0                                     0.0                             0.0   \n",
       "1                                     0.0                             0.0   \n",
       "2                                     0.0                             0.0   \n",
       "3                                     0.0                             0.0   \n",
       "4                                     0.0                             0.0   \n",
       "..                                    ...                             ...   \n",
       "402                                   0.0                             0.0   \n",
       "403                                   0.0                             0.0   \n",
       "404                                   0.0                             0.0   \n",
       "405                                   0.0                             0.0   \n",
       "406                                   0.0                             0.0   \n",
       "\n",
       "variable  iActual2__value_count__value_1  iActual2__variance  \\\n",
       "id                                                             \n",
       "0                                    0.0                 0.0   \n",
       "1                                    0.0                 0.0   \n",
       "2                                    0.0                 0.0   \n",
       "3                                    0.0                 0.0   \n",
       "4                                    0.0                 0.0   \n",
       "..                                   ...                 ...   \n",
       "402                                  0.0                 0.0   \n",
       "403                                  0.0                 0.0   \n",
       "404                                  0.0                 0.0   \n",
       "405                                  0.0                 0.0   \n",
       "406                                  0.0                 0.0   \n",
       "\n",
       "variable  iActual2__variance_larger_than_standard_deviation  \n",
       "id                                                           \n",
       "0                                                       0.0  \n",
       "1                                                       0.0  \n",
       "2                                                       0.0  \n",
       "3                                                       0.0  \n",
       "4                                                       0.0  \n",
       "..                                                      ...  \n",
       "402                                                     0.0  \n",
       "403                                                     0.0  \n",
       "404                                                     0.0  \n",
       "405                                                     0.0  \n",
       "406                                                     0.0  \n",
       "\n",
       "[407 rows x 207 columns]"
      ]
     },
     "execution_count": 307,
     "metadata": {},
     "output_type": "execute_result"
    }
   ],
   "source": [
    "feature_need2"
   ]
  },
  {
   "cell_type": "code",
   "execution_count": 308,
   "metadata": {
    "ExecuteTime": {
     "end_time": "2020-03-19T07:20:53.205478Z",
     "start_time": "2020-03-19T07:20:53.197500Z"
    }
   },
   "outputs": [
    {
     "data": {
      "text/plain": [
       "Index(['iActual2__abs_energy', 'iActual2__absolute_sum_of_changes',\n",
       "       'iActual2__agg_autocorrelation__f_agg_\"mean\"__maxlag_40',\n",
       "       'iActual2__agg_autocorrelation__f_agg_\"median\"__maxlag_40',\n",
       "       'iActual2__agg_autocorrelation__f_agg_\"var\"__maxlag_40',\n",
       "       'iActual2__approximate_entropy__m_2__r_0.1',\n",
       "       'iActual2__approximate_entropy__m_2__r_0.3',\n",
       "       'iActual2__approximate_entropy__m_2__r_0.5',\n",
       "       'iActual2__approximate_entropy__m_2__r_0.7',\n",
       "       'iActual2__approximate_entropy__m_2__r_0.9',\n",
       "       ...\n",
       "       'iActual2__symmetry_looking__r_0.9',\n",
       "       'iActual2__symmetry_looking__r_0.9500000000000001',\n",
       "       'iActual2__time_reversal_asymmetry_statistic__lag_1',\n",
       "       'iActual2__time_reversal_asymmetry_statistic__lag_2',\n",
       "       'iActual2__time_reversal_asymmetry_statistic__lag_3',\n",
       "       'iActual2__value_count__value_-1', 'iActual2__value_count__value_0',\n",
       "       'iActual2__value_count__value_1', 'iActual2__variance',\n",
       "       'iActual2__variance_larger_than_standard_deviation'],\n",
       "      dtype='object', name='variable', length=207)"
      ]
     },
     "execution_count": 308,
     "metadata": {},
     "output_type": "execute_result"
    }
   ],
   "source": [
    "feature_need2.columns"
   ]
  },
  {
   "cell_type": "markdown",
   "metadata": {},
   "source": [
    "# 异常检测"
   ]
  },
  {
   "cell_type": "markdown",
   "metadata": {},
   "source": [
    "## 线性模型"
   ]
  },
  {
   "cell_type": "code",
   "execution_count": 310,
   "metadata": {
    "ExecuteTime": {
     "end_time": "2020-03-19T07:21:56.360464Z",
     "start_time": "2020-03-19T07:21:56.352488Z"
    }
   },
   "outputs": [],
   "source": [
    "data_std = standardizer(data[['iActual2','pha2']])"
   ]
  },
  {
   "cell_type": "code",
   "execution_count": 315,
   "metadata": {
    "ExecuteTime": {
     "end_time": "2020-03-19T09:45:15.823754Z",
     "start_time": "2020-03-19T09:45:15.507860Z"
    }
   },
   "outputs": [
    {
     "ename": "TypeError",
     "evalue": "unsupported operand type(s) for -: 'str' and 'int'",
     "output_type": "error",
     "traceback": [
      "\u001b[1;31m---------------------------------------------------------------------------\u001b[0m",
      "\u001b[1;31mTypeError\u001b[0m                                 Traceback (most recent call last)",
      "\u001b[1;32m~\\AppData\\Local\\conda\\conda\\envs\\py36_tensorflow\\lib\\site-packages\\pandas\\core\\ops\\array_ops.py\u001b[0m in \u001b[0;36mna_arithmetic_op\u001b[1;34m(left, right, op, str_rep)\u001b[0m\n\u001b[0;32m    148\u001b[0m     \u001b[1;32mtry\u001b[0m\u001b[1;33m:\u001b[0m\u001b[1;33m\u001b[0m\u001b[1;33m\u001b[0m\u001b[0m\n\u001b[1;32m--> 149\u001b[1;33m         \u001b[0mresult\u001b[0m \u001b[1;33m=\u001b[0m \u001b[0mexpressions\u001b[0m\u001b[1;33m.\u001b[0m\u001b[0mevaluate\u001b[0m\u001b[1;33m(\u001b[0m\u001b[0mop\u001b[0m\u001b[1;33m,\u001b[0m \u001b[0mstr_rep\u001b[0m\u001b[1;33m,\u001b[0m \u001b[0mleft\u001b[0m\u001b[1;33m,\u001b[0m \u001b[0mright\u001b[0m\u001b[1;33m)\u001b[0m\u001b[1;33m\u001b[0m\u001b[1;33m\u001b[0m\u001b[0m\n\u001b[0m\u001b[0;32m    150\u001b[0m     \u001b[1;32mexcept\u001b[0m \u001b[0mTypeError\u001b[0m\u001b[1;33m:\u001b[0m\u001b[1;33m\u001b[0m\u001b[1;33m\u001b[0m\u001b[0m\n",
      "\u001b[1;32m~\\AppData\\Local\\conda\\conda\\envs\\py36_tensorflow\\lib\\site-packages\\pandas\\core\\computation\\expressions.py\u001b[0m in \u001b[0;36mevaluate\u001b[1;34m(op, op_str, a, b, use_numexpr)\u001b[0m\n\u001b[0;32m    207\u001b[0m     \u001b[1;32mif\u001b[0m \u001b[0muse_numexpr\u001b[0m\u001b[1;33m:\u001b[0m\u001b[1;33m\u001b[0m\u001b[1;33m\u001b[0m\u001b[0m\n\u001b[1;32m--> 208\u001b[1;33m         \u001b[1;32mreturn\u001b[0m \u001b[0m_evaluate\u001b[0m\u001b[1;33m(\u001b[0m\u001b[0mop\u001b[0m\u001b[1;33m,\u001b[0m \u001b[0mop_str\u001b[0m\u001b[1;33m,\u001b[0m \u001b[0ma\u001b[0m\u001b[1;33m,\u001b[0m \u001b[0mb\u001b[0m\u001b[1;33m)\u001b[0m\u001b[1;33m\u001b[0m\u001b[1;33m\u001b[0m\u001b[0m\n\u001b[0m\u001b[0;32m    209\u001b[0m     \u001b[1;32mreturn\u001b[0m \u001b[0m_evaluate_standard\u001b[0m\u001b[1;33m(\u001b[0m\u001b[0mop\u001b[0m\u001b[1;33m,\u001b[0m \u001b[0mop_str\u001b[0m\u001b[1;33m,\u001b[0m \u001b[0ma\u001b[0m\u001b[1;33m,\u001b[0m \u001b[0mb\u001b[0m\u001b[1;33m)\u001b[0m\u001b[1;33m\u001b[0m\u001b[1;33m\u001b[0m\u001b[0m\n",
      "\u001b[1;32m~\\AppData\\Local\\conda\\conda\\envs\\py36_tensorflow\\lib\\site-packages\\pandas\\core\\computation\\expressions.py\u001b[0m in \u001b[0;36m_evaluate_standard\u001b[1;34m(op, op_str, a, b)\u001b[0m\n\u001b[0;32m     69\u001b[0m     \u001b[1;32mwith\u001b[0m \u001b[0mnp\u001b[0m\u001b[1;33m.\u001b[0m\u001b[0merrstate\u001b[0m\u001b[1;33m(\u001b[0m\u001b[0mall\u001b[0m\u001b[1;33m=\u001b[0m\u001b[1;34m\"ignore\"\u001b[0m\u001b[1;33m)\u001b[0m\u001b[1;33m:\u001b[0m\u001b[1;33m\u001b[0m\u001b[1;33m\u001b[0m\u001b[0m\n\u001b[1;32m---> 70\u001b[1;33m         \u001b[1;32mreturn\u001b[0m \u001b[0mop\u001b[0m\u001b[1;33m(\u001b[0m\u001b[0ma\u001b[0m\u001b[1;33m,\u001b[0m \u001b[0mb\u001b[0m\u001b[1;33m)\u001b[0m\u001b[1;33m\u001b[0m\u001b[1;33m\u001b[0m\u001b[0m\n\u001b[0m\u001b[0;32m     71\u001b[0m \u001b[1;33m\u001b[0m\u001b[0m\n",
      "\u001b[1;31mTypeError\u001b[0m: unsupported operand type(s) for -: 'str' and 'int'",
      "\nDuring handling of the above exception, another exception occurred:\n",
      "\u001b[1;31mTypeError\u001b[0m                                 Traceback (most recent call last)",
      "\u001b[1;32m<ipython-input-315-bff266ec2389>\u001b[0m in \u001b[0;36m<module>\u001b[1;34m\u001b[0m\n\u001b[0;32m      7\u001b[0m \u001b[0mn_samples\u001b[0m\u001b[1;33m,\u001b[0m\u001b[0mn_features\u001b[0m \u001b[1;33m=\u001b[0m \u001b[0mdata\u001b[0m\u001b[1;33m.\u001b[0m\u001b[0mshape\u001b[0m\u001b[1;33m\u001b[0m\u001b[1;33m\u001b[0m\u001b[0m\n\u001b[0;32m      8\u001b[0m \u001b[0my_range\u001b[0m \u001b[1;33m=\u001b[0m \u001b[0mnp\u001b[0m\u001b[1;33m.\u001b[0m\u001b[0mzeros\u001b[0m\u001b[1;33m(\u001b[0m\u001b[1;33m(\u001b[0m\u001b[0mn_features\u001b[0m\u001b[1;33m,\u001b[0m\u001b[1;36m2\u001b[0m\u001b[1;33m)\u001b[0m\u001b[1;33m)\u001b[0m\u001b[1;33m\u001b[0m\u001b[1;33m\u001b[0m\u001b[0m\n\u001b[1;32m----> 9\u001b[1;33m \u001b[0my_range\u001b[0m\u001b[1;33m[\u001b[0m\u001b[1;33m:\u001b[0m\u001b[1;33m,\u001b[0m\u001b[1;36m0\u001b[0m\u001b[1;33m]\u001b[0m \u001b[1;33m=\u001b[0m \u001b[0mnp\u001b[0m\u001b[1;33m.\u001b[0m\u001b[0mmin\u001b[0m\u001b[1;33m(\u001b[0m\u001b[0mdata\u001b[0m\u001b[1;33m,\u001b[0m \u001b[0maxis\u001b[0m\u001b[1;33m=\u001b[0m\u001b[1;36m0\u001b[0m\u001b[1;33m)\u001b[0m\u001b[1;33m-\u001b[0m\u001b[1;36m1\u001b[0m\u001b[1;33m\u001b[0m\u001b[1;33m\u001b[0m\u001b[0m\n\u001b[0m\u001b[0;32m     10\u001b[0m \u001b[0my_range\u001b[0m\u001b[1;33m[\u001b[0m\u001b[1;33m:\u001b[0m\u001b[1;33m,\u001b[0m\u001b[1;36m1\u001b[0m\u001b[1;33m]\u001b[0m \u001b[1;33m=\u001b[0m \u001b[0mnp\u001b[0m\u001b[1;33m.\u001b[0m\u001b[0mmax\u001b[0m\u001b[1;33m(\u001b[0m\u001b[0mdata\u001b[0m\u001b[1;33m,\u001b[0m \u001b[0maxis\u001b[0m\u001b[1;33m=\u001b[0m\u001b[1;36m0\u001b[0m\u001b[1;33m)\u001b[0m\u001b[1;33m+\u001b[0m\u001b[1;36m1\u001b[0m\u001b[1;33m\u001b[0m\u001b[1;33m\u001b[0m\u001b[0m\n\u001b[0;32m     11\u001b[0m \u001b[0mh\u001b[0m \u001b[1;33m=\u001b[0m \u001b[1;36m0.1\u001b[0m \u001b[1;31m# step size of the mash\u001b[0m\u001b[1;33m\u001b[0m\u001b[1;33m\u001b[0m\u001b[0m\n",
      "\u001b[1;32m~\\AppData\\Local\\conda\\conda\\envs\\py36_tensorflow\\lib\\site-packages\\pandas\\core\\ops\\common.py\u001b[0m in \u001b[0;36mnew_method\u001b[1;34m(self, other)\u001b[0m\n\u001b[0;32m     62\u001b[0m         \u001b[0mother\u001b[0m \u001b[1;33m=\u001b[0m \u001b[0mitem_from_zerodim\u001b[0m\u001b[1;33m(\u001b[0m\u001b[0mother\u001b[0m\u001b[1;33m)\u001b[0m\u001b[1;33m\u001b[0m\u001b[1;33m\u001b[0m\u001b[0m\n\u001b[0;32m     63\u001b[0m \u001b[1;33m\u001b[0m\u001b[0m\n\u001b[1;32m---> 64\u001b[1;33m         \u001b[1;32mreturn\u001b[0m \u001b[0mmethod\u001b[0m\u001b[1;33m(\u001b[0m\u001b[0mself\u001b[0m\u001b[1;33m,\u001b[0m \u001b[0mother\u001b[0m\u001b[1;33m)\u001b[0m\u001b[1;33m\u001b[0m\u001b[1;33m\u001b[0m\u001b[0m\n\u001b[0m\u001b[0;32m     65\u001b[0m \u001b[1;33m\u001b[0m\u001b[0m\n\u001b[0;32m     66\u001b[0m     \u001b[1;32mreturn\u001b[0m \u001b[0mnew_method\u001b[0m\u001b[1;33m\u001b[0m\u001b[1;33m\u001b[0m\u001b[0m\n",
      "\u001b[1;32m~\\AppData\\Local\\conda\\conda\\envs\\py36_tensorflow\\lib\\site-packages\\pandas\\core\\ops\\__init__.py\u001b[0m in \u001b[0;36mwrapper\u001b[1;34m(left, right)\u001b[0m\n\u001b[0;32m    501\u001b[0m         \u001b[0mlvalues\u001b[0m \u001b[1;33m=\u001b[0m \u001b[0mextract_array\u001b[0m\u001b[1;33m(\u001b[0m\u001b[0mleft\u001b[0m\u001b[1;33m,\u001b[0m \u001b[0mextract_numpy\u001b[0m\u001b[1;33m=\u001b[0m\u001b[1;32mTrue\u001b[0m\u001b[1;33m)\u001b[0m\u001b[1;33m\u001b[0m\u001b[1;33m\u001b[0m\u001b[0m\n\u001b[0;32m    502\u001b[0m         \u001b[0mrvalues\u001b[0m \u001b[1;33m=\u001b[0m \u001b[0mextract_array\u001b[0m\u001b[1;33m(\u001b[0m\u001b[0mright\u001b[0m\u001b[1;33m,\u001b[0m \u001b[0mextract_numpy\u001b[0m\u001b[1;33m=\u001b[0m\u001b[1;32mTrue\u001b[0m\u001b[1;33m)\u001b[0m\u001b[1;33m\u001b[0m\u001b[1;33m\u001b[0m\u001b[0m\n\u001b[1;32m--> 503\u001b[1;33m         \u001b[0mresult\u001b[0m \u001b[1;33m=\u001b[0m \u001b[0marithmetic_op\u001b[0m\u001b[1;33m(\u001b[0m\u001b[0mlvalues\u001b[0m\u001b[1;33m,\u001b[0m \u001b[0mrvalues\u001b[0m\u001b[1;33m,\u001b[0m \u001b[0mop\u001b[0m\u001b[1;33m,\u001b[0m \u001b[0mstr_rep\u001b[0m\u001b[1;33m)\u001b[0m\u001b[1;33m\u001b[0m\u001b[1;33m\u001b[0m\u001b[0m\n\u001b[0m\u001b[0;32m    504\u001b[0m \u001b[1;33m\u001b[0m\u001b[0m\n\u001b[0;32m    505\u001b[0m         \u001b[1;32mreturn\u001b[0m \u001b[0m_construct_result\u001b[0m\u001b[1;33m(\u001b[0m\u001b[0mleft\u001b[0m\u001b[1;33m,\u001b[0m \u001b[0mresult\u001b[0m\u001b[1;33m,\u001b[0m \u001b[0mindex\u001b[0m\u001b[1;33m=\u001b[0m\u001b[0mleft\u001b[0m\u001b[1;33m.\u001b[0m\u001b[0mindex\u001b[0m\u001b[1;33m,\u001b[0m \u001b[0mname\u001b[0m\u001b[1;33m=\u001b[0m\u001b[0mres_name\u001b[0m\u001b[1;33m)\u001b[0m\u001b[1;33m\u001b[0m\u001b[1;33m\u001b[0m\u001b[0m\n",
      "\u001b[1;32m~\\AppData\\Local\\conda\\conda\\envs\\py36_tensorflow\\lib\\site-packages\\pandas\\core\\ops\\array_ops.py\u001b[0m in \u001b[0;36marithmetic_op\u001b[1;34m(left, right, op, str_rep)\u001b[0m\n\u001b[0;32m    195\u001b[0m     \u001b[1;32melse\u001b[0m\u001b[1;33m:\u001b[0m\u001b[1;33m\u001b[0m\u001b[1;33m\u001b[0m\u001b[0m\n\u001b[0;32m    196\u001b[0m         \u001b[1;32mwith\u001b[0m \u001b[0mnp\u001b[0m\u001b[1;33m.\u001b[0m\u001b[0merrstate\u001b[0m\u001b[1;33m(\u001b[0m\u001b[0mall\u001b[0m\u001b[1;33m=\u001b[0m\u001b[1;34m\"ignore\"\u001b[0m\u001b[1;33m)\u001b[0m\u001b[1;33m:\u001b[0m\u001b[1;33m\u001b[0m\u001b[1;33m\u001b[0m\u001b[0m\n\u001b[1;32m--> 197\u001b[1;33m             \u001b[0mres_values\u001b[0m \u001b[1;33m=\u001b[0m \u001b[0mna_arithmetic_op\u001b[0m\u001b[1;33m(\u001b[0m\u001b[0mlvalues\u001b[0m\u001b[1;33m,\u001b[0m \u001b[0mrvalues\u001b[0m\u001b[1;33m,\u001b[0m \u001b[0mop\u001b[0m\u001b[1;33m,\u001b[0m \u001b[0mstr_rep\u001b[0m\u001b[1;33m)\u001b[0m\u001b[1;33m\u001b[0m\u001b[1;33m\u001b[0m\u001b[0m\n\u001b[0m\u001b[0;32m    198\u001b[0m \u001b[1;33m\u001b[0m\u001b[0m\n\u001b[0;32m    199\u001b[0m     \u001b[1;32mreturn\u001b[0m \u001b[0mres_values\u001b[0m\u001b[1;33m\u001b[0m\u001b[1;33m\u001b[0m\u001b[0m\n",
      "\u001b[1;32m~\\AppData\\Local\\conda\\conda\\envs\\py36_tensorflow\\lib\\site-packages\\pandas\\core\\ops\\array_ops.py\u001b[0m in \u001b[0;36mna_arithmetic_op\u001b[1;34m(left, right, op, str_rep)\u001b[0m\n\u001b[0;32m    149\u001b[0m         \u001b[0mresult\u001b[0m \u001b[1;33m=\u001b[0m \u001b[0mexpressions\u001b[0m\u001b[1;33m.\u001b[0m\u001b[0mevaluate\u001b[0m\u001b[1;33m(\u001b[0m\u001b[0mop\u001b[0m\u001b[1;33m,\u001b[0m \u001b[0mstr_rep\u001b[0m\u001b[1;33m,\u001b[0m \u001b[0mleft\u001b[0m\u001b[1;33m,\u001b[0m \u001b[0mright\u001b[0m\u001b[1;33m)\u001b[0m\u001b[1;33m\u001b[0m\u001b[1;33m\u001b[0m\u001b[0m\n\u001b[0;32m    150\u001b[0m     \u001b[1;32mexcept\u001b[0m \u001b[0mTypeError\u001b[0m\u001b[1;33m:\u001b[0m\u001b[1;33m\u001b[0m\u001b[1;33m\u001b[0m\u001b[0m\n\u001b[1;32m--> 151\u001b[1;33m         \u001b[0mresult\u001b[0m \u001b[1;33m=\u001b[0m \u001b[0mmasked_arith_op\u001b[0m\u001b[1;33m(\u001b[0m\u001b[0mleft\u001b[0m\u001b[1;33m,\u001b[0m \u001b[0mright\u001b[0m\u001b[1;33m,\u001b[0m \u001b[0mop\u001b[0m\u001b[1;33m)\u001b[0m\u001b[1;33m\u001b[0m\u001b[1;33m\u001b[0m\u001b[0m\n\u001b[0m\u001b[0;32m    152\u001b[0m \u001b[1;33m\u001b[0m\u001b[0m\n\u001b[0;32m    153\u001b[0m     \u001b[1;32mreturn\u001b[0m \u001b[0mmissing\u001b[0m\u001b[1;33m.\u001b[0m\u001b[0mdispatch_fill_zeros\u001b[0m\u001b[1;33m(\u001b[0m\u001b[0mop\u001b[0m\u001b[1;33m,\u001b[0m \u001b[0mleft\u001b[0m\u001b[1;33m,\u001b[0m \u001b[0mright\u001b[0m\u001b[1;33m,\u001b[0m \u001b[0mresult\u001b[0m\u001b[1;33m)\u001b[0m\u001b[1;33m\u001b[0m\u001b[1;33m\u001b[0m\u001b[0m\n",
      "\u001b[1;32m~\\AppData\\Local\\conda\\conda\\envs\\py36_tensorflow\\lib\\site-packages\\pandas\\core\\ops\\array_ops.py\u001b[0m in \u001b[0;36mmasked_arith_op\u001b[1;34m(x, y, op)\u001b[0m\n\u001b[0;32m    110\u001b[0m         \u001b[1;32mif\u001b[0m \u001b[0mmask\u001b[0m\u001b[1;33m.\u001b[0m\u001b[0many\u001b[0m\u001b[1;33m(\u001b[0m\u001b[1;33m)\u001b[0m\u001b[1;33m:\u001b[0m\u001b[1;33m\u001b[0m\u001b[1;33m\u001b[0m\u001b[0m\n\u001b[0;32m    111\u001b[0m             \u001b[1;32mwith\u001b[0m \u001b[0mnp\u001b[0m\u001b[1;33m.\u001b[0m\u001b[0merrstate\u001b[0m\u001b[1;33m(\u001b[0m\u001b[0mall\u001b[0m\u001b[1;33m=\u001b[0m\u001b[1;34m\"ignore\"\u001b[0m\u001b[1;33m)\u001b[0m\u001b[1;33m:\u001b[0m\u001b[1;33m\u001b[0m\u001b[1;33m\u001b[0m\u001b[0m\n\u001b[1;32m--> 112\u001b[1;33m                 \u001b[0mresult\u001b[0m\u001b[1;33m[\u001b[0m\u001b[0mmask\u001b[0m\u001b[1;33m]\u001b[0m \u001b[1;33m=\u001b[0m \u001b[0mop\u001b[0m\u001b[1;33m(\u001b[0m\u001b[0mxrav\u001b[0m\u001b[1;33m[\u001b[0m\u001b[0mmask\u001b[0m\u001b[1;33m]\u001b[0m\u001b[1;33m,\u001b[0m \u001b[0my\u001b[0m\u001b[1;33m)\u001b[0m\u001b[1;33m\u001b[0m\u001b[1;33m\u001b[0m\u001b[0m\n\u001b[0m\u001b[0;32m    113\u001b[0m \u001b[1;33m\u001b[0m\u001b[0m\n\u001b[0;32m    114\u001b[0m     \u001b[0mresult\u001b[0m\u001b[1;33m,\u001b[0m \u001b[0m_\u001b[0m \u001b[1;33m=\u001b[0m \u001b[0mmaybe_upcast_putmask\u001b[0m\u001b[1;33m(\u001b[0m\u001b[0mresult\u001b[0m\u001b[1;33m,\u001b[0m \u001b[1;33m~\u001b[0m\u001b[0mmask\u001b[0m\u001b[1;33m,\u001b[0m \u001b[0mnp\u001b[0m\u001b[1;33m.\u001b[0m\u001b[0mnan\u001b[0m\u001b[1;33m)\u001b[0m\u001b[1;33m\u001b[0m\u001b[1;33m\u001b[0m\u001b[0m\n",
      "\u001b[1;31mTypeError\u001b[0m: unsupported operand type(s) for -: 'str' and 'int'"
     ]
    }
   ],
   "source": [
    "# Define the number of inliers and outliers\n",
    "outliers_fraction = 0.20\n",
    "clusters_separation = [0]\n",
    "\n",
    "# Compare given detectors under given settings\n",
    "# Initialize the data\n",
    "n_samples,n_features = data_std.shape\n",
    "y_range = np.zeros((n_features,2))\n",
    "y_range[:,0] = np.min(data_std, axis=0)-1\n",
    "y_range[:,1] = np.max(data_std, axis=0)+1\n",
    "h = 0.1 # step size of the mash\n",
    "x_min,x_max = y_range[0]\n",
    "y_min,y_max = y_range[1]\n",
    "xx,yy = np.meshgrid(np.arange(x_min,x_max,h),\n",
    "                    np.arange(y_min,y_max,h))\n",
    "n_inliers = int((1. - outliers_fraction) * n_samples)\n",
    "n_outliers = int(outliers_fraction * n_samples)\n",
    "ground_truth = np.zeros(n_samples, dtype=int)\n",
    "ground_truth[-n_outliers:] = 1\n",
    "\n",
    "# initialize a set of detectors for LSCP\n",
    "detector_list = [LOF(n_neighbors=5), LOF(n_neighbors=10), LOF(n_neighbors=15),\n",
    "                 LOF(n_neighbors=20), LOF(n_neighbors=25), LOF(n_neighbors=30),\n",
    "                 LOF(n_neighbors=35), LOF(n_neighbors=40), LOF(n_neighbors=45),\n",
    "                 LOF(n_neighbors=50)]"
   ]
  },
  {
   "cell_type": "code",
   "execution_count": null,
   "metadata": {},
   "outputs": [],
   "source": []
  },
  {
   "cell_type": "markdown",
   "metadata": {},
   "source": [
    "### PCA"
   ]
  },
  {
   "cell_type": "code",
   "execution_count": 311,
   "metadata": {
    "ExecuteTime": {
     "end_time": "2020-03-19T07:22:00.791143Z",
     "start_time": "2020-03-19T07:22:00.787157Z"
    }
   },
   "outputs": [],
   "source": [
    "pca = PCA(random_state=42,outliers_fraction=0.2)"
   ]
  },
  {
   "cell_type": "code",
   "execution_count": 312,
   "metadata": {
    "ExecuteTime": {
     "end_time": "2020-03-19T07:22:02.330616Z",
     "start_time": "2020-03-19T07:22:02.312368Z"
    }
   },
   "outputs": [
    {
     "data": {
      "text/plain": [
       "PCA(contamination=0.1, copy=True, iterated_power='auto', n_components=None,\n",
       "  n_selected_components=None, random_state=42, standardization=True,\n",
       "  svd_solver='auto', tol=0.0, weighted=True, whiten=False)"
      ]
     },
     "execution_count": 312,
     "metadata": {},
     "output_type": "execute_result"
    }
   ],
   "source": [
    "pca.fit(data_std)"
   ]
  },
  {
   "cell_type": "code",
   "execution_count": null,
   "metadata": {},
   "outputs": [],
   "source": []
  },
  {
   "cell_type": "markdown",
   "metadata": {},
   "source": [
    "### MCD"
   ]
  },
  {
   "cell_type": "markdown",
   "metadata": {},
   "source": [
    "最小协方差行列式，使用mahalanobis距离作为数据的离群度，种鲁棒性很强的位置和分布估计算法，并且可以通过FAST-MCD方法高效计算\n",
    "assume_centered（bool）\n",
    "True，则计算鲁棒位置和协方差估计的支持，并从中重新计算协方差估计，而不使数据居中。用于处理平均值显着等于零但不完全为零的数据。\n",
    "False，则使用FastMCD算法直接计算稳健位置和协方差，无需额外处理"
   ]
  },
  {
   "cell_type": "code",
   "execution_count": null,
   "metadata": {},
   "outputs": [],
   "source": [
    "from sklearn.covariance import EmpiricalCovariance, MinCovDet\n"
   ]
  },
  {
   "cell_type": "markdown",
   "metadata": {},
   "source": [
    "### OneClassSVM"
   ]
  },
  {
   "cell_type": "markdown",
   "metadata": {},
   "source": [
    "OneCLassSVM不是一种outlier detection，而是一种novelty detection方法：它的训练集不应该掺杂异常点，因为模型可能会去匹配这些异常点。但在数据维度很高，或者对相关数据分布没有任何假设的情况下，OneClassSVM也可以作为一种很好的outlier detection方法。"
   ]
  },
  {
   "cell_type": "code",
   "execution_count": 245,
   "metadata": {
    "ExecuteTime": {
     "end_time": "2020-03-19T06:20:43.782110Z",
     "start_time": "2020-03-19T06:20:43.463964Z"
    },
    "code_folding": [
     3,
     7
    ]
   },
   "outputs": [
    {
     "data": {
      "text/plain": [
       "<matplotlib.collections.PathCollection at 0x160228fd710>"
      ]
     },
     "execution_count": 245,
     "metadata": {},
     "output_type": "execute_result"
    },
    {
     "data": {
      "image/png": "[encoded data removed]",
      "text/plain": [
       "<Figure size 432x288 with 1 Axes>"
      ]
     },
     "metadata": {
      "needs_background": "light"
     },
     "output_type": "display_data"
    }
   ],
   "source": [
    "nu = 0.05\n",
    "ocsvm = OneClassSVM(kernel='rbf',gamma=0.05, nu=nu)\n",
    "ocsvm.fit(y)\n",
    "y_outliers = y[ocsvm.predict(y)==-1]\n",
    "Z_ocsvm = ocsvm.decision_function(grid)\n",
    "Z_ocsvm = Z_ocsvm.reshape(xx.shape)\n",
    "plt.figure()\n",
    "c_0 = plt.contour(xx,yy,Z_ocsvm,levels=[0],colors='red', linewidths=3)\n",
    "plt.clabel(c_0,inline=1,fontsize=15,fmt={0:str(alpha_set)})\n",
    "plt.scatter(y['iActual2_rolling_ewma'],y['pha2_rolling_ewma'])\n",
    "plt.scatter(y_outliers['iActual2_rolling_ewma'],y_outliers['pha2_rolling_ewma'],color='red')"
   ]
  },
  {
   "cell_type": "markdown",
   "metadata": {},
   "source": [
    "## 基于邻近度的模型"
   ]
  },
  {
   "cell_type": "markdown",
   "metadata": {},
   "source": [
    "### LOF"
   ]
  },
  {
   "cell_type": "markdown",
   "metadata": {},
   "source": [
    "局部离群因子的异常检测算法LOF，它首先产生所有点的MinPts邻域及 MinPts距离，并计算到其中每个点的距离；对低维数据，利用网格进行k－NN查询，计算时间为O(n)；对中维或中高维数据，采用如X2树等索引结构，使得进行k2NN查询的时间为O(logn)，整个计算时间为O(nlogn)；对特高维数据，索引结构不再有效，时间复杂度提高到O(n2 )。然后计算每个点的局部异常因子，最后根据局部异常因子来挖掘离群。LOF算法中，离群点被定义为相对于全局的局部离群点，这与传统离群的定义不同，离群不再是一个二值属性(要么是离群点，要么是正常点),它摈弃了以前所有的异常定义中非此即彼的绝对异常观念，更加符合现实生活中的应用。基于密度检测方法。可量化每个数据点的异常程度。适用中等高维数据"
   ]
  },
  {
   "cell_type": "markdown",
   "metadata": {},
   "source": [
    "### CBLOF"
   ]
  },
  {
   "cell_type": "markdown",
   "metadata": {},
   "source": [
    "COF使用数据点的平均链接距离与数据点的k最近邻居的平均链接距离的平均值的比率作为观察的离群值得分。"
   ]
  },
  {
   "cell_type": "markdown",
   "metadata": {},
   "source": [
    "### KNN"
   ]
  },
  {
   "cell_type": "markdown",
   "metadata": {},
   "source": [
    "### HBOS"
   ]
  },
  {
   "cell_type": "markdown",
   "metadata": {},
   "source": [
    "## 概率模型"
   ]
  },
  {
   "cell_type": "markdown",
   "metadata": {},
   "source": [
    "### ABOD"
   ]
  },
  {
   "cell_type": "markdown",
   "metadata": {},
   "source": [
    "## 集成框架"
   ]
  },
  {
   "cell_type": "markdown",
   "metadata": {},
   "source": [
    "### IsolationForest"
   ]
  },
  {
   "cell_type": "markdown",
   "metadata": {
    "ExecuteTime": {
     "end_time": "2020-03-19T09:03:24.696082Z",
     "start_time": "2020-03-19T09:03:24.613304Z"
    }
   },
   "source": [
    "孤立森林是一个高效的异常点检测算法"
   ]
  },
  {
   "cell_type": "code",
   "execution_count": 244,
   "metadata": {
    "ExecuteTime": {
     "end_time": "2020-03-19T06:20:43.460969Z",
     "start_time": "2020-03-19T06:20:42.603195Z"
    }
   },
   "outputs": [
    {
     "data": {
      "text/plain": [
       "<matplotlib.collections.PathCollection at 0x16022898860>"
      ]
     },
     "execution_count": 244,
     "metadata": {},
     "output_type": "execute_result"
    },
    {
     "data": {
      "image/png": "[encoded data removed]",
      "text/plain": [
       "<Figure size 432x288 with 1 Axes>"
      ]
     },
     "metadata": {
      "needs_background": "light"
     },
     "output_type": "display_data"
    }
   ],
   "source": [
    "iforest = IsolationForest(n_estimators=300,contamination=0.10)\n",
    "iforest = iforest.fit(y)\n",
    "\n",
    "Z_iforest = iforest.decision_function(grid)\n",
    "Z_iforest = Z_iforest.reshape(xx.shape)\n",
    "\n",
    "plt.figure()\n",
    "c_0 = plt.contour(xx,yy,Z_iforest,\n",
    "                  levels=[iforest.threshold_],\n",
    "                  colors='red',linewidth=3)\n",
    "plt.clabel(c_0,inline=1, fontsize=15,\n",
    "           fmt={iforest.threshold_:str(alpha_set)})\n",
    "plt.scatter(y['iActual2_rolling_ewma'],y['pha2_rolling_ewma'],s=1.)"
   ]
  },
  {
   "cell_type": "code",
   "execution_count": 314,
   "metadata": {
    "ExecuteTime": {
     "end_time": "2020-03-19T09:42:47.734048Z",
     "start_time": "2020-03-19T09:42:46.799037Z"
    }
   },
   "outputs": [
    {
     "data": {
      "image/png": "[encoded data removed]",
      "text/plain": [
       "<Figure size 432x288 with 1 Axes>"
      ]
     },
     "metadata": {
      "needs_background": "light"
     },
     "output_type": "display_data"
    }
   ],
   "source": [
    "import numpy as np\n",
    "import matplotlib.pyplot as plt\n",
    "from sklearn.ensemble import IsolationForest\n",
    "\n",
    "rng = np.random.RandomState(42)\n",
    "\n",
    "# 构造训练样本\n",
    "n_samples = 200  #样本总数\n",
    "outliers_fraction = 0.25  #异常样本比例\n",
    "n_inliers = int((1. - outliers_fraction) * n_samples)\n",
    "n_outliers = int(outliers_fraction * n_samples)\n",
    "\n",
    "X = 0.3 * rng.randn(n_inliers // 2, 2)\n",
    "X_train = np.r_[X + 2, X - 2]   #正常样本\n",
    "X_train = np.r_[X_train, np.random.uniform(low=-6, high=6, size=(n_outliers, 2))]  #正常样本加上异常样本\n",
    "\n",
    "# 构造模型并拟合\n",
    "clf = IsolationForest(max_samples=n_samples, random_state=rng, contamination=outliers_fraction)\n",
    "clf.fit(X_train)\n",
    "# 计算得分并设置阈值\n",
    "scores_pred = clf.decision_function(X_train)\n",
    "threshold = np.percentile(scores_pred, 100 * outliers_fraction)  #根据训练样本中异常样本比例，得到阈值，用于绘图\n",
    "\n",
    "# plot the line, the samples, and the nearest vectors to the plane\n",
    "xx, yy = np.meshgrid(np.linspace(-7, 7, 50), np.linspace(-7, 7, 50))\n",
    "Z = clf.decision_function(np.c_[xx.ravel(), yy.ravel()])\n",
    "Z = Z.reshape(xx.shape)\n",
    "\n",
    "plt.title(\"IsolationForest\")\n",
    "# plt.contourf(xx, yy, Z, cmap=plt.cm.Blues_r)\n",
    "plt.contourf(xx, yy, Z, levels=np.linspace(Z.min(), threshold, 7), cmap=plt.cm.Blues_r)  #绘制异常点区域，值从最小的到阈值的那部分\n",
    "a = plt.contour(xx, yy, Z, levels=[threshold], linewidths=2, colors='red')  #绘制异常点区域和正常点区域的边界\n",
    "plt.contourf(xx, yy, Z, levels=[threshold, Z.max()], colors='palevioletred')  #绘制正常点区域，值从阈值到最大的那部分\n",
    "\n",
    "b = plt.scatter(X_train[:-n_outliers, 0], X_train[:-n_outliers, 1], c='white',\n",
    "                    s=20, edgecolor='k')\n",
    "c = plt.scatter(X_train[-n_outliers:, 0], X_train[-n_outliers:, 1], c='black',\n",
    "                    s=20, edgecolor='k')\n",
    "plt.axis('tight')\n",
    "plt.xlim((-7, 7))\n",
    "plt.ylim((-7, 7))\n",
    "plt.legend([a.collections[0], b, c],\n",
    "           ['learned decision function', 'true inliers', 'true outliers'],\n",
    "           loc=\"upper left\")\n",
    "plt.show()"
   ]
  },
  {
   "cell_type": "markdown",
   "metadata": {},
   "source": [
    "### Feature Bagging"
   ]
  },
  {
   "cell_type": "markdown",
   "metadata": {},
   "source": [
    "### LSCP"
   ]
  },
  {
   "cell_type": "markdown",
   "metadata": {},
   "source": [
    "## 基于密度估计的异常检测"
   ]
  },
  {
   "cell_type": "code",
   "execution_count": 243,
   "metadata": {
    "ExecuteTime": {
     "end_time": "2020-03-19T06:20:42.600200Z",
     "start_time": "2020-03-19T06:20:42.173346Z"
    },
    "code_folding": []
   },
   "outputs": [
    {
     "data": {
      "text/plain": [
       "<matplotlib.collections.PathCollection at 0x16022835400>"
      ]
     },
     "execution_count": 243,
     "metadata": {},
     "output_type": "execute_result"
    },
    {
     "data": {
      "image/png": "[encoded data removed]",
      "text/plain": [
       "<Figure size 432x288 with 1 Axes>"
      ]
     },
     "metadata": {
      "needs_background": "light"
     },
     "output_type": "display_data"
    }
   ],
   "source": [
    "y = data[[ 'iActual2_rolling_ewma', 'pha2_rolling_ewma']]\n",
    "\n",
    "kde = KernelDensity(kernel='gaussian')\n",
    "kde = kde.fit(y)\n",
    "kde_X = kde.score_samples(y)\n",
    "\n",
    "alpha_set = 0.95\n",
    "tau_kde = mquantiles(kde_X,1.-alpha_set)\n",
    "n_samples,n_features = y.shape\n",
    "y_range = np.zeros((n_features,2))\n",
    "y_range[:,0] = np.min(y, axis=0)-1\n",
    "y_range[:,1] = np.max(y, axis=0)+1\n",
    "h = 0.1 # step size of the mash\n",
    "x_min,x_max = y_range[0]\n",
    "y_min,y_max = y_range[1]\n",
    "xx,yy = np.meshgrid(np.arange(x_min,x_max,h),\n",
    "                    np.arange(y_min,y_max,h))\n",
    "\n",
    "grid = np.c_[xx.ravel(),yy.ravel()]\n",
    "Z_kde = kde.score_samples(grid)\n",
    "Z_kde = Z_kde.reshape(xx.shape)\n",
    "plt.figure()\n",
    "c_0 = plt.contour(xx,yy,Z_kde,levels=tau_kde, colors='red',linewidth=3)\n",
    "plt.clabel(c_0,inline=1,fontsize=15,fmt={tau_kde[0]:str(alpha_set)})\n",
    "plt.scatter(y['iActual2_rolling_ewma'],y['pha2_rolling_ewma'])"
   ]
  },
  {
   "cell_type": "markdown",
   "metadata": {},
   "source": [
    "## Autoencoder"
   ]
  },
  {
   "cell_type": "markdown",
   "metadata": {},
   "source": [
    "# 参考资料"
   ]
  },
  {
   "cell_type": "raw",
   "metadata": {},
   "source": [
    "1.https://www.jianshu.com/p/de2f7d333b9f\n",
    "\n",
    "2.Friedrich et al. (2000): Physics Letters A 271, p. 217-222 Extracting model equations from experimental data\n",
    "\n",
    "3.https://blog.csdn.net/FrankieHello/article/details/80480511\n",
    "\n",
    "4.https://github.com/yzhao062/pyod"
   ]
  }
 ],
 "metadata": {
  "hide_input": false,
  "kernelspec": {
   "display_name": "Python 3",
   "language": "python",
   "name": "python3"
  },
  "toc": {
   "base_numbering": 1,
   "nav_menu": {},
   "number_sections": true,
   "sideBar": true,
   "skip_h1_title": false,
   "title_cell": "Table of Contents",
   "title_sidebar": "Contents",
   "toc_cell": false,
   "toc_position": {
    "height": "calc(100% - 180px)",
    "left": "10px",
    "top": "150px",
    "width": "352px"
   },
   "toc_section_display": true,
   "toc_window_display": true
  },
  "varInspector": {
   "cols": {
    "lenName": 16,
    "lenType": 16,
    "lenVar": 40
   },
   "kernels_config": {
    "python": {
     "delete_cmd_postfix": "",
     "delete_cmd_prefix": "del ",
     "library": "var_list.py",
     "varRefreshCmd": "print(var_dic_list())"
    },
    "r": {
     "delete_cmd_postfix": ") ",
     "delete_cmd_prefix": "rm(",
     "library": "var_list.r",
     "varRefreshCmd": "cat(var_dic_list()) "
    }
   },
   "oldHeight": 633,
   "position": {
    "height": "40px",
    "left": "932px",
    "right": "20px",
    "top": "120px",
    "width": "352px"
   },
   "types_to_exclude": [
    "module",
    "function",
    "builtin_function_or_method",
    "instance",
    "_Feature"
   ],
   "varInspector_section_display": "none",
   "window_display": false
  }
 },
 "nbformat": 4,
 "nbformat_minor": 2
}
